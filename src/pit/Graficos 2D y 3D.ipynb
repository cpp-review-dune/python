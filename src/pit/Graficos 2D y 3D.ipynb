{
 "cells": [
  {
   "cell_type": "markdown",
   "metadata": {
    "id": "SbFKrsSySriG"
   },
   "source": [
    "# Python para Ingeniería\n",
    "## Gráficos 2D\n",
    "Profesor: **Juan Luis Herencia Guerra** <br>\n",
    "Email: **jherenciag@uni.edu.pe**"
   ]
  },
  {
   "cell_type": "markdown",
   "metadata": {
    "id": "oJNiVednWRJI"
   },
   "source": [
    "### Capa artística\n",
    "Usando turtle\n",
    "[Documentación de Turtle](https://docs.python.org/3/library/turtle.html)"
   ]
  },
  {
   "cell_type": "code",
   "execution_count": null,
   "metadata": {
    "id": "gaa1hKc0SyDu"
   },
   "outputs": [],
   "source": [
    "from mpl_toolkits import mplot3d\n",
    "import matplotlib\n",
    "import numpy as np\n",
    "import matplotlib.pyplot as plt\n",
    "from random import randint\n",
    "import ColabTurtle.Turtle as turtle\n",
    "from ColabTurtle.Turtle import *\n",
    "!pip3 install ColabTurtle"
   ]
  },
  {
   "cell_type": "code",
   "source": [
    "# Cargar librerías"
   ],
   "metadata": {
    "id": "nUrB1vZESzSX"
   },
   "execution_count": null,
   "outputs": []
  },
  {
   "cell_type": "code",
   "execution_count": null,
   "metadata": {
    "id": "xCVRMZtqTCaD"
   },
   "outputs": [],
   "source": [
    "# Inicializar\n",
    "def inicializar(ancho=4):\n",
    "    initializeTurtle()\n",
    "    penup()  # levantar lapiz\n",
    "    goto(300, 100)  # ubicarse en\n",
    "    pendown()  # poner lapiz\n",
    "    # por defecto se apunta hacia arriba, voltear 90° a la derecha\n",
    "    turtle.right(90)\n",
    "    pensize(ancho)\n",
    "\n",
    "# Dibujar poligonos desde n lados\n",
    "\n",
    "\n",
    "def dibujar_poligono(num_sides=4, lado=100):\n",
    "    turtle.color(randint(0, 255), randint(0, 255), randint(0, 255))\n",
    "    for i in range(num_sides):\n",
    "        angle = 360/num_sides\n",
    "        turtle.forward(lado)\n",
    "        turtle.right(angle)"
   ]
  },
  {
   "cell_type": "code",
   "execution_count": null,
   "metadata": {
    "id": "XN-teqd4TFZb"
   },
   "outputs": [],
   "source": [
    "# Ubicar a la tortuga\n",
    "inicializar()"
   ]
  },
  {
   "cell_type": "code",
   "execution_count": null,
   "metadata": {
    "id": "tYLI6ErpW2oU"
   },
   "outputs": [],
   "source": [
    "# Dibujar un cuadrado\n",
    "dibujar_poligono()"
   ]
  },
  {
   "cell_type": "code",
   "execution_count": null,
   "metadata": {
    "id": "ZMOdrdigZm-a"
   },
   "outputs": [],
   "source": [
    "# Dibujar un pentagono de lado 150\n",
    "inicializar()\n",
    "dibujar_poligono(5, 150)"
   ]
  },
  {
   "cell_type": "code",
   "execution_count": null,
   "metadata": {
    "id": "rgO3J6ymZ5aJ"
   },
   "outputs": [],
   "source": [
    "# Dibujar cuadrados\n",
    "inicializar()\n",
    "speed(10)\n",
    "for i in range(10):\n",
    "    dibujar_poligono(lado=i*20)"
   ]
  },
  {
   "cell_type": "code",
   "execution_count": null,
   "metadata": {
    "id": "moTEZjo9Th2A"
   },
   "outputs": [],
   "source": [
    "# Fractal del copo de nieve\n",
    "inicializar(1)\n",
    "\n",
    "# Copo de nieve\n",
    "\n",
    "\n",
    "def snowflake(size):\n",
    "    hideturtle()\n",
    "    if size < 10:\n",
    "        forward(size)\n",
    "    else:\n",
    "        snowflake(size//3)\n",
    "        left(60)\n",
    "        snowflake(size//3)\n",
    "        right(120)\n",
    "        snowflake(size//3)\n",
    "        left(60)\n",
    "        snowflake(size//3)\n",
    "\n",
    "\n",
    "speed(13)\n",
    "for i in range(3):\n",
    "    snowflake(200)\n",
    "    right(120)"
   ]
  },
  {
   "cell_type": "code",
   "source": [],
   "metadata": {
    "id": "huLuuRysT0Bv"
   },
   "execution_count": null,
   "outputs": []
  },
  {
   "cell_type": "code",
   "source": [
    "MINIMUM_BRANCH_LENGTH = 5\n",
    "inicializar(1)\n",
    "speed(10)\n",
    "\n",
    "\n",
    "def build_tree(t, branch_length, shorten_by, angle):\n",
    "    if branch_length > MINIMUM_BRANCH_LENGTH:\n",
    "        t.forward(branch_length)\n",
    "        new_length = branch_length - shorten_by\n",
    "        t.left(angle)\n",
    "        build_tree(t, new_length, shorten_by, angle)\n",
    "        t.right(angle * 2)\n",
    "        build_tree(t, new_length, shorten_by, angle)\n",
    "        t.left(angle)\n",
    "        t.backward(branch_length)\n",
    "\n",
    "\n",
    "turtle.hideturtle()\n",
    "turtle.setheading(90)\n",
    "turtle.color('green')\n",
    "build_tree(turtle, 50, 5, 30)"
   ],
   "metadata": {
    "id": "k4nD20qpTuk3"
   },
   "execution_count": null,
   "outputs": []
  },
  {
   "cell_type": "markdown",
   "metadata": {
    "id": "uWojRI1xed1z"
   },
   "source": [
    "Mas información en\n",
    "[Turtle Python](https://docs.python.org/es/dev/library/turtle.html)"
   ]
  },
  {
   "cell_type": "markdown",
   "metadata": {
    "id": "o7sOwZd1esen"
   },
   "source": [
    "### Gráficos Matemáticos\n",
    "Matplotlib \n",
    "\n",
    "[Acerca de Matplotlib](https://matplotlib.org/stable/tutorials/index.html)"
   ]
  },
  {
   "cell_type": "code",
   "execution_count": null,
   "metadata": {
    "id": "6Xgrk6UBeziN"
   },
   "outputs": [],
   "source": [
    "%matplotlib inline"
   ]
  },
  {
   "cell_type": "code",
   "execution_count": null,
   "metadata": {
    "id": "pHOIfSiyP3TK"
   },
   "outputs": [],
   "source": [
    "# En blanco\n",
    "fig, ax = plt.subplots(figsize=(8, 4))  # (ancho, altura) en pulgadas"
   ]
  },
  {
   "cell_type": "code",
   "execution_count": null,
   "metadata": {
    "id": "pvog6HCOQUIn"
   },
   "outputs": [],
   "source": [
    "fig.set_facecolor('skyblue')  # cielo azul\n",
    "ax.set_facecolor('yellow')   # fondo de trama gráfica\n",
    "ax.set_title('Mi gráfico en MatPlotLib')\n",
    "ax.set_xlabel('Eje x')\n",
    "ax.set_ylabel('Eje y')\n",
    "ax.set_xlim(-3.14, 3.14)\n",
    "ax.set_ylim(5, 10)\n",
    "fig"
   ]
  },
  {
   "cell_type": "code",
   "execution_count": null,
   "metadata": {
    "id": "O82dsVgmSVXT"
   },
   "outputs": [],
   "source": [
    "# Indicar/resaltar puntos\n",
    "ax.set_xticks([-2, 0, 1])\n",
    "ax.set_xticklabels(['maximo', 'inflexión', 'NN'])\n",
    "fig"
   ]
  },
  {
   "cell_type": "code",
   "source": [
    "# Con rejilla\n",
    "ax.set_xticks([-2, 0, 1])\n",
    "ax.set_xticklabels(['maximo', 'inflexión', 'NN'])\n",
    "ax.grid(True)  # axis = 'x' or axis = 'y'\n",
    "fig"
   ],
   "metadata": {
    "id": "chxOoW5Eacy5"
   },
   "execution_count": null,
   "outputs": []
  },
  {
   "cell_type": "markdown",
   "metadata": {
    "id": "B75PDfy8TFw9"
   },
   "source": [
    "**Ploteo básico**"
   ]
  },
  {
   "cell_type": "code",
   "execution_count": null,
   "metadata": {
    "id": "hHfnrNxETK7t"
   },
   "outputs": [],
   "source": [
    "x = [-3.14, -2.5, -1, 2, 3]\n",
    "y = [10, 8, 5, 7, 9]\n",
    "ax.plot(x, y)\n",
    "fig"
   ]
  },
  {
   "cell_type": "code",
   "execution_count": null,
   "metadata": {
    "id": "8a4QzmqiTuVw"
   },
   "outputs": [],
   "source": [
    "# Agregar un gráfico\n",
    "x = [-3.14, -2, -1, 0, 1, 2.5, 3]\n",
    "y = [10, 8, 5, 7, 9, 7, 6]\n",
    "ax.plot(x, y, color='blue')\n",
    "fig"
   ]
  },
  {
   "cell_type": "code",
   "execution_count": null,
   "metadata": {
    "id": "JW7y8bPoUIwc"
   },
   "outputs": [],
   "source": [
    "ax.legend(['Uno', 'Dos'])\n",
    "fig"
   ]
  },
  {
   "cell_type": "code",
   "execution_count": null,
   "metadata": {
    "id": "K5Nikvo0uwU-"
   },
   "outputs": [],
   "source": [
    "# Varios graficos en una figura\n",
    "fig, axes = plt.subplots(nrows=2, ncols=2)  # filas, columnas\n",
    "# indicar cada cuadro\n",
    "axes[0, 0].set(title='Superior Izquierda')\n",
    "axes[0, 1].set(title='Superior Derecha')\n",
    "axes[1, 0].set(title='Inferior Izquierda')\n",
    "axes[1, 1].set(title='Inferior Derecha')\n",
    "\n",
    "# Recorrer los ejes\n",
    "for ax in axes.flat:\n",
    "    ax.set(xticks=[], yticks=[])\n",
    "\n",
    "plt.show()"
   ]
  },
  {
   "cell_type": "code",
   "execution_count": null,
   "metadata": {
    "id": "20MDIVntVkjw"
   },
   "outputs": [],
   "source": [
    "x = np.linspace(-4*np.pi, 4*np.pi, 100)\n",
    "y1, y2, y3 = np.sin(x), np.sin(x + 1), np.sin(x + 2)\n",
    "titulos = ['Señal 1', 'Señal 2', 'Señal 3']\n",
    "fig, axes = plt.subplots(nrows=3, ncols=1)  # filas, columnas\n",
    "# indicar cada cuadro\n",
    "axes[0].set(title=titulos[0])\n",
    "axes[1].set(title=titulos[1])\n",
    "axes[2].set(title=titulos[2])"
   ]
  },
  {
   "cell_type": "code",
   "execution_count": null,
   "metadata": {
    "id": "4xvDDP1MWXQu"
   },
   "outputs": [],
   "source": [
    "axes[0].plot(x, y1)\n",
    "axes[1].plot(x, y2)\n",
    "axes[2].plot(x, y3)\n",
    "axes[1].grid(True)\n",
    "fig"
   ]
  },
  {
   "cell_type": "markdown",
   "metadata": {
    "id": "ChmnAprJyg4K"
   },
   "source": [
    "**Grafico Radial**"
   ]
  },
  {
   "cell_type": "code",
   "execution_count": null,
   "metadata": {
    "id": "irhiOFOLxYKw"
   },
   "outputs": [],
   "source": [
    "plt.style.use('classic')\n",
    "\n",
    "t = np.linspace(0, 2 * np.pi, 150)\n",
    "x1, y1 = np.cos(t), np.sin(t)\n",
    "x2, y2 = 2 * x1, 2 * y1\n",
    "\n",
    "colors = ['darkred', 'darkgreen']\n",
    "\n",
    "fig, ax = plt.subplots()\n",
    "ax.plot(x1, y1, color=colors[0], label='Inner', linewidth=3)\n",
    "ax.plot(x2, y2, color=colors[1], label='Outer', linewidth=3)\n",
    "ax.legend()\n",
    "\n",
    "ax.axis('equal')\n",
    "ax.margins(0.05)\n",
    "\n",
    "plt.show()"
   ]
  },
  {
   "cell_type": "code",
   "execution_count": null,
   "metadata": {
    "id": "nIeZZx8KyTmW"
   },
   "outputs": [],
   "source": [
    "matplotlib.use('nbagg')"
   ]
  },
  {
   "cell_type": "markdown",
   "metadata": {
    "id": "422uUUnEyx9N"
   },
   "source": [
    "**Barras**"
   ]
  },
  {
   "cell_type": "code",
   "execution_count": null,
   "metadata": {
    "id": "FRJSQDpbyXfb"
   },
   "outputs": [],
   "source": [
    "np.random.seed(1)  # Aleatorio condicionado\n",
    "x = np.arange(5)  # 0,1,..,4\n",
    "y = np.random.randn(5)\n",
    "\n",
    "fig, axes = plt.subplots(ncols=2, figsize=plt.figaspect(1./2))\n",
    "\n",
    "vert_bars = axes[0].bar(x, y, color='lightblue', align='center')\n",
    "horiz_bars = axes[1].barh(x, y, color='lightblue', align='center')\n",
    "\n",
    "# I'll also introduce axhline & axvline to draw a line all the way across the axes\n",
    "# This can be a quick-n-easy way to draw an axis \"spine\".\n",
    "axes[0].axhline(0, color='gray', linewidth=2)\n",
    "axes[1].axvline(0, color='gray', linewidth=2)\n",
    "\n",
    "plt.show()"
   ]
  },
  {
   "cell_type": "code",
   "execution_count": null,
   "metadata": {
    "id": "kIZdLZray52f"
   },
   "outputs": [],
   "source": [
    "fig, ax = plt.subplots()\n",
    "vert_bars = ax.bar(x, y, color='lightblue', align='center')\n",
    "\n",
    "# We could have also done this with two separate calls to `ax.bar` and numpy boolean indexing.\n",
    "for bar, height in zip(vert_bars, y):\n",
    "    if height < 0:\n",
    "        bar.set(color='salmon', edgecolor='darkred', linewidth=3)\n",
    "\n",
    "plt.show()"
   ]
  },
  {
   "cell_type": "markdown",
   "metadata": {
    "id": "TcQaGFp_y9ol"
   },
   "source": [
    "**Regiones**"
   ]
  },
  {
   "cell_type": "code",
   "execution_count": null,
   "metadata": {
    "id": "XbCSpEiJzAfR"
   },
   "outputs": [],
   "source": [
    "np.random.seed(1)\n",
    "y = np.random.randn(100).cumsum()\n",
    "x = np.linspace(0, 10, 100)\n",
    "\n",
    "fig, ax = plt.subplots()\n",
    "ax.fill_between(x, y, color='lightblue')\n",
    "plt.show()"
   ]
  },
  {
   "cell_type": "code",
   "execution_count": null,
   "metadata": {
    "id": "IDhYTAYCzGfY"
   },
   "outputs": [],
   "source": [
    "x = np.linspace(0, 10, 200)\n",
    "y1 = 2 * x + 1\n",
    "y2 = 3 * x + 1.2\n",
    "y_mean = 0.5 * x * np.cos(2*x) + 2.5 * x + 1.1\n",
    "\n",
    "fig, ax = plt.subplots()\n",
    "\n",
    "# Plot the envelope with `fill_between`\n",
    "ax.fill_between(x, y1, y2, color='yellow')\n",
    "\n",
    "# Plot the \"centerline\" with `plot`\n",
    "ax.plot(x, y_mean, color='black')\n",
    "\n",
    "plt.show()"
   ]
  },
  {
   "cell_type": "code",
   "execution_count": null,
   "metadata": {
    "id": "4FTf4j_XzQSq"
   },
   "outputs": [],
   "source": [
    "x = np.linspace(0, 10, 200)\n",
    "data_obj = {'x': x,\n",
    "            'y1': 2 * x + 1,\n",
    "            'y2': 3 * x + 1.2,\n",
    "            'mean': 0.5 * x * np.cos(2*x) + 2.5 * x + 1.1}\n",
    "\n",
    "fig, ax = plt.subplots()\n",
    "\n",
    "# Plot the envelope with `fill_between`\n",
    "ax.fill_between('x', 'y1', 'y2', color='yellow', data=data_obj)\n",
    "\n",
    "# Plot the \"centerline\" with `plot`\n",
    "ax.plot('x', 'mean', color='black', data=data_obj)\n",
    "\n",
    "plt.show()"
   ]
  },
  {
   "cell_type": "markdown",
   "metadata": {
    "id": "AjR-pmwTz7I_"
   },
   "source": [
    "**Polar**"
   ]
  },
  {
   "cell_type": "code",
   "execution_count": null,
   "metadata": {
    "id": "Gxk6UZGxz9Yj"
   },
   "outputs": [],
   "source": [
    "# Poner los ejes a polar\n",
    "plt.axes(projection='polar')\n",
    "\n",
    "# Crear un arreglo con los valores\n",
    "# en radianes\n",
    "theta = np.arange(0, (2 * np.pi), 0.01)\n",
    "r = np.sin(theta)\n",
    "# Dibujando\n",
    "for i in range(len(theta)):\n",
    "    plt.polar(theta[i], r[i], 'g.')  # pone pto a pto\n",
    "\n",
    "# display the Polar plot\n",
    "plt.show()"
   ]
  },
  {
   "cell_type": "code",
   "execution_count": null,
   "metadata": {
    "id": "OQnlCK-fz-JD"
   },
   "outputs": [],
   "source": [
    "ax = plt.subplot(1, 1, 1, projection='polar')\n",
    "ax.set_theta_direction(1)\n",
    "ax.set_theta_offset(0)  # La ubicacion del cero°\n",
    "ax.plot(theta, r)\n",
    "plt.show()"
   ]
  },
  {
   "cell_type": "markdown",
   "metadata": {
    "id": "8QXMOInN4niI"
   },
   "source": [
    "### Trazado en 3D\n",
    "\n",
    "Matplotlib fue diseñado para ser una biblioteca de trazado bidimensional. Alrededor del momento de la versión 1.0, algunas utilidades de trazado 3D se construyeron sobre la pantalla 2D de matplotlib, y el resultado es un conjunto conveniente (aunque algo limitado) de herramientas para la visualización de datos tridimensionales. Los gráficos 3D se habilitan importando el submódulo:mplot3d"
   ]
  },
  {
   "cell_type": "markdown",
   "metadata": {
    "id": "F7EHfdXJcgW_"
   },
   "source": []
  },
  {
   "cell_type": "code",
   "execution_count": null,
   "metadata": {
    "id": "nd5DYlxO5ZGh"
   },
   "outputs": [],
   "source": [
    "%matplotlib inline"
   ]
  },
  {
   "cell_type": "markdown",
   "metadata": {
    "id": "8T7V34S45on7"
   },
   "source": [
    "**3 Dimensiones**"
   ]
  },
  {
   "cell_type": "code",
   "execution_count": null,
   "metadata": {
    "id": "3-Ujqgguz-N4"
   },
   "outputs": [],
   "source": [
    "fig = plt.figure()\n",
    "ax = plt.axes(projection='3d')"
   ]
  },
  {
   "cell_type": "markdown",
   "metadata": {
    "id": "fbUjC7To5t4W"
   },
   "source": [
    "Puntos y Lineas"
   ]
  },
  {
   "cell_type": "code",
   "execution_count": null,
   "metadata": {
    "id": "xbcdJVeY5zA_"
   },
   "outputs": [],
   "source": [
    "ax = plt.axes(projection='3d')\n",
    "# Data for a 3D line\n",
    "zline = np.linspace(0, 15, 1000)\n",
    "xline = np.sin(zline)\n",
    "yline = np.cos(zline)\n",
    "ax.plot3D(xline, yline, zline, 'gray')\n",
    "\n",
    "# Data for 3D scattered points\n",
    "zdata = 15 * np.random.random(100)\n",
    "xdata = np.sin(zdata) + 0.1 * np.random.randn(100)\n",
    "ydata = np.cos(zdata) + 0.1 * np.random.randn(100)\n",
    "ax.scatter3D(xdata, ydata, zdata, c=zdata, cmap='Greens');"
   ]
  },
  {
   "cell_type": "markdown",
   "metadata": {
    "id": "G1ESyoNR59VQ"
   },
   "source": [
    "**Contornos en 3D**"
   ]
  },
  {
   "cell_type": "code",
   "execution_count": null,
   "metadata": {
    "id": "hfuJL4yU596V"
   },
   "outputs": [],
   "source": [
    "def f(x, y):\n",
    "    return np.sin(np.sqrt(x ** 2 + y ** 2))\n",
    "\n",
    "\n",
    "x = np.linspace(-6, 6, 30)\n",
    "y = np.linspace(-6, 6, 30)\n",
    "\n",
    "X, Y = np.meshgrid(x, y)\n",
    "Z = f(X, Y)\n",
    "fig = plt.figure()\n",
    "ax = plt.axes(projection='3d')\n",
    "ax.contour3D(X, Y, Z, 50, cmap='binary')\n",
    "ax.set_xlabel('x')\n",
    "ax.set_ylabel('y')\n",
    "ax.set_zlabel('z');"
   ]
  },
  {
   "cell_type": "markdown",
   "metadata": {
    "id": "VGFZFpOW6UW4"
   },
   "source": [
    "**Angulo de Visión**\n",
    "\n",
    "A veces, el ángulo de visión predeterminado no es óptimo; en este caso podemos utilizar el método para establecer los ángulos de elevación y azimutal. Aquí usaremos una elevación de 60 grados (es decir, 60 grados por encima del plano x-y) y un acimut de 35 grados (es decir, girado 35 grados en sentido contrario a las agujas del reloj sobre el eje z):"
   ]
  },
  {
   "cell_type": "code",
   "execution_count": null,
   "metadata": {
    "id": "pM-0WS1X6ITq"
   },
   "outputs": [],
   "source": [
    "ax.view_init(60, 35)\n",
    "fig"
   ]
  },
  {
   "cell_type": "markdown",
   "metadata": {
    "id": "6XOhfvDs6fHX"
   },
   "source": [
    "**Gráfico de mallas** o alambre"
   ]
  },
  {
   "cell_type": "code",
   "execution_count": null,
   "metadata": {
    "id": "9lKm4Xlb6MlS"
   },
   "outputs": [],
   "source": [
    "fig = plt.figure()\n",
    "ax = plt.axes(projection='3d')\n",
    "ax.plot_wireframe(X, Y, Z, color='red')\n",
    "ax.set_title('wireframe');"
   ]
  },
  {
   "cell_type": "markdown",
   "metadata": {
    "id": "CPvtNlwB6sqM"
   },
   "source": [
    "Colores\n",
    "\n",
    "\n"
   ]
  },
  {
   "cell_type": "code",
   "execution_count": null,
   "metadata": {
    "id": "u22Tuuse6uhW"
   },
   "outputs": [],
   "source": [
    "ax = plt.axes(projection='3d')\n",
    "ax.plot_surface(X, Y, Z, rstride=1, cstride=1,\n",
    "                cmap='cubehelix', edgecolor='none')\n",
    "ax.set_title('surface');"
   ]
  },
  {
   "cell_type": "markdown",
   "metadata": {
    "id": "nOYISLHU64Vi"
   },
   "source": []
  },
  {
   "cell_type": "code",
   "execution_count": null,
   "metadata": {
    "id": "ccPX6ajx64vy"
   },
   "outputs": [],
   "source": [
    "r = np.linspace(0, 6, 20)\n",
    "theta = np.linspace(-0.9 * np.pi, 0.8 * np.pi, 40)\n",
    "r, theta = np.meshgrid(r, theta)\n",
    "\n",
    "X = r * np.sin(theta)\n",
    "Y = r * np.cos(theta)\n",
    "Z = f(X, Y)\n",
    "\n",
    "ax = plt.axes(projection='3d')\n",
    "ax.plot_surface(X, Y, Z, rstride=1, cstride=1,\n",
    "                cmap='cubehelix', edgecolor='none');"
   ]
  },
  {
   "cell_type": "markdown",
   "metadata": {
    "id": "rnEqLvNk7BzY"
   },
   "source": []
  },
  {
   "cell_type": "markdown",
   "metadata": {
    "id": "maTJGHtW7DJc"
   },
   "source": []
  },
  {
   "cell_type": "code",
   "execution_count": null,
   "metadata": {
    "id": "kmMR6F1z7B8a"
   },
   "outputs": [],
   "source": [
    "theta = 2 * np.pi * np.random.random(1000)\n",
    "r = 6 * np.random.random(1000)\n",
    "x = np.ravel(r * np.sin(theta))  # ravel es array\n",
    "y = np.ravel(r * np.cos(theta))\n",
    "z = f(x, y)"
   ]
  },
  {
   "cell_type": "code",
   "execution_count": null,
   "metadata": {
    "id": "khAtYSAV7KGi"
   },
   "outputs": [],
   "source": [
    "ax = plt.axes(projection='3d')\n",
    "ax.scatter(x, y, z, c=z, cmap='cubehelix', linewidth=0.5);"
   ]
  },
  {
   "cell_type": "code",
   "execution_count": null,
   "metadata": {
    "id": "ZWDEOA_G7n7m"
   },
   "outputs": [],
   "source": []
  },
  {
   "cell_type": "code",
   "execution_count": null,
   "metadata": {
    "id": "e399lS_-7owP"
   },
   "outputs": [],
   "source": [
    "ax = plt.axes(projection='3d')\n",
    "ax.plot_trisurf(x, y, z, cmap='cubehelix', edgecolor='none');"
   ]
  },
  {
   "cell_type": "code",
   "execution_count": null,
   "metadata": {
    "id": "pX7dgK0j7sBb"
   },
   "outputs": [],
   "source": []
  }
 ],
 "metadata": {
  "colab": {
   "provenance": [
    {
     "file_id": "1malmuRgKid_oHtUMxrDtP5LDxVK9Lm_2",
     "timestamp": 1675699122419
    },
    {
     "file_id": "1_QVqjIfDCBxLv3VPAOyylVNoU-xyko7t",
     "timestamp": 1675697795041
    }
   ]
  },
  "kernelspec": {
   "display_name": "Python 3 (ipykernel)",
   "language": "python",
   "name": "python3"
  },
  "language_info": {
   "codemirror_mode": {
    "name": "ipython",
    "version": 3
   },
   "file_extension": ".py",
   "mimetype": "text/x-python",
   "name": "python",
   "nbconvert_exporter": "python",
   "pygments_lexer": "ipython3",
   "version": "3.9.7"
  }
 },
 "nbformat": 4,
 "nbformat_minor": 0
}