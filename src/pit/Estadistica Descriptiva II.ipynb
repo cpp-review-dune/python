{
 "cells": [
  {
   "cell_type": "markdown",
   "id": "88435e76",
   "metadata": {
    "id": "88435e76"
   },
   "source": [
    "# Python para Ingeniería\n",
    "## Mas de Estadística\n",
    "Profesor: **Juan Luis Herencia Guerra** <br>\n",
    "Email: **jherenciag@uni.edu.pe**"
   ]
  },
  {
   "cell_type": "markdown",
   "id": "9a2a599f",
   "metadata": {
    "id": "9a2a599f"
   },
   "source": [
    "### Procesos en la estadística\n",
    "\n",
    "**Diseño de la solución:** Esta actividad involucra el planeamiento de los detalles para obtener los datos que necesitamos y la *generación de la hipótesis* a ser evaluada.\n",
    "\n",
    "**Exploración de datos-EDA:** En esta actividad nos dedicamos a jugar con nuestros datos, los describimos, los resumimos, realizamos gráficos para mirarlos desde distintos ángulos. Esta exploración nos ayuda a asegurarnos que los datos que obtuvimos son completos y que la etapa de diseño fue correcta.\n",
    "\n",
    "**Armado del modelo:** En esta actividad intentamos armar un modelo que explique el comportamiento de nuestros datos y pueda llegar a hacer predicciones sobre los mismos. La idea es que el modelo pueda describir las propiedades fundamentales de nuestros datos.\n",
    "\n",
    "**Pruebas del modelo:** Aquí vamos a intentar realizar estimaciones basadas en el modelo que armamos anteriormente. También vamos a intentar estimar el tamaño del error que nuestro modelo puede tener en sus predicciones.\n",
    "\n",
    "**Contraste de la hipótesis:** Esta actividad es la que va a producir la decisión final sobre si las predicciones del modelo son correctas y ayudarnos a concluir si los datos que poseemos confirman o rechazan la hipótesis que se genera en el diseño de la solución\n"
   ]
  },
  {
   "cell_type": "markdown",
   "id": "5be316d7",
   "metadata": {
    "id": "5be316d7"
   },
   "source": [
    "**Librerías populares**: numpy, scipy.stats, statsmodels"
   ]
  },
  {
   "cell_type": "code",
   "execution_count": null,
   "id": "38a77fcd",
   "metadata": {
    "id": "38a77fcd"
   },
   "outputs": [],
   "source": [
    "import seaborn as sns  # para mejorar la vista de la presentación\n",
    "import seaborn as sns\n",
    "import matplotlib.pyplot as plt\n",
    "import numpy as np\n",
    "from scipy import stats"
   ]
  },
  {
   "cell_type": "code",
   "execution_count": null,
   "id": "e24ccf4c",
   "metadata": {
    "id": "e24ccf4c"
   },
   "outputs": [],
   "source": [
    "# Generación de datos normalmente distribuidos\n",
    "data = np.random.randn(6, 4)  # rand es completamente aleatorios\n",
    "data"
   ]
  },
  {
   "cell_type": "code",
   "execution_count": null,
   "id": "3c046a09",
   "metadata": {
    "id": "3c046a09"
   },
   "outputs": [],
   "source": [
    "# Media\n",
    "data.mean()"
   ]
  },
  {
   "cell_type": "code",
   "execution_count": null,
   "id": "44d3fc38",
   "metadata": {
    "id": "44d3fc38"
   },
   "outputs": [],
   "source": [
    "np.mean(data)  # igual"
   ]
  },
  {
   "cell_type": "code",
   "execution_count": null,
   "id": "e826c2ca",
   "metadata": {
    "id": "e826c2ca"
   },
   "outputs": [],
   "source": [
    "# media aritmética de cada col\n",
    "data.mean(axis=0)"
   ]
  },
  {
   "cell_type": "code",
   "execution_count": null,
   "id": "f5dca319",
   "metadata": {
    "id": "f5dca319"
   },
   "outputs": [],
   "source": [
    "# mediana\n",
    "np.median(data)"
   ]
  },
  {
   "cell_type": "code",
   "execution_count": null,
   "id": "b3d34b60",
   "metadata": {
    "id": "b3d34b60"
   },
   "outputs": [],
   "source": [
    "np.median(data, 0)  # de cada col"
   ]
  },
  {
   "cell_type": "code",
   "execution_count": null,
   "id": "2d8b6c1e",
   "metadata": {
    "id": "2d8b6c1e"
   },
   "outputs": [],
   "source": [
    "# Desviacion estandar de todos los datos\n",
    "np.std(data)"
   ]
  },
  {
   "cell_type": "code",
   "execution_count": null,
   "id": "14c3f027",
   "metadata": {
    "id": "14c3f027"
   },
   "outputs": [],
   "source": [
    "# de cada columna\n",
    "np.std(data, 0)"
   ]
  },
  {
   "cell_type": "code",
   "execution_count": null,
   "id": "3fa6b162",
   "metadata": {
    "id": "3fa6b162"
   },
   "outputs": [],
   "source": [
    "# Varianza\n",
    "np.var(data)  # , 0) de cada columna"
   ]
  },
  {
   "cell_type": "code",
   "execution_count": null,
   "id": "cbfcc3a2",
   "metadata": {
    "id": "cbfcc3a2"
   },
   "outputs": [],
   "source": [
    "# Devuelve la lista de la moda de cada columna\n",
    "# y la lista de frecuencias\n",
    "stats.mode(data)"
   ]
  },
  {
   "cell_type": "code",
   "execution_count": null,
   "id": "4dad4560",
   "metadata": {
    "id": "4dad4560"
   },
   "outputs": [],
   "source": [
    "# Datos aleatorios\n",
    "# 10 tiradas de un dado\n",
    "data1 = np.random.randint(1, 7, 10)\n",
    "data1"
   ]
  },
  {
   "cell_type": "code",
   "execution_count": null,
   "id": "aa07c0a7",
   "metadata": {
    "id": "aa07c0a7"
   },
   "outputs": [],
   "source": [
    "# Muestra la moda\n",
    "stats.mode(data1)"
   ]
  },
  {
   "cell_type": "markdown",
   "id": "95f39ed3",
   "metadata": {
    "id": "95f39ed3"
   },
   "source": [
    "**Correlación:**\n",
    "\n",
    "Como la covarianza solo informa sobre la dirección que no es suficiente para comprender la relación por completo, dividimos la covarianza con la desviación estándar de x e y respectivamente y obtenemos un coeficiente de correlación que varía entre -1 y +1.\n",
    "\n",
    "- -1 y +1 dice que ambas variables tienen una relación lineal perfecta.<br>\n",
    "- Negativo significa que son inversamente proporcionales entre sí con el valor del factor de coeficiente de correlación.<br>\n",
    "- Positivo significa que son directamente proporcionales entre sí, la media varía en la misma dirección con el factor del valor del coeficiente de correlación.<br>\n",
    "- si el coeficiente de correlación es 0, significa que no existe una relación lineal entre las variables, sin embargo, podría existir otra relación funcional.<br>\n",
    "- Si no hay ninguna relación entre dos variables, entonces el coeficiente de correlación será ciertamente 0; sin embargo, si es 0, solo podemos decir que no existe una relación lineal, pero podría existir otra relación funcional.<br>"
   ]
  },
  {
   "cell_type": "code",
   "execution_count": null,
   "id": "99ac6154",
   "metadata": {
    "id": "99ac6154"
   },
   "outputs": [],
   "source": [
    "# Matriz de correlación\n",
    "np.corrcoef(data)"
   ]
  },
  {
   "cell_type": "code",
   "execution_count": null,
   "id": "c6c00977",
   "metadata": {
    "id": "c6c00977"
   },
   "outputs": [],
   "source": [
    "# calculando la correlación entre dos vectores.\n",
    "np.corrcoef(data[0], data[1])"
   ]
  },
  {
   "cell_type": "markdown",
   "id": "34770d08",
   "metadata": {
    "id": "34770d08"
   },
   "source": [
    "**Covarianza**\n",
    "\n",
    "En el estudio de la covarianza sólo el signo importa. El valor positivo muestra que ambas variables varían en la misma dirección y el valor negativo muestra que varían en la dirección opuesta."
   ]
  },
  {
   "cell_type": "code",
   "execution_count": null,
   "id": "373e8325",
   "metadata": {
    "id": "373e8325"
   },
   "outputs": [],
   "source": [
    "np.cov(data)"
   ]
  },
  {
   "cell_type": "code",
   "execution_count": null,
   "id": "6d5bd366",
   "metadata": {
    "id": "6d5bd366"
   },
   "outputs": [],
   "source": [
    "# covarianza de dos vectores\n",
    "np.cov(data[0], data[1])"
   ]
  },
  {
   "cell_type": "markdown",
   "id": "5d0201f4",
   "metadata": {
    "id": "5d0201f4"
   },
   "source": [
    "### Cuartiles\n",
    "\n",
    "Los **cuartiles** son los tres valores de la variable estadística que dividen a un conjunto de datos ordenados en cuatro partes iguales. Q1, Q2 y Q3 determinan los valores correspondientes al 25%, al 50% y al 75% de los datos. Q2 coincide con la mediana."
   ]
  },
  {
   "cell_type": "code",
   "execution_count": null,
   "id": "82588f43",
   "metadata": {
    "id": "82588f43"
   },
   "outputs": [],
   "source": [
    "# Edades de los consumidores de un producto\n",
    "data2 = np.random.randint(25, 55, 100)\n",
    "data2"
   ]
  },
  {
   "cell_type": "code",
   "execution_count": null,
   "id": "c19ea60d",
   "metadata": {
    "id": "c19ea60d"
   },
   "outputs": [],
   "source": [
    "# Mediana\n",
    "np.median(data2)  # quartil al 50%"
   ]
  },
  {
   "cell_type": "code",
   "execution_count": null,
   "id": "a67d169d",
   "metadata": {
    "id": "a67d169d"
   },
   "outputs": [],
   "source": [
    "# Cuartil al 25%\n",
    "Q1 = np.percentile(data2, 25, interpolation='midpoint')\n",
    "Q1"
   ]
  },
  {
   "cell_type": "code",
   "execution_count": null,
   "id": "be19172a",
   "metadata": {
    "id": "be19172a"
   },
   "outputs": [],
   "source": [
    "# Cuartil al 50%\n",
    "Q2 = np.percentile(data2, 50, interpolation='midpoint')\n",
    "Q2"
   ]
  },
  {
   "cell_type": "code",
   "execution_count": null,
   "id": "58181e85",
   "metadata": {
    "id": "58181e85"
   },
   "outputs": [],
   "source": [
    "# Cuartil al 75%\n",
    "Q3 = np.percentile(data2, 75, interpolation='midpoint')\n",
    "Q3"
   ]
  },
  {
   "cell_type": "markdown",
   "id": "c7e218ab",
   "metadata": {
    "id": "c7e218ab"
   },
   "source": [
    "### Diagramas de cajas\n",
    "\n",
    "Los **diagramas de cajas** son una presentación visual que describe varias características importantes al mismo tiempo, tales como la dispersión y simetría. Para su realización se representan los tres cuartiles y los valores mínimo y máximo de los datos, sobre un rectángulo, alineado horizontal o verticalmente. Estos gráficos nos proporcionan abundante información y son sumamente útiles para encontrar valores atípicos y comparar dos conjunto de datos.\n",
    "\n",
    "![DiagramaCajas.png](data:image/png;base64,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)"
   ]
  },
  {
   "cell_type": "code",
   "source": [
    "# Boxing\n",
    "# Ventas en miles de soles\n",
    "# normal(mean o centro de la distrib, desviación estandar, cant de muestras)\n",
    "# Devuelve samples from the parameterized normal distribution.\n",
    "ventas_p1 = np.random.normal(100, 10, 200)\n",
    "ventas_p2 = np.random.normal(80, 30, 200)\n",
    "ventas_p3 = np.random.normal(90, 20, 200)\n",
    "ventas_p4 = np.random.normal(70, 25, 200)"
   ],
   "metadata": {
    "id": "Hv8VqSjkdoPj"
   },
   "id": "Hv8VqSjkdoPj",
   "execution_count": null,
   "outputs": []
  },
  {
   "cell_type": "code",
   "source": [
    "ventas_p3"
   ],
   "metadata": {
    "id": "RE7AOTbCdr_v"
   },
   "id": "RE7AOTbCdr_v",
   "execution_count": null,
   "outputs": []
  },
  {
   "cell_type": "code",
   "execution_count": null,
   "id": "b6790b8f",
   "metadata": {
    "id": "b6790b8f"
   },
   "outputs": [],
   "source": [
    "ventas = [ventas_p1, ventas_p2, ventas_p3, ventas_p4]\n",
    "\n",
    "# Creando el objeto figura\n",
    "fig = plt.figure(1, figsize=(9, 6))\n",
    "\n",
    "# Creando el subgrafico\n",
    "ax = fig.add_subplot(111)\n",
    "\n",
    "# creando el grafico de cajas\n",
    "bp = ax.boxplot(ventas)\n",
    "\n",
    "# visualización de los atípicos\n",
    "for flier in bp['fliers']:\n",
    "    flier.set(marker='o', color='red', alpha=0.5)"
   ]
  },
  {
   "cell_type": "code",
   "execution_count": null,
   "id": "787e9414",
   "metadata": {
    "scrolled": true,
    "id": "787e9414"
   },
   "outputs": [],
   "source": [
    "# Otra impresión con seaborn"
   ]
  },
  {
   "cell_type": "code",
   "execution_count": null,
   "id": "4ebe7d64",
   "metadata": {
    "id": "4ebe7d64"
   },
   "outputs": [],
   "source": [
    "# Veamos\n",
    "sns.boxplot(data=ventas, color=\"PaleGreen\");"
   ]
  },
  {
   "cell_type": "markdown",
   "id": "1b3de3e6",
   "metadata": {
    "id": "1b3de3e6"
   },
   "source": [
    "### Histogramas\n",
    "\n",
    "El **histograma** muestra la frecuencia o probabilidad de cada valor."
   ]
  },
  {
   "cell_type": "code",
   "source": [
    "plt.hist(x=ventas_p1, color='#F2AB6D', rwidth=0.85)\n",
    "plt.title('Histograma de las ventas')\n",
    "plt.xlabel('Ventas')\n",
    "plt.ylabel('Frecuencia')"
   ],
   "metadata": {
    "id": "IPxcBZJ9EZkA"
   },
   "id": "IPxcBZJ9EZkA",
   "execution_count": null,
   "outputs": []
  },
  {
   "cell_type": "markdown",
   "id": "531d5242",
   "metadata": {
    "id": "531d5242"
   },
   "source": [
    "### Distribuciones\n",
    "\n",
    "Las **distribuciones** describen las frecuencias de cada valor, hay distribuciones continuas (normal, gamma, chi2, etc) y discretas (poisson, binomial, bernoulli, etc)"
   ]
  },
  {
   "cell_type": "markdown",
   "id": "9cf43257",
   "metadata": {
    "id": "9cf43257"
   },
   "source": [
    "#### Distribución normal\n",
    "\n",
    "![DistribucionNormal.png](data:image/png;base64,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)"
   ]
  },
  {
   "cell_type": "code",
   "execution_count": null,
   "id": "1431f2cc",
   "metadata": {
    "id": "1431f2cc"
   },
   "outputs": [],
   "source": [
    "# Un poco de mejora a la presentación\n",
    "sns.set_palette(\"deep\", desat=.6)\n",
    "sns.set_context(rc={\"figure.figsize\": (8, 4)})"
   ]
  },
  {
   "cell_type": "code",
   "execution_count": null,
   "id": "803322db",
   "metadata": {
    "id": "803322db"
   },
   "outputs": [],
   "source": [
    "mu = 0      # media\n",
    "sigma = 0.1  # desvio estandar\n",
    "# Crear la muestra de datos\n",
    "s = np.random.normal(mu, sigma, 1000)\n",
    "s"
   ]
  },
  {
   "cell_type": "code",
   "execution_count": null,
   "id": "74eee4de",
   "metadata": {
    "scrolled": false,
    "id": "74eee4de"
   },
   "outputs": [],
   "source": [
    "# histograma de distribución normal.\n",
    "bar_x, x, ignore = plt.hist(s, 30)  # histograma"
   ]
  },
  {
   "cell_type": "code",
   "execution_count": null,
   "id": "8c941294",
   "metadata": {
    "id": "8c941294"
   },
   "outputs": [],
   "source": [
    "# Cada barra horizontal\n",
    "bar_x"
   ]
  },
  {
   "cell_type": "code",
   "source": [
    "x"
   ],
   "metadata": {
    "id": "cRn659jef1kg"
   },
   "id": "cRn659jef1kg",
   "execution_count": null,
   "outputs": []
  },
  {
   "cell_type": "code",
   "execution_count": null,
   "id": "bcec97cf",
   "metadata": {
    "id": "bcec97cf"
   },
   "outputs": [],
   "source": [
    "# Aplicación de la distribución con x\n",
    "f = 1/(sigma * np.sqrt(2 * np.pi)) * np.exp(- (x - mu)**2 / (2 * sigma**2))\n",
    "normal = plt.plot(x, f, linewidth=2, color='r')  # curva normal"
   ]
  },
  {
   "cell_type": "markdown",
   "id": "49b03fd4",
   "metadata": {
    "id": "49b03fd4"
   },
   "source": [
    "#### Distribución Gamma\n",
    "\n",
    "![DistribucionGamma1.png](data:image/png;base64,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)"
   ]
  },
  {
   "cell_type": "markdown",
   "source": [
    "![DistribucionGamma2.png](data:image/png;base64,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)"
   ],
   "metadata": {
    "id": "OKehjajiqixI"
   },
   "id": "OKehjajiqixI"
  },
  {
   "cell_type": "code",
   "execution_count": null,
   "id": "68f80591",
   "metadata": {
    "scrolled": true,
    "id": "68f80591"
   },
   "outputs": [],
   "source": [
    "# distribución gamma\n",
    "x = stats.gamma(3).rvs(5000)\n",
    "gm = plt.hist(x, 70, histtype=\"stepfilled\", alpha=.7)"
   ]
  },
  {
   "cell_type": "markdown",
   "id": "1b1f0c3d",
   "metadata": {
    "id": "1b1f0c3d"
   },
   "source": [
    "Condiciones de asimetría: \n",
    "- Si skewness = 0 , los datos se distribuyen normalmente. \n",
    "- Si skewness > 0 , entonces los datos se ponderan más en el lado izquierdo de la distribución. \n",
    "- Si skewness < 0 , entonces los datos se ponderan más en el lado derecho de la distribución"
   ]
  },
  {
   "cell_type": "code",
   "execution_count": null,
   "id": "98d32195",
   "metadata": {
    "id": "98d32195"
   },
   "outputs": [],
   "source": [
    "# Calculando la asimetría\n",
    "stats.skew(x)"
   ]
  },
  {
   "cell_type": "code",
   "execution_count": null,
   "id": "1c66befe",
   "metadata": {
    "id": "1c66befe"
   },
   "outputs": [],
   "source": [
    "stats.gamma?"
   ]
  },
  {
   "cell_type": "code",
   "execution_count": null,
   "id": "12ddefd8",
   "metadata": {
    "id": "12ddefd8"
   },
   "outputs": [],
   "source": []
  }
 ],
 "metadata": {
  "kernelspec": {
   "display_name": "Python 3 (ipykernel)",
   "language": "python",
   "name": "python3"
  },
  "language_info": {
   "codemirror_mode": {
    "name": "ipython",
    "version": 3
   },
   "file_extension": ".py",
   "mimetype": "text/x-python",
   "name": "python",
   "nbconvert_exporter": "python",
   "pygments_lexer": "ipython3",
   "version": "3.9.7"
  },
  "colab": {
   "provenance": []
  }
 },
 "nbformat": 4,
 "nbformat_minor": 5
}