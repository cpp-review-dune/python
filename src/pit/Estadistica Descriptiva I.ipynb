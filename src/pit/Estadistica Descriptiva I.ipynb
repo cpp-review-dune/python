{
 "cells": [
  {
   "cell_type": "markdown",
   "metadata": {
    "id": "vQ4H-b7KVP1X"
   },
   "source": [
    "# Python para Ingeniería\n",
    "## Estadística Descriptiva I\n",
    "Profesor: **Juan Luis Herencia Guerra** <br>\n",
    "Email: **jherenciag@uni.edu.pe**"
   ]
  },
  {
   "cell_type": "code",
   "execution_count": null,
   "metadata": {
    "id": "cNkrcu_eVP1Z"
   },
   "outputs": [],
   "source": [
    "import numpy as np\n",
    "import matplotlib.pyplot as plt"
   ]
  },
  {
   "cell_type": "markdown",
   "metadata": {
    "id": "q9Rx5ZJCVP1b"
   },
   "source": [
    "### Estadística de Tendencia Central\n",
    "\n",
    "Las medidas de tendencia central son medidas estadísticas que pretenden resumir en un solo valor a un conjunto de valores. Representan un centro en torno al cual se encuentra ubicado el conjunto de los datos. Las medidas de tendencia central más utilizadas son: media, mediana y moda"
   ]
  },
  {
   "cell_type": "markdown",
   "source": [
    "**Media o Promedio**\n",
    "\n",
    "![Promedio.png](data:image/png;base64,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)"
   ],
   "metadata": {
    "id": "HYaspEr-5FEZ"
   }
  },
  {
   "cell_type": "code",
   "execution_count": null,
   "metadata": {
    "id": "7ZLfPsARVP1c"
   },
   "outputs": [],
   "source": [
    "# Población: Es todo el conjunto de datos\n",
    "# Muestra: una parte considerable de la poblacion\n",
    "def media(muestra):\n",
    "    ''' Media, promedio, average, mean '''\n",
    "    return sum(muestra) / len(muestra)"
   ]
  },
  {
   "cell_type": "markdown",
   "source": [
    "**Mediana**\n",
    "\n",
    "La mediana es el valor que ocupa el lugar central de todos los datos cuando éstos están ordenados de menor a mayor"
   ],
   "metadata": {
    "id": "WzssfNOj6c0i"
   }
  },
  {
   "cell_type": "code",
   "execution_count": null,
   "metadata": {
    "id": "q5clMi3eVP1d"
   },
   "outputs": [],
   "source": [
    "def mediana(muestra):\n",
    "    ''' Mediana o centro '''\n",
    "    m_ordenada = sorted(muestra)\n",
    "    n = len(m_ordenada)\n",
    "    if n % 2 == 0:\n",
    "        median = (m_ordenada[n//2 - 1] + m_ordenada[n//2]) / 2\n",
    "    else:\n",
    "        median = m_ordenada[n//2]\n",
    "    return median"
   ]
  },
  {
   "cell_type": "markdown",
   "source": [
    "**Frecuencia**\n",
    "\n",
    "La frecuencia de un evento es el número de veces en que dicho evento se repite durante un experimento o muestra estadística.​ Comúnmente, la distribución de la frecuencia suele visualizarse con el uso de histograma\n",
    "\n",
    "**Moda**\n",
    "\n",
    "ELa moda es el valor que aparece con mayor frecuencia en un conjunto de datos."
   ],
   "metadata": {
    "id": "CRbCJQRz7G6Z"
   }
  },
  {
   "cell_type": "code",
   "execution_count": null,
   "metadata": {
    "id": "92h5qqpAVP1e"
   },
   "outputs": [],
   "source": [
    "def moda(muestra):\n",
    "    ''' Dato que mas abunda '''\n",
    "    dic = {}\n",
    "    for i in muestra:\n",
    "        dic[i] = muestra.count(i)\n",
    "    mayor = 0\n",
    "    for i in dic:\n",
    "        if mayor < dic[i]:\n",
    "            mayor = dic[i]\n",
    "            mod = i\n",
    "    return mod"
   ]
  },
  {
   "cell_type": "markdown",
   "metadata": {
    "id": "8L-fa56TVP1f"
   },
   "source": [
    "### Estadística De Dispersion\n",
    "\n",
    "Las medidas de dispersión son un conjunto de variables que se utilizan en la estadística para calcular de qué manera se comporta la distribución de los datos en las fórmulas de análisis y sus grados de variabilidad en función de un valor de referencia.\n",
    "\n",
    "- Rango de variación: se trata de un número que indica la distancia entre un valor máximo y uno mínimo. Dicho valor se toma de una población estadística determinada y se calcula con base en diferentes factores.\n",
    "- Varianza: esta medida representa la variación que puede sufrir un conjunto de datos respecto a la media.\n",
    "- Desviación estándar: corresponde a una desviación que es “habitual” entre el valor y la media. Se trata de un evento más probable y por lo tanto se emplea como tal en el cálculo de dispersión.\n",
    "- Coeficiente de variación: Esta medida de dispersión se expresa como un porcentaje que es el resultado de dividir la desviación típica sobre la media del conjunto."
   ]
  },
  {
   "cell_type": "markdown",
   "source": [
    "**Rango**\n",
    "\n",
    "El rango es un valor numérico que indica la diferencia entre el valor máximo y el mínimo de una población o muestra estadística"
   ],
   "metadata": {
    "id": "j8uicweN7yrx"
   }
  },
  {
   "cell_type": "code",
   "execution_count": null,
   "metadata": {
    "id": "6MVRK_9zVP1f"
   },
   "outputs": [],
   "source": [
    "def rango(muestra):\n",
    "    '''  Rango '''\n",
    "    m_ordenada = sorted(muestra)\n",
    "    return m_ordenada[-1] - m_ordenada[0]"
   ]
  },
  {
   "cell_type": "markdown",
   "source": [
    "**Cuartil**\n",
    "\n",
    "Los cuartiles son valores que dividen una muestra de datos previamente ordenados en cuatro partes iguales. Utilizando cuartiles puede evaluar rápidamente la dispersión y la tendencia central de un conjunto de datos, que son los pasos iniciales importantes para comprender sus datos."
   ],
   "metadata": {
    "id": "w1nyN-_A72Gw"
   }
  },
  {
   "cell_type": "code",
   "execution_count": null,
   "metadata": {
    "id": "qzWivdxQVP1g"
   },
   "outputs": [],
   "source": [
    "def quartiles(muestra):\n",
    "    ''' Cuartiles '''\n",
    "    q = []\n",
    "    # mediana de la mitad inferior de datos\n",
    "    q.append(mediana(muestra[:len(muestra)//2]))\n",
    "    q.append(mediana(muestra))                   # mediana de todos los datos\n",
    "    # mediana de la mitad superior de datos\n",
    "    q.append(mediana(muestra[len(muestra)//2:]))\n",
    "    return q"
   ]
  },
  {
   "cell_type": "markdown",
   "source": [
    "**Desviación Estándar**\n",
    "\n",
    "![DesviaciónEstándard.png](data:image/png;base64,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)"
   ],
   "metadata": {
    "id": "aymbrmRD5Ybp"
   }
  },
  {
   "cell_type": "code",
   "execution_count": null,
   "metadata": {
    "id": "1gxAEILFVP1h"
   },
   "outputs": [],
   "source": [
    "def desv_stand(muestra):\n",
    "    ''' Desviacion estándar'''\n",
    "    s = 0\n",
    "    for i in muestra:\n",
    "        s += (i - media(muestra)) ** 2\n",
    "    s = s / len(muestra)\n",
    "    return s ** (1/2)"
   ]
  },
  {
   "cell_type": "markdown",
   "metadata": {
    "id": "KK0cfKe2VP1i"
   },
   "source": [
    "### Pruebas de datos"
   ]
  },
  {
   "cell_type": "code",
   "execution_count": null,
   "metadata": {
    "id": "qLhLuX3RVP1i"
   },
   "outputs": [],
   "source": [
    "fallecidos_covid = [0,\n",
    "                    0,\n",
    "                    36,\n",
    "                    0,\n",
    "                    64,\n",
    "                    0,\n",
    "                    49,\n",
    "                    37,\n",
    "                    113,\n",
    "                    0,\n",
    "                    71,\n",
    "                    78,\n",
    "                    84,\n",
    "                    90,\n",
    "                    54,\n",
    "                    78,\n",
    "                    0,\n",
    "                    37,\n",
    "                    83,\n",
    "                    123,\n",
    "                    77,\n",
    "                    0,\n",
    "                    71,\n",
    "                    0,\n",
    "                    19,\n",
    "                    34,\n",
    "                    44,\n",
    "                    73,\n",
    "                    33]\n",
    "fallecidos_covid"
   ]
  },
  {
   "cell_type": "code",
   "execution_count": null,
   "metadata": {
    "id": "3JxAqpq9VP1k"
   },
   "outputs": [],
   "source": [
    "n = len(fallecidos_covid)\n",
    "dia = list(range(1, n+1))  # 1,2,3, ...,12\n",
    "dia"
   ]
  },
  {
   "cell_type": "code",
   "execution_count": null,
   "metadata": {
    "id": "9L5mi3e7VP1k"
   },
   "outputs": [],
   "source": [
    "plt.scatter(dia, fallecidos_covid)\n",
    "plt.grid(True)\n",
    "plt.title('Gráfico del fallecidos x día')\n",
    "plt.xlabel('Días')\n",
    "plt.ylabel('Fallecidos');"
   ]
  },
  {
   "cell_type": "code",
   "execution_count": null,
   "metadata": {
    "id": "Ti4qj3SBVP1l"
   },
   "outputs": [],
   "source": [
    "# Datos iniciales\n",
    "m = fallecidos_covid\n",
    "print(\"Muestra = \", m)\n",
    "print(\"Cantidad n = \", n)"
   ]
  },
  {
   "cell_type": "code",
   "execution_count": null,
   "metadata": {
    "id": "5Biq8J13VP1l"
   },
   "outputs": [],
   "source": [
    "print(\"*********** Estadistico Central *************\")\n",
    "print(\"Media, Promedio, Average, Mean = \", media(m))\n",
    "print(\"Mediana = \", mediana(m))\n",
    "print(\"Moda (que mas abunda) = \", moda(m))"
   ]
  },
  {
   "cell_type": "code",
   "execution_count": null,
   "metadata": {
    "scrolled": false,
    "id": "wGDTQV-JVP1m"
   },
   "outputs": [],
   "source": [
    "print(\"*********** Estadistico de Dispersión  *************\")\n",
    "print(\"Rango = \", rango(m))\n",
    "Q = quartiles(m)\n",
    "print(\"Cuartiles:\", Q)\n",
    "print(\"Rango interquartil (Interquartile Range/IQR) Q3 - Q1 = \", Q[2] - Q[0])\n",
    "print(\"Desviacion estandard = \", desv_stand(m))"
   ]
  },
  {
   "cell_type": "code",
   "execution_count": null,
   "metadata": {
    "id": "X9XY7RmgVP1n"
   },
   "outputs": [],
   "source": [
    "x = np.arange(1, n + 1)\n",
    "y1 = n*[mediana(m) + desv_stand(m)]\n",
    "y2 = n*[mediana(m) - desv_stand(m)]\n",
    "plt.plot(x, y1)\n",
    "plt.plot(x, y2)\n",
    "plt.scatter(dia, m)\n",
    "plt.grid(True)\n",
    "plt.title('Gráfico de Fallecidos x día')\n",
    "plt.xlabel('Días')\n",
    "plt.ylabel('Cantidad Fallecidos')\n",
    "plt.legend(['max confiable', 'min confiable'])"
   ]
  },
  {
   "cell_type": "code",
   "execution_count": null,
   "metadata": {
    "id": "S87AoXLMVP1o"
   },
   "outputs": [],
   "source": []
  }
 ],
 "metadata": {
  "kernelspec": {
   "display_name": "Python 3 (ipykernel)",
   "language": "python",
   "name": "python3"
  },
  "language_info": {
   "codemirror_mode": {
    "name": "ipython",
    "version": 3
   },
   "file_extension": ".py",
   "mimetype": "text/x-python",
   "name": "python",
   "nbconvert_exporter": "python",
   "pygments_lexer": "ipython3",
   "version": "3.9.7"
  },
  "colab": {
   "provenance": []
  }
 },
 "nbformat": 4,
 "nbformat_minor": 0
}