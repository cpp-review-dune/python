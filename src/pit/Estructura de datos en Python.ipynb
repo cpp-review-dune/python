{
 "cells": [
  {
   "cell_type": "markdown",
   "metadata": {
    "id": "YuQWKCusmHrh"
   },
   "source": [
    "# PYTHON PARA INGENIERIA\n",
    "## CTIC - UNI\n",
    "### Profesor: Juan Luis Herencia Guerra\n",
    "### EMail: jherenciag@uni.edu.pe"
   ]
  },
  {
   "cell_type": "markdown",
   "metadata": {
    "id": "cqU_50e8moNw"
   },
   "source": [
    "#### Estructura de datos en Python"
   ]
  },
  {
   "cell_type": "code",
   "execution_count": 1,
   "metadata": {
    "colab": {
     "base_uri": "https://localhost:8080/"
    },
    "executionInfo": {
     "elapsed": 5,
     "status": "ok",
     "timestamp": 1675097846468,
     "user": {
      "displayName": "Juan Luis Herencia",
      "userId": "14086757582057977428"
     },
     "user_tz": 300
    },
    "id": "MIDXXvqwmyJw",
    "outputId": "e0295540-dbf7-4765-cb7b-aaf85f3a1f47"
   },
   "outputs": [
    {
     "data": {
      "text/plain": [
       "[4, 5, 6, 9, 8, 7, 1]"
      ]
     },
     "execution_count": 1,
     "metadata": {},
     "output_type": "execute_result"
    }
   ],
   "source": [
    "# Listas\n",
    "import numpy as np\n",
    "L1 = [4, 5, 6, 9, 8, 7, 1]\n",
    "L1"
   ]
  },
  {
   "cell_type": "code",
   "execution_count": 2,
   "metadata": {
    "colab": {
     "base_uri": "https://localhost:8080/"
    },
    "executionInfo": {
     "elapsed": 6,
     "status": "ok",
     "timestamp": 1675097985248,
     "user": {
      "displayName": "Juan Luis Herencia",
      "userId": "14086757582057977428"
     },
     "user_tz": 300
    },
    "id": "wTMXL1_Lnp9H",
    "outputId": "3d852c53-1f38-4a1d-e9fb-b14fb6dab3f8"
   },
   "outputs": [
    {
     "data": {
      "text/plain": [
       "7"
      ]
     },
     "execution_count": 2,
     "metadata": {},
     "output_type": "execute_result"
    }
   ],
   "source": [
    "len(L1)"
   ]
  },
  {
   "cell_type": "code",
   "execution_count": 3,
   "metadata": {
    "colab": {
     "base_uri": "https://localhost:8080/"
    },
    "executionInfo": {
     "elapsed": 280,
     "status": "ok",
     "timestamp": 1675097999367,
     "user": {
      "displayName": "Juan Luis Herencia",
      "userId": "14086757582057977428"
     },
     "user_tz": 300
    },
    "id": "zMF_802Gnsvw",
    "outputId": "dd2bead4-a17b-4391-e3bb-2a5a20574552"
   },
   "outputs": [
    {
     "data": {
      "text/plain": [
       "9"
      ]
     },
     "execution_count": 3,
     "metadata": {},
     "output_type": "execute_result"
    }
   ],
   "source": [
    "max(L1)"
   ]
  },
  {
   "cell_type": "code",
   "execution_count": 4,
   "metadata": {
    "colab": {
     "base_uri": "https://localhost:8080/"
    },
    "executionInfo": {
     "elapsed": 2,
     "status": "ok",
     "timestamp": 1675098005551,
     "user": {
      "displayName": "Juan Luis Herencia",
      "userId": "14086757582057977428"
     },
     "user_tz": 300
    },
    "id": "0nYTYcDynwSg",
    "outputId": "2130f017-97c5-41c5-9f71-8168fd18a048"
   },
   "outputs": [
    {
     "data": {
      "text/plain": [
       "1"
      ]
     },
     "execution_count": 4,
     "metadata": {},
     "output_type": "execute_result"
    }
   ],
   "source": [
    "min(L1)"
   ]
  },
  {
   "cell_type": "code",
   "execution_count": 5,
   "metadata": {
    "colab": {
     "base_uri": "https://localhost:8080/"
    },
    "executionInfo": {
     "elapsed": 3,
     "status": "ok",
     "timestamp": 1675098037736,
     "user": {
      "displayName": "Juan Luis Herencia",
      "userId": "14086757582057977428"
     },
     "user_tz": 300
    },
    "id": "FRQRTulvnxrJ",
    "outputId": "a65a990f-497b-4c88-d9e7-aed3940344d9"
   },
   "outputs": [
    {
     "data": {
      "text/plain": [
       "9"
      ]
     },
     "execution_count": 5,
     "metadata": {},
     "output_type": "execute_result"
    }
   ],
   "source": [
    "L1[3]"
   ]
  },
  {
   "cell_type": "code",
   "execution_count": 6,
   "metadata": {
    "colab": {
     "base_uri": "https://localhost:8080/"
    },
    "executionInfo": {
     "elapsed": 651,
     "status": "ok",
     "timestamp": 1675098072936,
     "user": {
      "displayName": "Juan Luis Herencia",
      "userId": "14086757582057977428"
     },
     "user_tz": 300
    },
    "id": "trO2JLZ_n5wn",
    "outputId": "0f456990-07ec-4b8e-d4b6-8fd0edf06a9b"
   },
   "outputs": [
    {
     "data": {
      "text/plain": [
       "[4, 5, 6, 19, 8, 7, 1]"
      ]
     },
     "execution_count": 6,
     "metadata": {},
     "output_type": "execute_result"
    }
   ],
   "source": [
    "# Los indices comienzan en cero\n",
    "L1[3] = 19\n",
    "L1"
   ]
  },
  {
   "cell_type": "code",
   "execution_count": 7,
   "metadata": {
    "colab": {
     "base_uri": "https://localhost:8080/"
    },
    "executionInfo": {
     "elapsed": 747,
     "status": "ok",
     "timestamp": 1675098120079,
     "user": {
      "displayName": "Juan Luis Herencia",
      "userId": "14086757582057977428"
     },
     "user_tz": 300
    },
    "id": "kscZSPLNoCIm",
    "outputId": "ca24ab67-8eab-4c88-ed47-0b9df66b546d"
   },
   "outputs": [
    {
     "data": {
      "text/plain": [
       "1"
      ]
     },
     "execution_count": 7,
     "metadata": {},
     "output_type": "execute_result"
    }
   ],
   "source": [
    "# Obtener el ultimo elemento\n",
    "L1[-1]"
   ]
  },
  {
   "cell_type": "code",
   "execution_count": 8,
   "metadata": {
    "colab": {
     "base_uri": "https://localhost:8080/"
    },
    "executionInfo": {
     "elapsed": 5,
     "status": "ok",
     "timestamp": 1675098213414,
     "user": {
      "displayName": "Juan Luis Herencia",
      "userId": "14086757582057977428"
     },
     "user_tz": 300
    },
    "id": "ZushxGrYoNnW",
    "outputId": "f04d89b0-ed1a-4679-ab40-4eda58f55bc8"
   },
   "outputs": [
    {
     "data": {
      "text/plain": [
       "3"
      ]
     },
     "execution_count": 8,
     "metadata": {},
     "output_type": "execute_result"
    }
   ],
   "source": [
    "# saber el indice de 19\n",
    "L1.index(19)"
   ]
  },
  {
   "cell_type": "code",
   "execution_count": 9,
   "metadata": {
    "colab": {
     "base_uri": "https://localhost:8080/"
    },
    "executionInfo": {
     "elapsed": 8,
     "status": "ok",
     "timestamp": 1675098260061,
     "user": {
      "displayName": "Juan Luis Herencia",
      "userId": "14086757582057977428"
     },
     "user_tz": 300
    },
    "id": "F35GQV-7okY-",
    "outputId": "fe66b243-fb18-46db-c288-248b5508dd17"
   },
   "outputs": [
    {
     "data": {
      "text/plain": [
       "[[3, 5], 'Hola', 3, 3.14]"
      ]
     },
     "execution_count": 9,
     "metadata": {},
     "output_type": "execute_result"
    }
   ],
   "source": [
    "L2 = [[3, 5], 'Hola', 3, 3.14]\n",
    "L2"
   ]
  },
  {
   "cell_type": "code",
   "execution_count": 10,
   "metadata": {
    "colab": {
     "base_uri": "https://localhost:8080/"
    },
    "executionInfo": {
     "elapsed": 243,
     "status": "ok",
     "timestamp": 1675098282720,
     "user": {
      "displayName": "Juan Luis Herencia",
      "userId": "14086757582057977428"
     },
     "user_tz": 300
    },
    "id": "PvFg9OxBov3R",
    "outputId": "1baa60e8-5293-4e84-89b7-6ec2ffb6ceb1"
   },
   "outputs": [
    {
     "data": {
      "text/plain": [
       "3.14"
      ]
     },
     "execution_count": 10,
     "metadata": {},
     "output_type": "execute_result"
    }
   ],
   "source": [
    "L2[3]"
   ]
  },
  {
   "cell_type": "code",
   "execution_count": 11,
   "metadata": {
    "colab": {
     "base_uri": "https://localhost:8080/"
    },
    "executionInfo": {
     "elapsed": 6,
     "status": "ok",
     "timestamp": 1675098307736,
     "user": {
      "displayName": "Juan Luis Herencia",
      "userId": "14086757582057977428"
     },
     "user_tz": 300
    },
    "id": "Y_PjYVR4o1df",
    "outputId": "34648d60-0a47-4710-fcdf-44cdd854a16b"
   },
   "outputs": [
    {
     "name": "stdout",
     "output_type": "stream",
     "text": [
      "[3, 5]\n",
      "Hola\n",
      "3\n",
      "3.14\n"
     ]
    }
   ],
   "source": [
    "for e in L2:\n",
    "    print(e)"
   ]
  },
  {
   "cell_type": "code",
   "execution_count": 12,
   "metadata": {
    "colab": {
     "base_uri": "https://localhost:8080/"
    },
    "executionInfo": {
     "elapsed": 8,
     "status": "ok",
     "timestamp": 1675098373670,
     "user": {
      "displayName": "Juan Luis Herencia",
      "userId": "14086757582057977428"
     },
     "user_tz": 300
    },
    "id": "sCujK4kNo7kW",
    "outputId": "a63d78e1-ff91-452f-f3bc-f355aaecc9db"
   },
   "outputs": [
    {
     "data": {
      "text/plain": [
       "[4, 5, 6, 19, 8, 7, 1]"
      ]
     },
     "execution_count": 12,
     "metadata": {},
     "output_type": "execute_result"
    }
   ],
   "source": [
    "# Arreglos\n",
    "# Colección homogénea de datos (del mismo tipo de dato)\n",
    "L1"
   ]
  },
  {
   "cell_type": "code",
   "execution_count": 13,
   "metadata": {
    "colab": {
     "base_uri": "https://localhost:8080/"
    },
    "executionInfo": {
     "elapsed": 4,
     "status": "ok",
     "timestamp": 1675098407614,
     "user": {
      "displayName": "Juan Luis Herencia",
      "userId": "14086757582057977428"
     },
     "user_tz": 300
    },
    "id": "KwdsbsmmpLjY",
    "outputId": "61310df9-c969-43c8-9e69-64f701c7ee95"
   },
   "outputs": [
    {
     "data": {
      "text/plain": [
       "[4, 5, 6, 19, 8, 7, 1]"
      ]
     },
     "execution_count": 13,
     "metadata": {},
     "output_type": "execute_result"
    }
   ],
   "source": [
    "# Arreglo unidimensional o vector\n",
    "L1"
   ]
  },
  {
   "cell_type": "code",
   "execution_count": 14,
   "metadata": {
    "executionInfo": {
     "elapsed": 246,
     "status": "ok",
     "timestamp": 1675098509216,
     "user": {
      "displayName": "Juan Luis Herencia",
      "userId": "14086757582057977428"
     },
     "user_tz": 300
    },
    "id": "rT3PHWDepUAn"
   },
   "outputs": [],
   "source": [
    "# Arreglo bidimensional o matriz\n",
    "fila1 = [4, 8, 6]\n",
    "fila2 = [1, 5, 9]"
   ]
  },
  {
   "cell_type": "code",
   "execution_count": 15,
   "metadata": {
    "colab": {
     "base_uri": "https://localhost:8080/"
    },
    "executionInfo": {
     "elapsed": 3,
     "status": "ok",
     "timestamp": 1675098531681,
     "user": {
      "displayName": "Juan Luis Herencia",
      "userId": "14086757582057977428"
     },
     "user_tz": 300
    },
    "id": "QEq0lHIGpsxu",
    "outputId": "a7153d33-1332-4d82-bc84-7d2e6d39730b"
   },
   "outputs": [
    {
     "data": {
      "text/plain": [
       "[[4, 8, 6], [1, 5, 9]]"
      ]
     },
     "execution_count": 15,
     "metadata": {},
     "output_type": "execute_result"
    }
   ],
   "source": [
    "# matriz de 2 filas x 3 columnas\n",
    "matriz = [fila1, fila2]\n",
    "matriz"
   ]
  },
  {
   "cell_type": "code",
   "execution_count": 16,
   "metadata": {
    "colab": {
     "base_uri": "https://localhost:8080/"
    },
    "executionInfo": {
     "elapsed": 217,
     "status": "ok",
     "timestamp": 1675098625353,
     "user": {
      "displayName": "Juan Luis Herencia",
      "userId": "14086757582057977428"
     },
     "user_tz": 300
    },
    "id": "xFCgvzUepyOu",
    "outputId": "7189b140-5d59-4a4c-edc8-58ba8f5fca76"
   },
   "outputs": [
    {
     "data": {
      "text/plain": [
       "[1, 5, 9]"
      ]
     },
     "execution_count": 16,
     "metadata": {},
     "output_type": "execute_result"
    }
   ],
   "source": [
    "# Acceder al elemento 9\n",
    "matriz[1]"
   ]
  },
  {
   "cell_type": "code",
   "execution_count": 17,
   "metadata": {
    "colab": {
     "base_uri": "https://localhost:8080/"
    },
    "executionInfo": {
     "elapsed": 243,
     "status": "ok",
     "timestamp": 1675098660644,
     "user": {
      "displayName": "Juan Luis Herencia",
      "userId": "14086757582057977428"
     },
     "user_tz": 300
    },
    "id": "zRrlEJtFqJI3",
    "outputId": "b8e36403-202d-463d-dbd0-e56096161e2f"
   },
   "outputs": [
    {
     "data": {
      "text/plain": [
       "9"
      ]
     },
     "execution_count": 17,
     "metadata": {},
     "output_type": "execute_result"
    }
   ],
   "source": [
    "# matriz[fila][columna]\n",
    "matriz[1][2]"
   ]
  },
  {
   "cell_type": "code",
   "execution_count": 18,
   "metadata": {
    "colab": {
     "base_uri": "https://localhost:8080/"
    },
    "executionInfo": {
     "elapsed": 5,
     "status": "ok",
     "timestamp": 1675098890714,
     "user": {
      "displayName": "Juan Luis Herencia",
      "userId": "14086757582057977428"
     },
     "user_tz": 300
    },
    "id": "_ucydeWuqRyG",
    "outputId": "9b4186a6-52af-4a23-e7ad-31c2614cc8d6"
   },
   "outputs": [
    {
     "data": {
      "text/plain": [
       "8"
      ]
     },
     "execution_count": 18,
     "metadata": {},
     "output_type": "execute_result"
    }
   ],
   "source": [
    "# Para acceder a la informacion\n",
    "# Saber el elemento y su posicion (fila, columna)\n",
    "matriz[0][1]"
   ]
  },
  {
   "cell_type": "markdown",
   "metadata": {
    "id": "HkJWJSKHsrWH"
   },
   "source": [
    "#### Numpy"
   ]
  },
  {
   "cell_type": "code",
   "execution_count": 19,
   "metadata": {
    "colab": {
     "base_uri": "https://localhost:8080/",
     "height": 35
    },
    "executionInfo": {
     "elapsed": 230,
     "status": "ok",
     "timestamp": 1675098939419,
     "user": {
      "displayName": "Juan Luis Herencia",
      "userId": "14086757582057977428"
     },
     "user_tz": 300
    },
    "id": "4V598xa8rJ0A",
    "outputId": "4e5a9fdb-36ed-40ad-c8f9-f5845b987b74"
   },
   "outputs": [
    {
     "data": {
      "text/plain": [
       "'1.24.1'"
      ]
     },
     "execution_count": 19,
     "metadata": {},
     "output_type": "execute_result"
    }
   ],
   "source": [
    "# Es una libreria para análisis y procesamiento numérico\n",
    "np.__version__"
   ]
  },
  {
   "cell_type": "code",
   "execution_count": 20,
   "metadata": {
    "colab": {
     "base_uri": "https://localhost:8080/"
    },
    "executionInfo": {
     "elapsed": 6,
     "status": "ok",
     "timestamp": 1675099383282,
     "user": {
      "displayName": "Juan Luis Herencia",
      "userId": "14086757582057977428"
     },
     "user_tz": 300
    },
    "id": "Ita8-iKmrVyH",
    "outputId": "341673c8-622e-421f-b65d-240c3db156e3"
   },
   "outputs": [
    {
     "data": {
      "text/plain": [
       "array([7, 5, 3, 6])"
      ]
     },
     "execution_count": 20,
     "metadata": {},
     "output_type": "execute_result"
    }
   ],
   "source": [
    "x = np.array([7, 5, 3, 6])\n",
    "x"
   ]
  },
  {
   "cell_type": "code",
   "execution_count": 21,
   "metadata": {
    "colab": {
     "base_uri": "https://localhost:8080/"
    },
    "executionInfo": {
     "elapsed": 223,
     "status": "ok",
     "timestamp": 1675099433995,
     "user": {
      "displayName": "Juan Luis Herencia",
      "userId": "14086757582057977428"
     },
     "user_tz": 300
    },
    "id": "NK2QynM6s_5m",
    "outputId": "d2fdeaa2-1172-4481-b4b6-fb04d2b96559"
   },
   "outputs": [
    {
     "data": {
      "text/plain": [
       "array([2.64575131, 2.23606798, 1.73205081, 2.44948974])"
      ]
     },
     "execution_count": 21,
     "metadata": {},
     "output_type": "execute_result"
    }
   ],
   "source": [
    "x ** 0.5"
   ]
  },
  {
   "cell_type": "code",
   "execution_count": 22,
   "metadata": {
    "colab": {
     "base_uri": "https://localhost:8080/"
    },
    "executionInfo": {
     "elapsed": 2,
     "status": "ok",
     "timestamp": 1675099474836,
     "user": {
      "displayName": "Juan Luis Herencia",
      "userId": "14086757582057977428"
     },
     "user_tz": 300
    },
    "id": "xqOTcT2RtLQe",
    "outputId": "e05e4548-cf86-41f9-a121-fe79e61b9366"
   },
   "outputs": [
    {
     "data": {
      "text/plain": [
       "numpy.ndarray"
      ]
     },
     "execution_count": 22,
     "metadata": {},
     "output_type": "execute_result"
    }
   ],
   "source": [
    "# Tipo de dato del arreglo\n",
    "type(x)"
   ]
  },
  {
   "cell_type": "code",
   "execution_count": 23,
   "metadata": {
    "colab": {
     "base_uri": "https://localhost:8080/"
    },
    "executionInfo": {
     "elapsed": 5,
     "status": "ok",
     "timestamp": 1675099517231,
     "user": {
      "displayName": "Juan Luis Herencia",
      "userId": "14086757582057977428"
     },
     "user_tz": 300
    },
    "id": "2Fr40QDutYaP",
    "outputId": "c9344c42-477d-4cc3-b86e-ba42b1722c55"
   },
   "outputs": [
    {
     "data": {
      "text/plain": [
       "dtype('int64')"
      ]
     },
     "execution_count": 23,
     "metadata": {},
     "output_type": "execute_result"
    }
   ],
   "source": [
    "# Tipo de dato de cada elemento\n",
    "x.dtype"
   ]
  },
  {
   "cell_type": "code",
   "execution_count": 24,
   "metadata": {
    "id": "PzBoC3b_tiwm"
   },
   "outputs": [],
   "source": [
    "# int8, int16, int32, ..."
   ]
  },
  {
   "cell_type": "code",
   "execution_count": 25,
   "metadata": {
    "colab": {
     "base_uri": "https://localhost:8080/"
    },
    "executionInfo": {
     "elapsed": 525,
     "status": "ok",
     "timestamp": 1675099614556,
     "user": {
      "displayName": "Juan Luis Herencia",
      "userId": "14086757582057977428"
     },
     "user_tz": 300
    },
    "id": "Ee3jM_G9t3H_",
    "outputId": "652842a3-099a-452d-c615-1feefbf46c4d"
   },
   "outputs": [
    {
     "data": {
      "text/plain": [
       "32"
      ]
     },
     "execution_count": 25,
     "metadata": {},
     "output_type": "execute_result"
    }
   ],
   "source": [
    "x.nbytes"
   ]
  },
  {
   "cell_type": "markdown",
   "metadata": {
    "id": "-a-YA7FHt_OA"
   },
   "source": [
    "#### Números Aleatorios"
   ]
  },
  {
   "cell_type": "code",
   "execution_count": 26,
   "metadata": {
    "colab": {
     "base_uri": "https://localhost:8080/"
    },
    "executionInfo": {
     "elapsed": 245,
     "status": "ok",
     "timestamp": 1675099696169,
     "user": {
      "displayName": "Juan Luis Herencia",
      "userId": "14086757582057977428"
     },
     "user_tz": 300
    },
    "id": "DRjGRNufuCgP",
    "outputId": "a6234ec5-fd0a-44ed-d470-687efa07a5a3"
   },
   "outputs": [
    {
     "data": {
      "text/plain": [
       "8"
      ]
     },
     "execution_count": 26,
     "metadata": {},
     "output_type": "execute_result"
    }
   ],
   "source": [
    "# Enteros\n",
    "# np.random.randint(min,max)\n",
    "# Generacion entre min y max - 1\n",
    "np.random.randint(0, 10)"
   ]
  },
  {
   "cell_type": "code",
   "execution_count": 27,
   "metadata": {
    "colab": {
     "base_uri": "https://localhost:8080/"
    },
    "executionInfo": {
     "elapsed": 224,
     "status": "ok",
     "timestamp": 1675099798918,
     "user": {
      "displayName": "Juan Luis Herencia",
      "userId": "14086757582057977428"
     },
     "user_tz": 300
    },
    "id": "eNutG0lSuYN2",
    "outputId": "1060bd94-1037-4773-8936-941bd1525f00"
   },
   "outputs": [
    {
     "data": {
      "text/plain": [
       "array([4, 5, 4, 1, 3, 3, 4, 3, 6, 1])"
      ]
     },
     "execution_count": 27,
     "metadata": {},
     "output_type": "execute_result"
    }
   ],
   "source": [
    "# simular 10 tiradas de un dado\n",
    "np.random.randint(1, 7, 10)"
   ]
  },
  {
   "cell_type": "code",
   "execution_count": 28,
   "metadata": {
    "colab": {
     "base_uri": "https://localhost:8080/"
    },
    "executionInfo": {
     "elapsed": 272,
     "status": "ok",
     "timestamp": 1675099921019,
     "user": {
      "displayName": "Juan Luis Herencia",
      "userId": "14086757582057977428"
     },
     "user_tz": 300
    },
    "id": "dUhdP2FLt6jH",
    "outputId": "117b304c-5434-484b-faac-050442162786"
   },
   "outputs": [
    {
     "data": {
      "text/plain": [
       "array([[17, 13,  5,  1],\n",
       "       [ 8, 11, 11,  4],\n",
       "       [ 1, 19, 11,  9],\n",
       "       [14, 11, 10, 13],\n",
       "       [16, 16,  3, 17],\n",
       "       [14, 10,  5,  6],\n",
       "       [17, 20,  9, 13],\n",
       "       [ 1,  6,  6, 17],\n",
       "       [14,  3,  5,  4],\n",
       "       [20,  6,  2, 20],\n",
       "       [ 7,  4, 20, 11],\n",
       "       [19,  8,  5,  2],\n",
       "       [ 6,  2,  7,  9],\n",
       "       [16,  9,  4, 14],\n",
       "       [14,  9,  8,  6]])"
      ]
     },
     "execution_count": 28,
     "metadata": {},
     "output_type": "execute_result"
    }
   ],
   "source": [
    "# simular las calificaciones de 4 practicas para 15 alumnos\n",
    "calif = np.random.randint(1, 21, (15, 4))\n",
    "calif"
   ]
  },
  {
   "cell_type": "code",
   "execution_count": 29,
   "metadata": {
    "colab": {
     "base_uri": "https://localhost:8080/"
    },
    "executionInfo": {
     "elapsed": 241,
     "status": "ok",
     "timestamp": 1675100027112,
     "user": {
      "displayName": "Juan Luis Herencia",
      "userId": "14086757582057977428"
     },
     "user_tz": 300
    },
    "id": "QLEnDGhQu9Nn",
    "outputId": "ec88e356-4256-49c9-e826-e9f39d049fe2"
   },
   "outputs": [
    {
     "data": {
      "text/plain": [
       "array([ 9.  ,  8.5 , 10.  , 12.  , 13.  ,  8.75, 14.75,  7.5 ,  6.5 ,\n",
       "       12.  , 10.5 ,  8.5 ,  6.  , 10.75,  9.25])"
      ]
     },
     "execution_count": 29,
     "metadata": {},
     "output_type": "execute_result"
    }
   ],
   "source": [
    "np.sum(calif, axis=1) / 4"
   ]
  },
  {
   "cell_type": "code",
   "execution_count": 30,
   "metadata": {
    "colab": {
     "base_uri": "https://localhost:8080/"
    },
    "executionInfo": {
     "elapsed": 420,
     "status": "ok",
     "timestamp": 1675100171090,
     "user": {
      "displayName": "Juan Luis Herencia",
      "userId": "14086757582057977428"
     },
     "user_tz": 300
    },
    "id": "2zFvVJ0rvVA-",
    "outputId": "d61fa3b0-5694-4aef-dc2d-a0ee307b75ee"
   },
   "outputs": [
    {
     "data": {
      "text/plain": [
       "0.49910272623578156"
      ]
     },
     "execution_count": 30,
     "metadata": {},
     "output_type": "execute_result"
    }
   ],
   "source": [
    "# numero aleatorio real entre 0 y 1\n",
    "np.random.rand()"
   ]
  },
  {
   "cell_type": "code",
   "execution_count": 31,
   "metadata": {
    "colab": {
     "base_uri": "https://localhost:8080/"
    },
    "executionInfo": {
     "elapsed": 3,
     "status": "ok",
     "timestamp": 1675100191154,
     "user": {
      "displayName": "Juan Luis Herencia",
      "userId": "14086757582057977428"
     },
     "user_tz": 300
    },
    "id": "lrcelSBuvv2v",
    "outputId": "c1f1b657-c61b-4376-8548-1e237cd7559b"
   },
   "outputs": [
    {
     "data": {
      "text/plain": [
       "37.584781514228226"
      ]
     },
     "execution_count": 31,
     "metadata": {},
     "output_type": "execute_result"
    }
   ],
   "source": [
    "# numero aleatorio real entre 0 y 100\n",
    "np.random.rand()*100"
   ]
  }
 ],
 "metadata": {
  "colab": {
   "authorship_tag": "ABX9TyMweYssZDu9Av44AIhj3p7r",
   "provenance": []
  },
  "kernelspec": {
   "display_name": "Python 3 (ipykernel)",
   "language": "python",
   "name": "python3"
  },
  "language_info": {
   "codemirror_mode": {
    "name": "ipython",
    "version": 3
   },
   "file_extension": ".py",
   "mimetype": "text/x-python",
   "name": "python",
   "nbconvert_exporter": "python",
   "pygments_lexer": "ipython3",
   "version": "3.10.9"
  }
 },
 "nbformat": 4,
 "nbformat_minor": 1
}
