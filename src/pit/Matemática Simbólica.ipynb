{
 "nbformat": 4,
 "nbformat_minor": 0,
 "metadata": {
  "colab": {
   "provenance": [],
   "authorship_tag": "ABX9TyOi5R1heGeB0g9SVgKXle+U"
  },
  "kernelspec": {
   "name": "python3",
   "display_name": "Python 3"
  },
  "language_info": {
   "name": "python"
  }
 },
 "cells": [
  {
   "cell_type": "code",
   "execution_count": null,
   "metadata": {
    "id": "BuvfPwMd1cbX"
   },
   "outputs": [],
   "source": []
  },
  {
   "cell_type": "markdown",
   "source": [
    "# Python para Ingeniería\n",
    "## Matemática Simbólica\n",
    "Profesor : Juan Luis Herencia Guerra"
   ],
   "metadata": {
    "id": "CB9fxkn11kvU"
   }
  },
  {
   "cell_type": "code",
   "source": [
    "from sympy import *"
   ],
   "metadata": {
    "id": "bS-dD5121yPi",
    "executionInfo": {
     "status": "ok",
     "timestamp": 1676477652270,
     "user_tz": 300,
     "elapsed": 1783,
     "user": {
      "displayName": "JUAN LUIS HERENCIA GUERRA",
      "userId": "07206483212682125217"
     }
    }
   },
   "execution_count": 1,
   "outputs": []
  },
  {
   "cell_type": "markdown",
   "source": [
    "**Sympy** es una biblioteca para resolver problemas matemáticos de forma simbólica\n",
    "\n",
    "[Documentación](https://www.sympy.org/en/index.html)"
   ],
   "metadata": {
    "id": "EsxnWx322uXi"
   }
  },
  {
   "cell_type": "markdown",
   "source": [
    "### Intro"
   ],
   "metadata": {
    "id": "rJEhfp123jLL"
   }
  },
  {
   "cell_type": "code",
   "source": [
    "init_printing()"
   ],
   "metadata": {
    "id": "ZPOu5xEZ2rme",
    "executionInfo": {
     "status": "ok",
     "timestamp": 1676477912756,
     "user_tz": 300,
     "elapsed": 4,
     "user": {
      "displayName": "JUAN LUIS HERENCIA GUERRA",
      "userId": "07206483212682125217"
     }
    }
   },
   "execution_count": 2,
   "outputs": []
  },
  {
   "cell_type": "code",
   "source": [
    "pi"
   ],
   "metadata": {
    "colab": {
     "base_uri": "https://localhost:8080/",
     "height": 38
    },
    "id": "HJglPZ1H3tRm",
    "executionInfo": {
     "status": "ok",
     "timestamp": 1676477932868,
     "user_tz": 300,
     "elapsed": 442,
     "user": {
      "displayName": "JUAN LUIS HERENCIA GUERRA",
      "userId": "07206483212682125217"
     }
    },
    "outputId": "f45caf15-1d99-4707-db71-f956ac9f3fa4"
   },
   "execution_count": 3,
   "outputs": [
    {
     "output_type": "execute_result",
     "data": {
      "text/plain": [
       "π"
      ],
      "image/png": "[encoded data removed]",
      "text/latex": "$\\displaystyle \\pi$"
     },
     "metadata": {},
     "execution_count": 3
    }
   ]
  },
  {
   "cell_type": "code",
   "source": [
    "I"
   ],
   "metadata": {
    "colab": {
     "base_uri": "https://localhost:8080/",
     "height": 38
    },
    "id": "BUEL0vvj3x7J",
    "executionInfo": {
     "status": "ok",
     "timestamp": 1676477960110,
     "user_tz": 300,
     "elapsed": 268,
     "user": {
      "displayName": "JUAN LUIS HERENCIA GUERRA",
      "userId": "07206483212682125217"
     }
    },
    "outputId": "e92f009c-4275-4c7f-b4b2-50dc2ccbf97d"
   },
   "execution_count": 4,
   "outputs": [
    {
     "output_type": "execute_result",
     "data": {
      "text/plain": [
       "ⅈ"
      ],
      "image/png": "[encoded data removed]",
      "text/latex": "$\\displaystyle i$"
     },
     "metadata": {},
     "execution_count": 4
    }
   ]
  },
  {
   "cell_type": "code",
   "source": [
    "pi + I"
   ],
   "metadata": {
    "colab": {
     "base_uri": "https://localhost:8080/",
     "height": 38
    },
    "id": "xKZ3olVL34g3",
    "executionInfo": {
     "status": "ok",
     "timestamp": 1676477966905,
     "user_tz": 300,
     "elapsed": 4,
     "user": {
      "displayName": "JUAN LUIS HERENCIA GUERRA",
      "userId": "07206483212682125217"
     }
    },
    "outputId": "8b1161ae-80ed-4fa3-9be0-86905b03cbfb"
   },
   "execution_count": 5,
   "outputs": [
    {
     "output_type": "execute_result",
     "data": {
      "text/plain": [
       "π + ⅈ"
      ],
      "image/png": "[encoded data removed]",
      "text/latex": "$\\displaystyle \\pi + i$"
     },
     "metadata": {},
     "execution_count": 5
    }
   ]
  },
  {
   "cell_type": "code",
   "source": [
    "I**2"
   ],
   "metadata": {
    "colab": {
     "base_uri": "https://localhost:8080/",
     "height": 37
    },
    "id": "TYrU_zFA36Um",
    "executionInfo": {
     "status": "ok",
     "timestamp": 1676477976189,
     "user_tz": 300,
     "elapsed": 4,
     "user": {
      "displayName": "JUAN LUIS HERENCIA GUERRA",
      "userId": "07206483212682125217"
     }
    },
    "outputId": "dcc54a35-6408-4f4f-bbbc-5ff9bdb258bf"
   },
   "execution_count": 6,
   "outputs": [
    {
     "output_type": "execute_result",
     "data": {
      "text/plain": [
       "-1"
      ],
      "image/png": "[encoded data removed]",
      "text/latex": "$\\displaystyle -1$"
     },
     "metadata": {},
     "execution_count": 6
    }
   ]
  },
  {
   "cell_type": "code",
   "source": [
    "# infinito\n",
    "oo"
   ],
   "metadata": {
    "colab": {
     "base_uri": "https://localhost:8080/",
     "height": 37
    },
    "id": "FjJ7D0kN38xv",
    "executionInfo": {
     "status": "ok",
     "timestamp": 1676478006152,
     "user_tz": 300,
     "elapsed": 5,
     "user": {
      "displayName": "JUAN LUIS HERENCIA GUERRA",
      "userId": "07206483212682125217"
     }
    },
    "outputId": "251633ed-4fe1-4e35-ead0-67e3cadc6d4c"
   },
   "execution_count": 7,
   "outputs": [
    {
     "output_type": "execute_result",
     "data": {
      "text/plain": [
       "∞"
      ],
      "image/png": "[encoded data removed]",
      "text/latex": "$\\displaystyle \\infty$"
     },
     "metadata": {},
     "execution_count": 7
    }
   ]
  },
  {
   "cell_type": "code",
   "source": [
    "3/oo"
   ],
   "metadata": {
    "colab": {
     "base_uri": "https://localhost:8080/",
     "height": 37
    },
    "id": "ZQ03rVpB4D-6",
    "executionInfo": {
     "status": "ok",
     "timestamp": 1676478019580,
     "user_tz": 300,
     "elapsed": 6,
     "user": {
      "displayName": "JUAN LUIS HERENCIA GUERRA",
      "userId": "07206483212682125217"
     }
    },
    "outputId": "f8a4ccf3-9a38-42d2-c51c-5de4bac93ef6"
   },
   "execution_count": 8,
   "outputs": [
    {
     "output_type": "execute_result",
     "data": {
      "text/plain": [
       "0"
      ],
      "image/png": "[encoded data removed]",
      "text/latex": "$\\displaystyle 0$"
     },
     "metadata": {},
     "execution_count": 8
    }
   ]
  },
  {
   "cell_type": "code",
   "source": [
    "# Simbolos algebraicos\n",
    "x = Symbol('x')  # por sugerencia las variables deben ser igual a los símbolos\n",
    "x"
   ],
   "metadata": {
    "colab": {
     "base_uri": "https://localhost:8080/",
     "height": 38
    },
    "id": "T7pDLgkD4HPg",
    "executionInfo": {
     "status": "ok",
     "timestamp": 1676478191007,
     "user_tz": 300,
     "elapsed": 326,
     "user": {
      "displayName": "JUAN LUIS HERENCIA GUERRA",
      "userId": "07206483212682125217"
     }
    },
    "outputId": "e37fb855-7a3a-4f56-a335-5e16c56048a2"
   },
   "execution_count": 11,
   "outputs": [
    {
     "output_type": "execute_result",
     "data": {
      "text/plain": [
       "x"
      ],
      "image/png": "[encoded data removed]",
      "text/latex": "$\\displaystyle x$"
     },
     "metadata": {},
     "execution_count": 11
    }
   ]
  },
  {
   "cell_type": "code",
   "source": [
    "type(x)"
   ],
   "metadata": {
    "colab": {
     "base_uri": "https://localhost:8080/"
    },
    "id": "vmBi-eg-4dH_",
    "executionInfo": {
     "status": "ok",
     "timestamp": 1676478204034,
     "user_tz": 300,
     "elapsed": 4,
     "user": {
      "displayName": "JUAN LUIS HERENCIA GUERRA",
      "userId": "07206483212682125217"
     }
    },
    "outputId": "a1af7647-8a4d-4fc0-d2bc-ed41f51deb24"
   },
   "execution_count": 12,
   "outputs": [
    {
     "output_type": "execute_result",
     "data": {
      "text/plain": [
       "sympy.core.symbol.Symbol"
      ]
     },
     "metadata": {},
     "execution_count": 12
    }
   ]
  },
  {
   "cell_type": "code",
   "source": [
    "y = Symbol('y', real=True)\n",
    "y"
   ],
   "metadata": {
    "colab": {
     "base_uri": "https://localhost:8080/",
     "height": 38
    },
    "id": "y5QcKWtk40P0",
    "executionInfo": {
     "status": "ok",
     "timestamp": 1676478253109,
     "user_tz": 300,
     "elapsed": 4,
     "user": {
      "displayName": "JUAN LUIS HERENCIA GUERRA",
      "userId": "07206483212682125217"
     }
    },
    "outputId": "9c4c2aec-980a-4245-c06e-b182430e350b"
   },
   "execution_count": 13,
   "outputs": [
    {
     "output_type": "execute_result",
     "data": {
      "text/plain": [
       "y"
      ],
      "image/png": "[encoded data removed]",
      "text/latex": "$\\displaystyle y$"
     },
     "metadata": {},
     "execution_count": 13
    }
   ]
  },
  {
   "cell_type": "code",
   "source": [
    "y.is_real"
   ],
   "metadata": {
    "colab": {
     "base_uri": "https://localhost:8080/"
    },
    "id": "VpS5Amxm5AM_",
    "executionInfo": {
     "status": "ok",
     "timestamp": 1676478264926,
     "user_tz": 300,
     "elapsed": 4,
     "user": {
      "displayName": "JUAN LUIS HERENCIA GUERRA",
      "userId": "07206483212682125217"
     }
    },
    "outputId": "b1a07328-49c8-4456-aa7d-daa26130626f"
   },
   "execution_count": 14,
   "outputs": [
    {
     "output_type": "execute_result",
     "data": {
      "text/plain": [
       "True"
      ]
     },
     "metadata": {},
     "execution_count": 14
    }
   ]
  },
  {
   "cell_type": "code",
   "source": [
    "# No esta definido su tipo numérico\n",
    "x.is_real"
   ],
   "metadata": {
    "id": "6vBhNxlf5DNd",
    "executionInfo": {
     "status": "ok",
     "timestamp": 1676478298243,
     "user_tz": 300,
     "elapsed": 264,
     "user": {
      "displayName": "JUAN LUIS HERENCIA GUERRA",
      "userId": "07206483212682125217"
     }
    }
   },
   "execution_count": 16,
   "outputs": []
  },
  {
   "cell_type": "code",
   "source": [
    "# Se define imaginario, pero se pregunta si es real\n",
    "Symbol('z', imaginary=True).is_real"
   ],
   "metadata": {
    "colab": {
     "base_uri": "https://localhost:8080/"
    },
    "id": "U5seoyDd5JrO",
    "executionInfo": {
     "status": "ok",
     "timestamp": 1676478392413,
     "user_tz": 300,
     "elapsed": 3,
     "user": {
      "displayName": "JUAN LUIS HERENCIA GUERRA",
      "userId": "07206483212682125217"
     }
    },
    "outputId": "36fc2806-70e9-4521-abd9-f1b4e26d31c1"
   },
   "execution_count": 18,
   "outputs": [
    {
     "output_type": "execute_result",
     "data": {
      "text/plain": [
       "False"
      ]
     },
     "metadata": {},
     "execution_count": 18
    }
   ]
  },
  {
   "cell_type": "code",
   "source": [
    "# Indicar al dominio\n",
    "y = Symbol('y', positive=True)\n",
    "y"
   ],
   "metadata": {
    "colab": {
     "base_uri": "https://localhost:8080/",
     "height": 38
    },
    "id": "HCLqiyL45eBa",
    "executionInfo": {
     "status": "ok",
     "timestamp": 1676478458693,
     "user_tz": 300,
     "elapsed": 3,
     "user": {
      "displayName": "JUAN LUIS HERENCIA GUERRA",
      "userId": "07206483212682125217"
     }
    },
    "outputId": "5d400ce3-aae5-433e-a4a2-7fdafd5e9d46"
   },
   "execution_count": 19,
   "outputs": [
    {
     "output_type": "execute_result",
     "data": {
      "text/plain": [
       "y"
      ],
      "image/png": "[encoded data removed]",
      "text/latex": "$\\displaystyle y$"
     },
     "metadata": {},
     "execution_count": 19
    }
   ]
  },
  {
   "cell_type": "code",
   "source": [
    "y.is_real"
   ],
   "metadata": {
    "colab": {
     "base_uri": "https://localhost:8080/"
    },
    "id": "iuKxf5OV5yX-",
    "executionInfo": {
     "status": "ok",
     "timestamp": 1676478474503,
     "user_tz": 300,
     "elapsed": 273,
     "user": {
      "displayName": "JUAN LUIS HERENCIA GUERRA",
      "userId": "07206483212682125217"
     }
    },
    "outputId": "41c22bc6-e658-4441-930b-c4f6aed13bec"
   },
   "execution_count": 20,
   "outputs": [
    {
     "output_type": "execute_result",
     "data": {
      "text/plain": [
       "True"
      ]
     },
     "metadata": {},
     "execution_count": 20
    }
   ]
  },
  {
   "cell_type": "code",
   "source": [
    "# comprobar\n",
    "sqrt(y**2)"
   ],
   "metadata": {
    "colab": {
     "base_uri": "https://localhost:8080/",
     "height": 38
    },
    "id": "Vco4V6ha52Ux",
    "executionInfo": {
     "status": "ok",
     "timestamp": 1676478550162,
     "user_tz": 300,
     "elapsed": 5,
     "user": {
      "displayName": "JUAN LUIS HERENCIA GUERRA",
      "userId": "07206483212682125217"
     }
    },
    "outputId": "03ef3e54-e174-4a1c-ec4e-d11a81cd9f3a"
   },
   "execution_count": 21,
   "outputs": [
    {
     "output_type": "execute_result",
     "data": {
      "text/plain": [
       "y"
      ],
      "image/png": "[encoded data removed]",
      "text/latex": "$\\displaystyle y$"
     },
     "metadata": {},
     "execution_count": 21
    }
   ]
  },
  {
   "cell_type": "code",
   "source": [
    "sqrt(x**2)"
   ],
   "metadata": {
    "colab": {
     "base_uri": "https://localhost:8080/",
     "height": 39
    },
    "id": "4cL5DbUF6I4K",
    "executionInfo": {
     "status": "ok",
     "timestamp": 1676478586510,
     "user_tz": 300,
     "elapsed": 6,
     "user": {
      "displayName": "JUAN LUIS HERENCIA GUERRA",
      "userId": "07206483212682125217"
     }
    },
    "outputId": "6578639f-0444-47e5-9860-4ebb60be3d43"
   },
   "execution_count": 22,
   "outputs": [
    {
     "output_type": "execute_result",
     "data": {
      "text/plain": [
       "   ____\n",
       "  ╱  2 \n",
       "╲╱  x  "
      ],
      "image/png": "[encoded data removed]",
      "text/latex": "$\\displaystyle \\sqrt{x^{2}}$"
     },
     "metadata": {},
     "execution_count": 22
    }
   ]
  },
  {
   "cell_type": "code",
   "source": [
    "n1 = Symbol('n')\n",
    "n1"
   ],
   "metadata": {
    "colab": {
     "base_uri": "https://localhost:8080/",
     "height": 38
    },
    "id": "B8z_jkaJ6Rpx",
    "executionInfo": {
     "status": "ok",
     "timestamp": 1676478729673,
     "user_tz": 300,
     "elapsed": 5,
     "user": {
      "displayName": "JUAN LUIS HERENCIA GUERRA",
      "userId": "07206483212682125217"
     }
    },
    "outputId": "b8957482-9149-4911-addd-3f9299f06cd0"
   },
   "execution_count": 23,
   "outputs": [
    {
     "output_type": "execute_result",
     "data": {
      "text/plain": [
       "n"
      ],
      "image/png": "[encoded data removed]",
      "text/latex": "$\\displaystyle n$"
     },
     "metadata": {},
     "execution_count": 23
    }
   ]
  },
  {
   "cell_type": "code",
   "source": [
    "cos(n1*pi)"
   ],
   "metadata": {
    "colab": {
     "base_uri": "https://localhost:8080/",
     "height": 38
    },
    "id": "V2Z196ew60iu",
    "executionInfo": {
     "status": "ok",
     "timestamp": 1676478749164,
     "user_tz": 300,
     "elapsed": 5,
     "user": {
      "displayName": "JUAN LUIS HERENCIA GUERRA",
      "userId": "07206483212682125217"
     }
    },
    "outputId": "553c073a-eb9a-4b02-ec2c-e74555f19713"
   },
   "execution_count": 24,
   "outputs": [
    {
     "output_type": "execute_result",
     "data": {
      "text/plain": [
       "cos(π⋅n)"
      ],
      "image/png": "[encoded data removed]",
      "text/latex": "$\\displaystyle \\cos{\\left(\\pi n \\right)}$"
     },
     "metadata": {},
     "execution_count": 24
    }
   ]
  },
  {
   "cell_type": "code",
   "source": [
    "n2 = Symbol('n', integer=True)\n",
    "n2"
   ],
   "metadata": {
    "colab": {
     "base_uri": "https://localhost:8080/",
     "height": 38
    },
    "id": "-C_Q-0hI65Yj",
    "executionInfo": {
     "status": "ok",
     "timestamp": 1676478792761,
     "user_tz": 300,
     "elapsed": 6,
     "user": {
      "displayName": "JUAN LUIS HERENCIA GUERRA",
      "userId": "07206483212682125217"
     }
    },
    "outputId": "fa47104b-d906-402e-b2a1-fb93b37c3475"
   },
   "execution_count": 25,
   "outputs": [
    {
     "output_type": "execute_result",
     "data": {
      "text/plain": [
       "n"
      ],
      "image/png": "[encoded data removed]",
      "text/latex": "$\\displaystyle n$"
     },
     "metadata": {},
     "execution_count": 25
    }
   ]
  },
  {
   "cell_type": "code",
   "source": [
    "cos(n2*pi)"
   ],
   "metadata": {
    "colab": {
     "base_uri": "https://localhost:8080/",
     "height": 37
    },
    "id": "ztjMMMuu7D_o",
    "executionInfo": {
     "status": "ok",
     "timestamp": 1676478810220,
     "user_tz": 300,
     "elapsed": 290,
     "user": {
      "displayName": "JUAN LUIS HERENCIA GUERRA",
      "userId": "07206483212682125217"
     }
    },
    "outputId": "abf094cd-d392-4352-e8f2-acd3ad80fe17"
   },
   "execution_count": 26,
   "outputs": [
    {
     "output_type": "execute_result",
     "data": {
      "text/plain": [
       "    n\n",
       "(-1) "
      ],
      "image/png": "[encoded data removed]",
      "text/latex": "$\\displaystyle \\left(-1\\right)^{n}$"
     },
     "metadata": {},
     "execution_count": 26
    }
   ]
  },
  {
   "cell_type": "code",
   "source": [
    "n3 = Symbol('n', odd=True)  # impar\n",
    "n3"
   ],
   "metadata": {
    "colab": {
     "base_uri": "https://localhost:8080/",
     "height": 38
    },
    "id": "IerzraU07ISw",
    "executionInfo": {
     "status": "ok",
     "timestamp": 1676478914165,
     "user_tz": 300,
     "elapsed": 4,
     "user": {
      "displayName": "JUAN LUIS HERENCIA GUERRA",
      "userId": "07206483212682125217"
     }
    },
    "outputId": "f87a49ff-146a-451c-8a43-21c04b107a66"
   },
   "execution_count": 27,
   "outputs": [
    {
     "output_type": "execute_result",
     "data": {
      "text/plain": [
       "n"
      ],
      "image/png": "[encoded data removed]",
      "text/latex": "$\\displaystyle n$"
     },
     "metadata": {},
     "execution_count": 27
    }
   ]
  },
  {
   "cell_type": "code",
   "source": [
    "cos(n3*pi)  # cos(pi), cos(3pi), cos(5pi),..."
   ],
   "metadata": {
    "colab": {
     "base_uri": "https://localhost:8080/",
     "height": 37
    },
    "id": "XZ3XMBfF7hqO",
    "executionInfo": {
     "status": "ok",
     "timestamp": 1676478967383,
     "user_tz": 300,
     "elapsed": 5,
     "user": {
      "displayName": "JUAN LUIS HERENCIA GUERRA",
      "userId": "07206483212682125217"
     }
    },
    "outputId": "09cf61ef-d0fc-4bf3-c041-9cbf957d4615"
   },
   "execution_count": 28,
   "outputs": [
    {
     "output_type": "execute_result",
     "data": {
      "text/plain": [
       "-1"
      ],
      "image/png": "[encoded data removed]",
      "text/latex": "$\\displaystyle -1$"
     },
     "metadata": {},
     "execution_count": 28
    }
   ]
  },
  {
   "cell_type": "code",
   "source": [
    "# Definicion de mas de un símbolo\n",
    "a, b, c = symbols('a,b,c', negative=True)\n",
    "a"
   ],
   "metadata": {
    "colab": {
     "base_uri": "https://localhost:8080/",
     "height": 38
    },
    "id": "iz39E3pe7ugh",
    "executionInfo": {
     "status": "ok",
     "timestamp": 1676479052402,
     "user_tz": 300,
     "elapsed": 5,
     "user": {
      "displayName": "JUAN LUIS HERENCIA GUERRA",
      "userId": "07206483212682125217"
     }
    },
    "outputId": "2bcad066-428a-4926-b808-a810e792572b"
   },
   "execution_count": 29,
   "outputs": [
    {
     "output_type": "execute_result",
     "data": {
      "text/plain": [
       "a"
      ],
      "image/png": "[encoded data removed]",
      "text/latex": "$\\displaystyle a$"
     },
     "metadata": {},
     "execution_count": 29
    }
   ]
  },
  {
   "cell_type": "code",
   "source": [
    "b"
   ],
   "metadata": {
    "colab": {
     "base_uri": "https://localhost:8080/",
     "height": 38
    },
    "id": "m1DCTnYu8DXq",
    "executionInfo": {
     "status": "ok",
     "timestamp": 1676479056581,
     "user_tz": 300,
     "elapsed": 5,
     "user": {
      "displayName": "JUAN LUIS HERENCIA GUERRA",
      "userId": "07206483212682125217"
     }
    },
    "outputId": "1537a7ed-ee18-40b1-afaa-ec07f8b9aeaf"
   },
   "execution_count": 30,
   "outputs": [
    {
     "output_type": "execute_result",
     "data": {
      "text/plain": [
       "b"
      ],
      "image/png": "[encoded data removed]",
      "text/latex": "$\\displaystyle b$"
     },
     "metadata": {},
     "execution_count": 30
    }
   ]
  },
  {
   "cell_type": "code",
   "source": [
    "c"
   ],
   "metadata": {
    "colab": {
     "base_uri": "https://localhost:8080/",
     "height": 38
    },
    "id": "glN-ppfN8EQA",
    "executionInfo": {
     "status": "ok",
     "timestamp": 1676479059513,
     "user_tz": 300,
     "elapsed": 280,
     "user": {
      "displayName": "JUAN LUIS HERENCIA GUERRA",
      "userId": "07206483212682125217"
     }
    },
    "outputId": "bcc4eb05-f8a1-443a-9558-d63668eed42e"
   },
   "execution_count": 31,
   "outputs": [
    {
     "output_type": "execute_result",
     "data": {
      "text/plain": [
       "c"
      ],
      "image/png": "[encoded data removed]",
      "text/latex": "$\\displaystyle c$"
     },
     "metadata": {},
     "execution_count": 31
    }
   ]
  },
  {
   "cell_type": "markdown",
   "source": [
    "### Números"
   ],
   "metadata": {
    "id": "Dn-l71xa8Nwl"
   }
  },
  {
   "cell_type": "code",
   "source": [
    "# i será el número 19\n",
    "i = Integer(19)\n",
    "i"
   ],
   "metadata": {
    "colab": {
     "base_uri": "https://localhost:8080/",
     "height": 37
    },
    "id": "Cd480zi78E50",
    "executionInfo": {
     "status": "ok",
     "timestamp": 1676479134469,
     "user_tz": 300,
     "elapsed": 5,
     "user": {
      "displayName": "JUAN LUIS HERENCIA GUERRA",
      "userId": "07206483212682125217"
     }
    },
    "outputId": "4316ba7a-6fd2-4069-a762-24ccb33c3bf8"
   },
   "execution_count": 32,
   "outputs": [
    {
     "output_type": "execute_result",
     "data": {
      "text/plain": [
       "19"
      ],
      "image/png": "[encoded data removed]",
      "text/latex": "$\\displaystyle 19$"
     },
     "metadata": {},
     "execution_count": 32
    }
   ]
  },
  {
   "cell_type": "code",
   "source": [
    "# Es un número entero?\n",
    "i.is_Integer"
   ],
   "metadata": {
    "colab": {
     "base_uri": "https://localhost:8080/"
    },
    "id": "c9OpSiB88Xe7",
    "executionInfo": {
     "status": "ok",
     "timestamp": 1676479177458,
     "user_tz": 300,
     "elapsed": 287,
     "user": {
      "displayName": "JUAN LUIS HERENCIA GUERRA",
      "userId": "07206483212682125217"
     }
    },
    "outputId": "5811da07-71aa-40e0-ccee-92f774f666f3"
   },
   "execution_count": 33,
   "outputs": [
    {
     "output_type": "execute_result",
     "data": {
      "text/plain": [
       "True"
      ]
     },
     "metadata": {},
     "execution_count": 33
    }
   ]
  },
  {
   "cell_type": "code",
   "source": [
    "i.is_integer"
   ],
   "metadata": {
    "colab": {
     "base_uri": "https://localhost:8080/"
    },
    "id": "N4wN8WJC8h9L",
    "executionInfo": {
     "status": "ok",
     "timestamp": 1676479230148,
     "user_tz": 300,
     "elapsed": 288,
     "user": {
      "displayName": "JUAN LUIS HERENCIA GUERRA",
      "userId": "07206483212682125217"
     }
    },
    "outputId": "966780a6-5d77-4b66-ccfe-e779d18db845"
   },
   "execution_count": 34,
   "outputs": [
    {
     "output_type": "execute_result",
     "data": {
      "text/plain": [
       "True"
      ]
     },
     "metadata": {},
     "execution_count": 34
    }
   ]
  },
  {
   "cell_type": "code",
   "source": [
    "# Si es impar odd, par even\n",
    "i.is_even"
   ],
   "metadata": {
    "colab": {
     "base_uri": "https://localhost:8080/"
    },
    "id": "dW5jLMNp8uzv",
    "executionInfo": {
     "status": "ok",
     "timestamp": 1676479275574,
     "user_tz": 300,
     "elapsed": 3,
     "user": {
      "displayName": "JUAN LUIS HERENCIA GUERRA",
      "userId": "07206483212682125217"
     }
    },
    "outputId": "b0c015f3-99c7-406c-d753-57bc6ca0be4a"
   },
   "execution_count": 36,
   "outputs": [
    {
     "output_type": "execute_result",
     "data": {
      "text/plain": [
       "False"
      ]
     },
     "metadata": {},
     "execution_count": 36
    }
   ]
  },
  {
   "cell_type": "code",
   "source": [
    "type(i)"
   ],
   "metadata": {
    "colab": {
     "base_uri": "https://localhost:8080/"
    },
    "id": "VBvQ0GBD80n2",
    "executionInfo": {
     "status": "ok",
     "timestamp": 1676479321183,
     "user_tz": 300,
     "elapsed": 303,
     "user": {
      "displayName": "JUAN LUIS HERENCIA GUERRA",
      "userId": "07206483212682125217"
     }
    },
    "outputId": "dca3bc6d-b7da-4153-b6d4-cdd24aba905d"
   },
   "execution_count": 37,
   "outputs": [
    {
     "output_type": "execute_result",
     "data": {
      "text/plain": [
       "sympy.core.numbers.Integer"
      ]
     },
     "metadata": {},
     "execution_count": 37
    }
   ]
  },
  {
   "cell_type": "code",
   "source": [
    "# reales\n",
    "f = Float(2.3)\n",
    "f"
   ],
   "metadata": {
    "colab": {
     "base_uri": "https://localhost:8080/",
     "height": 37
    },
    "id": "5jAm8iLH9FBL",
    "executionInfo": {
     "status": "ok",
     "timestamp": 1676479407505,
     "user_tz": 300,
     "elapsed": 308,
     "user": {
      "displayName": "JUAN LUIS HERENCIA GUERRA",
      "userId": "07206483212682125217"
     }
    },
    "outputId": "aa5826cd-262c-42f9-a1dc-4064c9ab6516"
   },
   "execution_count": 39,
   "outputs": [
    {
     "output_type": "execute_result",
     "data": {
      "text/plain": [
       "2.30000000000000"
      ],
      "image/png": "[encoded data removed]",
      "text/latex": "$\\displaystyle 2.3$"
     },
     "metadata": {},
     "execution_count": 39
    }
   ]
  },
  {
   "cell_type": "code",
   "source": [
    "type(f)"
   ],
   "metadata": {
    "colab": {
     "base_uri": "https://localhost:8080/"
    },
    "id": "E9XStCR79Y2I",
    "executionInfo": {
     "status": "ok",
     "timestamp": 1676479437540,
     "user_tz": 300,
     "elapsed": 3,
     "user": {
      "displayName": "JUAN LUIS HERENCIA GUERRA",
      "userId": "07206483212682125217"
     }
    },
    "outputId": "6f7da962-35b7-46e4-8075-33b75fc65f3e"
   },
   "execution_count": 40,
   "outputs": [
    {
     "output_type": "execute_result",
     "data": {
      "text/plain": [
       "sympy.core.numbers.Float"
      ]
     },
     "metadata": {},
     "execution_count": 40
    }
   ]
  },
  {
   "cell_type": "code",
   "source": [
    "type(x)"
   ],
   "metadata": {
    "colab": {
     "base_uri": "https://localhost:8080/"
    },
    "id": "SsQnvUni9hSO",
    "executionInfo": {
     "status": "ok",
     "timestamp": 1676479454832,
     "user_tz": 300,
     "elapsed": 4,
     "user": {
      "displayName": "JUAN LUIS HERENCIA GUERRA",
      "userId": "07206483212682125217"
     }
    },
    "outputId": "56d1eb5c-15b0-4507-e0db-7e923bb997aa"
   },
   "execution_count": 41,
   "outputs": [
    {
     "output_type": "execute_result",
     "data": {
      "text/plain": [
       "sympy.core.symbol.Symbol"
      ]
     },
     "metadata": {},
     "execution_count": 41
    }
   ]
  },
  {
   "cell_type": "code",
   "source": [
    "f.is_integer"
   ],
   "metadata": {
    "colab": {
     "base_uri": "https://localhost:8080/"
    },
    "id": "llMQnD8N9li6",
    "executionInfo": {
     "status": "ok",
     "timestamp": 1676479500602,
     "user_tz": 300,
     "elapsed": 396,
     "user": {
      "displayName": "JUAN LUIS HERENCIA GUERRA",
      "userId": "07206483212682125217"
     }
    },
    "outputId": "33905386-518a-41b0-8be7-43655717486b"
   },
   "execution_count": 42,
   "outputs": [
    {
     "output_type": "execute_result",
     "data": {
      "text/plain": [
       "False"
      ]
     },
     "metadata": {},
     "execution_count": 42
    }
   ]
  },
  {
   "cell_type": "code",
   "source": [
    "f.is_real"
   ],
   "metadata": {
    "colab": {
     "base_uri": "https://localhost:8080/"
    },
    "id": "aPyjDedz9wwT",
    "executionInfo": {
     "status": "ok",
     "timestamp": 1676479508831,
     "user_tz": 300,
     "elapsed": 279,
     "user": {
      "displayName": "JUAN LUIS HERENCIA GUERRA",
      "userId": "07206483212682125217"
     }
    },
    "outputId": "fcd38395-9595-46eb-d639-59a616d30ee5"
   },
   "execution_count": 43,
   "outputs": [
    {
     "output_type": "execute_result",
     "data": {
      "text/plain": [
       "True"
      ]
     },
     "metadata": {},
     "execution_count": 43
    }
   ]
  },
  {
   "cell_type": "code",
   "source": [
    "f.is_odd"
   ],
   "metadata": {
    "colab": {
     "base_uri": "https://localhost:8080/"
    },
    "id": "wDDkkb619yvy",
    "executionInfo": {
     "status": "ok",
     "timestamp": 1676479519955,
     "user_tz": 300,
     "elapsed": 654,
     "user": {
      "displayName": "JUAN LUIS HERENCIA GUERRA",
      "userId": "07206483212682125217"
     }
    },
    "outputId": "cc1d2972-c251-4d28-e321-eed3d2c67aeb"
   },
   "execution_count": 44,
   "outputs": [
    {
     "output_type": "execute_result",
     "data": {
      "text/plain": [
       "False"
      ]
     },
     "metadata": {},
     "execution_count": 44
    }
   ]
  },
  {
   "cell_type": "code",
   "source": [
    "# Otra forma\n",
    "i = sympify(19)  # automáticamente es Integer\n",
    "i"
   ],
   "metadata": {
    "colab": {
     "base_uri": "https://localhost:8080/",
     "height": 37
    },
    "id": "mRwcFWmJ91eX",
    "executionInfo": {
     "status": "ok",
     "timestamp": 1676479606262,
     "user_tz": 300,
     "elapsed": 4,
     "user": {
      "displayName": "JUAN LUIS HERENCIA GUERRA",
      "userId": "07206483212682125217"
     }
    },
    "outputId": "a8cbacb7-cf5a-4d44-bd66-43feff8332c4"
   },
   "execution_count": 45,
   "outputs": [
    {
     "output_type": "execute_result",
     "data": {
      "text/plain": [
       "19"
      ],
      "image/png": "[encoded data removed]",
      "text/latex": "$\\displaystyle 19$"
     },
     "metadata": {},
     "execution_count": 45
    }
   ]
  },
  {
   "cell_type": "code",
   "source": [
    "f = sympify(3.14)  # automáticamente es Float\n",
    "f"
   ],
   "metadata": {
    "colab": {
     "base_uri": "https://localhost:8080/",
     "height": 37
    },
    "id": "RKFc_cnj-Kkx",
    "executionInfo": {
     "status": "ok",
     "timestamp": 1676479650966,
     "user_tz": 300,
     "elapsed": 6,
     "user": {
      "displayName": "JUAN LUIS HERENCIA GUERRA",
      "userId": "07206483212682125217"
     }
    },
    "outputId": "70eea053-3242-4a3c-f76e-b5a33803e931"
   },
   "execution_count": 46,
   "outputs": [
    {
     "output_type": "execute_result",
     "data": {
      "text/plain": [
       "3.14000000000000"
      ],
      "image/png": "[encoded data removed]",
      "text/latex": "$\\displaystyle 3.14$"
     },
     "metadata": {},
     "execution_count": 46
    }
   ]
  },
  {
   "cell_type": "code",
   "source": [
    "# Operaciones numéricas\n",
    "i*f"
   ],
   "metadata": {
    "colab": {
     "base_uri": "https://localhost:8080/",
     "height": 37
    },
    "id": "mYPTJCx4-VhN",
    "executionInfo": {
     "status": "ok",
     "timestamp": 1676479667989,
     "user_tz": 300,
     "elapsed": 258,
     "user": {
      "displayName": "JUAN LUIS HERENCIA GUERRA",
      "userId": "07206483212682125217"
     }
    },
    "outputId": "0766e576-05d4-4282-e252-4fc0db116998"
   },
   "execution_count": 47,
   "outputs": [
    {
     "output_type": "execute_result",
     "data": {
      "text/plain": [
       "59.6600000000000"
      ],
      "image/png": "[encoded data removed]",
      "text/latex": "$\\displaystyle 59.66$"
     },
     "metadata": {},
     "execution_count": 47
    }
   ]
  },
  {
   "cell_type": "code",
   "source": [
    "# Operaciones numéricas y algebraicas\n",
    "i*f + x"
   ],
   "metadata": {
    "colab": {
     "base_uri": "https://localhost:8080/",
     "height": 38
    },
    "id": "_rBo5Eov-Zth",
    "executionInfo": {
     "status": "ok",
     "timestamp": 1676479706628,
     "user_tz": 300,
     "elapsed": 397,
     "user": {
      "displayName": "JUAN LUIS HERENCIA GUERRA",
      "userId": "07206483212682125217"
     }
    },
    "outputId": "9b4e9296-eb48-43b8-e7f0-90aeec5a44bc"
   },
   "execution_count": 48,
   "outputs": [
    {
     "output_type": "execute_result",
     "data": {
      "text/plain": [
       "x + 59.66"
      ],
      "image/png": "[encoded data removed]",
      "text/latex": "$\\displaystyle x + 59.66$"
     },
     "metadata": {},
     "execution_count": 48
    }
   ]
  },
  {
   "cell_type": "code",
   "source": [
    "type(f)"
   ],
   "metadata": {
    "colab": {
     "base_uri": "https://localhost:8080/"
    },
    "id": "AjBTtBxC-jH4",
    "executionInfo": {
     "status": "ok",
     "timestamp": 1676479759127,
     "user_tz": 300,
     "elapsed": 370,
     "user": {
      "displayName": "JUAN LUIS HERENCIA GUERRA",
      "userId": "07206483212682125217"
     }
    },
    "outputId": "2b748d30-4a34-4e3c-e320-724a9d6f034d"
   },
   "execution_count": 50,
   "outputs": [
    {
     "output_type": "execute_result",
     "data": {
      "text/plain": [
       "sympy.core.numbers.Float"
      ]
     },
     "metadata": {},
     "execution_count": 50
    }
   ]
  },
  {
   "cell_type": "code",
   "source": [
    "n = Symbol('n', integer=True)\n",
    "n"
   ],
   "metadata": {
    "colab": {
     "base_uri": "https://localhost:8080/",
     "height": 38
    },
    "id": "_rjFK-CZ-tiK",
    "executionInfo": {
     "status": "ok",
     "timestamp": 1676479798823,
     "user_tz": 300,
     "elapsed": 5,
     "user": {
      "displayName": "JUAN LUIS HERENCIA GUERRA",
      "userId": "07206483212682125217"
     }
    },
    "outputId": "8838fe76-12a5-4a41-df64-53a0c9f4addd"
   },
   "execution_count": 51,
   "outputs": [
    {
     "output_type": "execute_result",
     "data": {
      "text/plain": [
       "n"
      ],
      "image/png": "[encoded data removed]",
      "text/latex": "$\\displaystyle n$"
     },
     "metadata": {},
     "execution_count": 51
    }
   ]
  },
  {
   "cell_type": "code",
   "source": [
    "n.is_integer  # es un simbolo algebraico entero?"
   ],
   "metadata": {
    "colab": {
     "base_uri": "https://localhost:8080/"
    },
    "id": "LSnE7Ji_-5cu",
    "executionInfo": {
     "status": "ok",
     "timestamp": 1676479819069,
     "user_tz": 300,
     "elapsed": 3,
     "user": {
      "displayName": "JUAN LUIS HERENCIA GUERRA",
      "userId": "07206483212682125217"
     }
    },
    "outputId": "6fe2bc17-9ac2-4312-bb36-d3be81d00520"
   },
   "execution_count": 52,
   "outputs": [
    {
     "output_type": "execute_result",
     "data": {
      "text/plain": [
       "True"
      ]
     },
     "metadata": {},
     "execution_count": 52
    }
   ]
  },
  {
   "cell_type": "code",
   "source": [
    "n.is_Integer  # es un número entero?"
   ],
   "metadata": {
    "colab": {
     "base_uri": "https://localhost:8080/"
    },
    "id": "f1Bv5PyY--k9",
    "executionInfo": {
     "status": "ok",
     "timestamp": 1676479874968,
     "user_tz": 300,
     "elapsed": 258,
     "user": {
      "displayName": "JUAN LUIS HERENCIA GUERRA",
      "userId": "07206483212682125217"
     }
    },
    "outputId": "c47650bf-19c4-4eec-f1a3-6ac22cc9eb2a"
   },
   "execution_count": 54,
   "outputs": [
    {
     "output_type": "execute_result",
     "data": {
      "text/plain": [
       "False"
      ]
     },
     "metadata": {},
     "execution_count": 54
    }
   ]
  },
  {
   "cell_type": "code",
   "source": [
    "i"
   ],
   "metadata": {
    "colab": {
     "base_uri": "https://localhost:8080/",
     "height": 37
    },
    "id": "pLkCCxNc_DUw",
    "executionInfo": {
     "status": "ok",
     "timestamp": 1676479908560,
     "user_tz": 300,
     "elapsed": 5,
     "user": {
      "displayName": "JUAN LUIS HERENCIA GUERRA",
      "userId": "07206483212682125217"
     }
    },
    "outputId": "ba484814-ee10-44b8-dac2-e7d633648220"
   },
   "execution_count": 55,
   "outputs": [
    {
     "output_type": "execute_result",
     "data": {
      "text/plain": [
       "19"
      ],
      "image/png": "[encoded data removed]",
      "text/latex": "$\\displaystyle 19$"
     },
     "metadata": {},
     "execution_count": 55
    }
   ]
  },
  {
   "cell_type": "code",
   "source": [
    "i ** 50"
   ],
   "metadata": {
    "colab": {
     "base_uri": "https://localhost:8080/",
     "height": 37
    },
    "id": "tvC2WurS_UWt",
    "executionInfo": {
     "status": "ok",
     "timestamp": 1676479929469,
     "user_tz": 300,
     "elapsed": 264,
     "user": {
      "displayName": "JUAN LUIS HERENCIA GUERRA",
      "userId": "07206483212682125217"
     }
    },
    "outputId": "72abf51c-4336-4341-b48d-9f8755a6d7ff"
   },
   "execution_count": 56,
   "outputs": [
    {
     "output_type": "execute_result",
     "data": {
      "text/plain": [
       "8663234049605954426644038200675212212900743262211018069459689001"
      ],
      "image/png": "[encoded data removed]",
      "text/latex": "$\\displaystyle 8663234049605954426644038200675212212900743262211018069459689001$"
     },
     "metadata": {},
     "execution_count": 56
    }
   ]
  },
  {
   "cell_type": "code",
   "source": [
    "factorial(100)"
   ],
   "metadata": {
    "colab": {
     "base_uri": "https://localhost:8080/",
     "height": 57
    },
    "id": "BuzGKeov_Ziw",
    "executionInfo": {
     "status": "ok",
     "timestamp": 1676479993720,
     "user_tz": 300,
     "elapsed": 6,
     "user": {
      "displayName": "JUAN LUIS HERENCIA GUERRA",
      "userId": "07206483212682125217"
     }
    },
    "outputId": "e02a22e6-3dac-4272-897c-66b0d015fa8c"
   },
   "execution_count": 57,
   "outputs": [
    {
     "output_type": "execute_result",
     "data": {
      "text/plain": [
       "933262154439441526816992388562667004907159682643816214685929638952175999932299\n",
       "156089414639761565182862536979208272237582511852109168640000000000000000000000\n",
       "00"
      ],
      "image/png": "[encoded data removed]",
      "text/latex": "$\\displaystyle 93326215443944152681699238856266700490715968264381621468592963895217599993229915608941463976156518286253697920827223758251185210916864000000000000000000000000$"
     },
     "metadata": {},
     "execution_count": 57
    }
   ]
  },
  {
   "cell_type": "code",
   "source": [
    "# int8, int16, ..., int256 se depende del cpu"
   ],
   "metadata": {
    "id": "eQM4fwRR_pMS"
   },
   "execution_count": null,
   "outputs": []
  },
  {
   "cell_type": "code",
   "source": [
    "'%.25f' % 0.3  # crea una cadena con 25 decimales"
   ],
   "metadata": {
    "colab": {
     "base_uri": "https://localhost:8080/",
     "height": 35
    },
    "id": "87EjZQciAP1v",
    "executionInfo": {
     "status": "ok",
     "timestamp": 1676480213009,
     "user_tz": 300,
     "elapsed": 6,
     "user": {
      "displayName": "JUAN LUIS HERENCIA GUERRA",
      "userId": "07206483212682125217"
     }
    },
    "outputId": "008b9669-d32b-435d-d998-fbe699eece63"
   },
   "execution_count": 58,
   "outputs": [
    {
     "output_type": "execute_result",
     "data": {
      "text/plain": [
       "'0.2999999999999999888977698'"
      ],
      "application/vnd.google.colaboratory.intrinsic+json": {
       "type": "string"
      }
     },
     "metadata": {},
     "execution_count": 58
    }
   ]
  },
  {
   "cell_type": "code",
   "source": [
    "Float(0.3, 25)  # nro con 25 decimales"
   ],
   "metadata": {
    "colab": {
     "base_uri": "https://localhost:8080/",
     "height": 37
    },
    "id": "IpoCfCdkAe3s",
    "executionInfo": {
     "status": "ok",
     "timestamp": 1676480275268,
     "user_tz": 300,
     "elapsed": 270,
     "user": {
      "displayName": "JUAN LUIS HERENCIA GUERRA",
      "userId": "07206483212682125217"
     }
    },
    "outputId": "438af458-39fd-4bc8-a4ec-9fa2088aadb7"
   },
   "execution_count": 60,
   "outputs": [
    {
     "output_type": "execute_result",
     "data": {
      "text/plain": [
       "0.2999999999999999888977698"
      ],
      "image/png": "[encoded data removed]",
      "text/latex": "$\\displaystyle 0.2999999999999999888977698$"
     },
     "metadata": {},
     "execution_count": 60
    }
   ]
  },
  {
   "cell_type": "code",
   "source": [
    "# con exactitud\n",
    "Float('0.3', 25)"
   ],
   "metadata": {
    "colab": {
     "base_uri": "https://localhost:8080/",
     "height": 37
    },
    "id": "CZxd7WjEApoY",
    "executionInfo": {
     "status": "ok",
     "timestamp": 1676480495614,
     "user_tz": 300,
     "elapsed": 380,
     "user": {
      "displayName": "JUAN LUIS HERENCIA GUERRA",
      "userId": "07206483212682125217"
     }
    },
    "outputId": "ba2d2669-4368-4482-e137-fb47c6888975"
   },
   "execution_count": 62,
   "outputs": [
    {
     "output_type": "execute_result",
     "data": {
      "text/plain": [
       "0.3000000000000000000000000"
      ],
      "image/png": "[encoded data removed]",
      "text/latex": "$\\displaystyle 0.3$"
     },
     "metadata": {},
     "execution_count": 62
    }
   ]
  },
  {
   "cell_type": "markdown",
   "source": [
    "### Números racionales"
   ],
   "metadata": {
    "id": "077_GgPSBoa_"
   }
  },
  {
   "cell_type": "code",
   "source": [
    "# Se muestra como división\n",
    "Rational(11, 13)"
   ],
   "metadata": {
    "colab": {
     "base_uri": "https://localhost:8080/",
     "height": 51
    },
    "id": "YlViE7WBA5Ym",
    "executionInfo": {
     "status": "ok",
     "timestamp": 1676480545247,
     "user_tz": 300,
     "elapsed": 5,
     "user": {
      "displayName": "JUAN LUIS HERENCIA GUERRA",
      "userId": "07206483212682125217"
     }
    },
    "outputId": "26c58a72-6a4c-40ce-ee61-f104a027e851"
   },
   "execution_count": 63,
   "outputs": [
    {
     "output_type": "execute_result",
     "data": {
      "text/plain": [
       "11\n",
       "──\n",
       "13"
      ],
      "image/png": "[encoded data removed]",
      "text/latex": "$\\displaystyle \\frac{11}{13}$"
     },
     "metadata": {},
     "execution_count": 63
    }
   ]
  },
  {
   "cell_type": "code",
   "source": [
    "r1 = Rational(2, 3)\n",
    "r1"
   ],
   "metadata": {
    "colab": {
     "base_uri": "https://localhost:8080/",
     "height": 51
    },
    "id": "woLic6pRBwAA",
    "executionInfo": {
     "status": "ok",
     "timestamp": 1676480592836,
     "user_tz": 300,
     "elapsed": 319,
     "user": {
      "displayName": "JUAN LUIS HERENCIA GUERRA",
      "userId": "07206483212682125217"
     }
    },
    "outputId": "2ae41180-5ed3-4f50-e2c3-7cc362ff6907"
   },
   "execution_count": 65,
   "outputs": [
    {
     "output_type": "execute_result",
     "data": {
      "text/plain": [
       "2/3"
      ],
      "image/png": "[encoded data removed]",
      "text/latex": "$\\displaystyle \\frac{2}{3}$"
     },
     "metadata": {},
     "execution_count": 65
    }
   ]
  },
  {
   "cell_type": "code",
   "source": [
    "r2 = Rational(4, 5)\n",
    "r2"
   ],
   "metadata": {
    "colab": {
     "base_uri": "https://localhost:8080/",
     "height": 51
    },
    "id": "cVmBA35IB0Qo",
    "executionInfo": {
     "status": "ok",
     "timestamp": 1676480618597,
     "user_tz": 300,
     "elapsed": 8,
     "user": {
      "displayName": "JUAN LUIS HERENCIA GUERRA",
      "userId": "07206483212682125217"
     }
    },
    "outputId": "e5431493-86db-4002-f859-2e9993401f44"
   },
   "execution_count": 66,
   "outputs": [
    {
     "output_type": "execute_result",
     "data": {
      "text/plain": [
       "4/5"
      ],
      "image/png": "[encoded data removed]",
      "text/latex": "$\\displaystyle \\frac{4}{5}$"
     },
     "metadata": {},
     "execution_count": 66
    }
   ]
  },
  {
   "cell_type": "code",
   "source": [
    "r1*r2"
   ],
   "metadata": {
    "colab": {
     "base_uri": "https://localhost:8080/",
     "height": 51
    },
    "id": "K12tbD74CBqA",
    "executionInfo": {
     "status": "ok",
     "timestamp": 1676480631712,
     "user_tz": 300,
     "elapsed": 265,
     "user": {
      "displayName": "JUAN LUIS HERENCIA GUERRA",
      "userId": "07206483212682125217"
     }
    },
    "outputId": "b4251ef4-6d5d-4318-8e7f-60d6f91749c4"
   },
   "execution_count": 67,
   "outputs": [
    {
     "output_type": "execute_result",
     "data": {
      "text/plain": [
       "8/15"
      ],
      "image/png": "[encoded data removed]",
      "text/latex": "$\\displaystyle \\frac{8}{15}$"
     },
     "metadata": {},
     "execution_count": 67
    }
   ]
  },
  {
   "cell_type": "code",
   "source": [
    "r1/r2"
   ],
   "metadata": {
    "colab": {
     "base_uri": "https://localhost:8080/",
     "height": 51
    },
    "id": "LYSlVBC8CE8k",
    "executionInfo": {
     "status": "ok",
     "timestamp": 1676480650592,
     "user_tz": 300,
     "elapsed": 270,
     "user": {
      "displayName": "JUAN LUIS HERENCIA GUERRA",
      "userId": "07206483212682125217"
     }
    },
    "outputId": "e03de332-c7e4-4979-8c4f-62f41c769f52"
   },
   "execution_count": 68,
   "outputs": [
    {
     "output_type": "execute_result",
     "data": {
      "text/plain": [
       "5/6"
      ],
      "image/png": "[encoded data removed]",
      "text/latex": "$\\displaystyle \\frac{5}{6}$"
     },
     "metadata": {},
     "execution_count": 68
    }
   ]
  },
  {
   "cell_type": "markdown",
   "source": [
    "### Funciones"
   ],
   "metadata": {
    "id": "quEdDRPaCZxY"
   }
  },
  {
   "cell_type": "code",
   "source": [
    "# definición de símbolos\n",
    "x, y, z = symbols('x,y,z')"
   ],
   "metadata": {
    "id": "_81tESfMCY33",
    "executionInfo": {
     "status": "ok",
     "timestamp": 1676480758850,
     "user_tz": 300,
     "elapsed": 419,
     "user": {
      "displayName": "JUAN LUIS HERENCIA GUERRA",
      "userId": "07206483212682125217"
     }
    }
   },
   "execution_count": 69,
   "outputs": []
  },
  {
   "cell_type": "code",
   "source": [
    "x, y, z"
   ],
   "metadata": {
    "colab": {
     "base_uri": "https://localhost:8080/",
     "height": 38
    },
    "id": "LU_oMvGFCJjC",
    "executionInfo": {
     "status": "ok",
     "timestamp": 1676480765097,
     "user_tz": 300,
     "elapsed": 4,
     "user": {
      "displayName": "JUAN LUIS HERENCIA GUERRA",
      "userId": "07206483212682125217"
     }
    },
    "outputId": "cc6ab673-f336-4cf2-bb2e-6fab2e971379"
   },
   "execution_count": 70,
   "outputs": [
    {
     "output_type": "execute_result",
     "data": {
      "text/plain": [
       "(x, y, z)"
      ],
      "image/png": "[encoded data removed]",
      "text/latex": "$\\displaystyle \\left( x, \\  y, \\  z\\right)$"
     },
     "metadata": {},
     "execution_count": 70
    }
   ]
  },
  {
   "cell_type": "code",
   "source": [
    "# definir función f\n",
    "f = Function('f')\n",
    "f"
   ],
   "metadata": {
    "colab": {
     "base_uri": "https://localhost:8080/"
    },
    "id": "f7L7rDI2Cll0",
    "executionInfo": {
     "status": "ok",
     "timestamp": 1676480807735,
     "user_tz": 300,
     "elapsed": 253,
     "user": {
      "displayName": "JUAN LUIS HERENCIA GUERRA",
      "userId": "07206483212682125217"
     }
    },
    "outputId": "89add527-16ca-4c70-8947-2f75a8bb5df1"
   },
   "execution_count": 72,
   "outputs": [
    {
     "output_type": "execute_result",
     "data": {
      "text/plain": [
       "f"
      ]
     },
     "metadata": {},
     "execution_count": 72
    }
   ]
  },
  {
   "cell_type": "code",
   "source": [
    "type(f)"
   ],
   "metadata": {
    "colab": {
     "base_uri": "https://localhost:8080/"
    },
    "id": "iXb4vVsjCtXG",
    "executionInfo": {
     "status": "ok",
     "timestamp": 1676480820586,
     "user_tz": 300,
     "elapsed": 326,
     "user": {
      "displayName": "JUAN LUIS HERENCIA GUERRA",
      "userId": "07206483212682125217"
     }
    },
    "outputId": "982c8ca3-bf70-4045-f08d-7465cdf5874f"
   },
   "execution_count": 73,
   "outputs": [
    {
     "output_type": "execute_result",
     "data": {
      "text/plain": [
       "sympy.core.function.UndefinedFunction"
      ]
     },
     "metadata": {},
     "execution_count": 73
    }
   ]
  },
  {
   "cell_type": "code",
   "source": [
    "# f(x)\n",
    "f(x)"
   ],
   "metadata": {
    "colab": {
     "base_uri": "https://localhost:8080/",
     "height": 38
    },
    "id": "BBI52pt4Cy9M",
    "executionInfo": {
     "status": "ok",
     "timestamp": 1676480842415,
     "user_tz": 300,
     "elapsed": 284,
     "user": {
      "displayName": "JUAN LUIS HERENCIA GUERRA",
      "userId": "07206483212682125217"
     }
    },
    "outputId": "f0781804-33cb-440f-b5ff-edb36eba2d78"
   },
   "execution_count": 74,
   "outputs": [
    {
     "output_type": "execute_result",
     "data": {
      "text/plain": [
       "f(x)"
      ],
      "image/png": "[encoded data removed]",
      "text/latex": "$\\displaystyle f{\\left(x \\right)}$"
     },
     "metadata": {},
     "execution_count": 74
    }
   ]
  },
  {
   "cell_type": "code",
   "source": [
    "# definiendo función g(x,y,z)\n",
    "g = Function('g')(x, y, z)"
   ],
   "metadata": {
    "id": "PjKBZQGAC4bm",
    "executionInfo": {
     "status": "ok",
     "timestamp": 1676480901624,
     "user_tz": 300,
     "elapsed": 258,
     "user": {
      "displayName": "JUAN LUIS HERENCIA GUERRA",
      "userId": "07206483212682125217"
     }
    }
   },
   "execution_count": 75,
   "outputs": []
  },
  {
   "cell_type": "code",
   "source": [
    "g"
   ],
   "metadata": {
    "colab": {
     "base_uri": "https://localhost:8080/",
     "height": 38
    },
    "id": "NqT1EkDfDG5L",
    "executionInfo": {
     "status": "ok",
     "timestamp": 1676480907833,
     "user_tz": 300,
     "elapsed": 5,
     "user": {
      "displayName": "JUAN LUIS HERENCIA GUERRA",
      "userId": "07206483212682125217"
     }
    },
    "outputId": "7f90ec1a-9b7d-47ad-bf45-7ab9fd3712d9"
   },
   "execution_count": 76,
   "outputs": [
    {
     "output_type": "execute_result",
     "data": {
      "text/plain": [
       "g(x, y, z)"
      ],
      "image/png": "[encoded data removed]",
      "text/latex": "$\\displaystyle g{\\left(x,y,z \\right)}$"
     },
     "metadata": {},
     "execution_count": 76
    }
   ]
  },
  {
   "cell_type": "code",
   "source": [
    "# variables dependientes de g\n",
    "g.free_symbols"
   ],
   "metadata": {
    "colab": {
     "base_uri": "https://localhost:8080/",
     "height": 38
    },
    "id": "OlO5qEFtDIUu",
    "executionInfo": {
     "status": "ok",
     "timestamp": 1676480945283,
     "user_tz": 300,
     "elapsed": 476,
     "user": {
      "displayName": "JUAN LUIS HERENCIA GUERRA",
      "userId": "07206483212682125217"
     }
    },
    "outputId": "784c1a13-5deb-4a64-81fa-411dcb2b0b63"
   },
   "execution_count": 77,
   "outputs": [
    {
     "output_type": "execute_result",
     "data": {
      "text/plain": [
       "{x, y, z}"
      ],
      "image/png": "[encoded data removed]",
      "text/latex": "$\\displaystyle \\left\\{x, y, z\\right\\}$"
     },
     "metadata": {},
     "execution_count": 77
    }
   ]
  },
  {
   "cell_type": "code",
   "source": [
    "# en sympy ya hay funciones definidas\n",
    "sin"
   ],
   "metadata": {
    "colab": {
     "base_uri": "https://localhost:8080/"
    },
    "id": "OKGS2TLpDRfk",
    "executionInfo": {
     "status": "ok",
     "timestamp": 1676480992208,
     "user_tz": 300,
     "elapsed": 3,
     "user": {
      "displayName": "JUAN LUIS HERENCIA GUERRA",
      "userId": "07206483212682125217"
     }
    },
    "outputId": "6220db34-44d7-4b6a-cc43-0bd87de0832c"
   },
   "execution_count": 78,
   "outputs": [
    {
     "output_type": "execute_result",
     "data": {
      "text/plain": [
       "sin"
      ]
     },
     "metadata": {},
     "execution_count": 78
    }
   ]
  },
  {
   "cell_type": "code",
   "source": [
    "sin(pi/6)"
   ],
   "metadata": {
    "colab": {
     "base_uri": "https://localhost:8080/",
     "height": 51
    },
    "id": "oYoyM6rcDdD5",
    "executionInfo": {
     "status": "ok",
     "timestamp": 1676481004213,
     "user_tz": 300,
     "elapsed": 5,
     "user": {
      "displayName": "JUAN LUIS HERENCIA GUERRA",
      "userId": "07206483212682125217"
     }
    },
    "outputId": "6efe867d-0e69-4d65-b11d-ba173b6d418b"
   },
   "execution_count": 79,
   "outputs": [
    {
     "output_type": "execute_result",
     "data": {
      "text/plain": [
       "1/2"
      ],
      "image/png": "[encoded data removed]",
      "text/latex": "$\\displaystyle \\frac{1}{2}$"
     },
     "metadata": {},
     "execution_count": 79
    }
   ]
  },
  {
   "cell_type": "code",
   "source": [
    "sin(x)"
   ],
   "metadata": {
    "colab": {
     "base_uri": "https://localhost:8080/",
     "height": 38
    },
    "id": "Ms6cyKBMDf8i",
    "executionInfo": {
     "status": "ok",
     "timestamp": 1676481042164,
     "user_tz": 300,
     "elapsed": 270,
     "user": {
      "displayName": "JUAN LUIS HERENCIA GUERRA",
      "userId": "07206483212682125217"
     }
    },
    "outputId": "c7a5e569-82b5-49ad-a981-3772e2a86ff0"
   },
   "execution_count": 80,
   "outputs": [
    {
     "output_type": "execute_result",
     "data": {
      "text/plain": [
       "sin(x)"
      ],
      "image/png": "[encoded data removed]",
      "text/latex": "$\\displaystyle \\sin{\\left(x \\right)}$"
     },
     "metadata": {},
     "execution_count": 80
    }
   ]
  },
  {
   "cell_type": "code",
   "source": [
    "sin(pi*n)"
   ],
   "metadata": {
    "colab": {
     "base_uri": "https://localhost:8080/",
     "height": 37
    },
    "id": "QpoVzncyDpNd",
    "executionInfo": {
     "status": "ok",
     "timestamp": 1676481101645,
     "user_tz": 300,
     "elapsed": 297,
     "user": {
      "displayName": "JUAN LUIS HERENCIA GUERRA",
      "userId": "07206483212682125217"
     }
    },
    "outputId": "23b693f0-8d6b-49c1-b7ca-b225b62e02bb"
   },
   "execution_count": 82,
   "outputs": [
    {
     "output_type": "execute_result",
     "data": {
      "text/plain": [
       "0"
      ],
      "image/png": "[encoded data removed]",
      "text/latex": "$\\displaystyle 0$"
     },
     "metadata": {},
     "execution_count": 82
    }
   ]
  },
  {
   "cell_type": "code",
   "source": [
    "# definir una funcion h, que tenga una variable x y devuelva x ** 2\n",
    "h = Lambda(x, x**2)\n",
    "h"
   ],
   "metadata": {
    "colab": {
     "base_uri": "https://localhost:8080/",
     "height": 38
    },
    "id": "eAI64vZnDyR_",
    "executionInfo": {
     "status": "ok",
     "timestamp": 1676481229168,
     "user_tz": 300,
     "elapsed": 6,
     "user": {
      "displayName": "JUAN LUIS HERENCIA GUERRA",
      "userId": "07206483212682125217"
     }
    },
    "outputId": "11ceabce-964d-40d6-e7d5-fe18fe3bdba8"
   },
   "execution_count": 83,
   "outputs": [
    {
     "output_type": "execute_result",
     "data": {
      "text/plain": [
       "     2\n",
       "x ↦ x "
      ],
      "image/png": "[encoded data removed]",
      "text/latex": "$\\displaystyle \\left( x \\mapsto x^{2} \\right)$"
     },
     "metadata": {},
     "execution_count": 83
    }
   ]
  },
  {
   "cell_type": "code",
   "source": [
    "h(5)"
   ],
   "metadata": {
    "colab": {
     "base_uri": "https://localhost:8080/",
     "height": 37
    },
    "id": "Kl72QXlNEWw9",
    "executionInfo": {
     "status": "ok",
     "timestamp": 1676481269264,
     "user_tz": 300,
     "elapsed": 295,
     "user": {
      "displayName": "JUAN LUIS HERENCIA GUERRA",
      "userId": "07206483212682125217"
     }
    },
    "outputId": "3de53ef2-1095-4a8b-fc60-b6ac9b619a05"
   },
   "execution_count": 84,
   "outputs": [
    {
     "output_type": "execute_result",
     "data": {
      "text/plain": [
       "25"
      ],
      "image/png": "[encoded data removed]",
      "text/latex": "$\\displaystyle 25$"
     },
     "metadata": {},
     "execution_count": 84
    }
   ]
  },
  {
   "cell_type": "code",
   "source": [
    "h(x + 1)"
   ],
   "metadata": {
    "colab": {
     "base_uri": "https://localhost:8080/",
     "height": 39
    },
    "id": "6it1MyZuEgpH",
    "executionInfo": {
     "status": "ok",
     "timestamp": 1676481286670,
     "user_tz": 300,
     "elapsed": 319,
     "user": {
      "displayName": "JUAN LUIS HERENCIA GUERRA",
      "userId": "07206483212682125217"
     }
    },
    "outputId": "1b068c75-56f1-4dd7-b29d-7725404c3d87"
   },
   "execution_count": 85,
   "outputs": [
    {
     "output_type": "execute_result",
     "data": {
      "text/plain": [
       "       2\n",
       "(x + 1) "
      ],
      "image/png": "[encoded data removed]",
      "text/latex": "$\\displaystyle \\left(x + 1\\right)^{2}$"
     },
     "metadata": {},
     "execution_count": 85
    }
   ]
  },
  {
   "cell_type": "markdown",
   "source": [
    "### Expresiones"
   ],
   "metadata": {
    "id": "MjVbityTEvnw"
   }
  },
  {
   "cell_type": "code",
   "source": [
    "x = Symbol('x')\n",
    "x"
   ],
   "metadata": {
    "colab": {
     "base_uri": "https://localhost:8080/",
     "height": 38
    },
    "id": "7EA0m6oxEk5L",
    "executionInfo": {
     "status": "ok",
     "timestamp": 1676481387684,
     "user_tz": 300,
     "elapsed": 272,
     "user": {
      "displayName": "JUAN LUIS HERENCIA GUERRA",
      "userId": "07206483212682125217"
     }
    },
    "outputId": "c3095312-48ce-48eb-d5c2-40c91ed3dc00"
   },
   "execution_count": 86,
   "outputs": [
    {
     "output_type": "execute_result",
     "data": {
      "text/plain": [
       "x"
      ],
      "image/png": "[encoded data removed]",
      "text/latex": "$\\displaystyle x$"
     },
     "metadata": {},
     "execution_count": 86
    }
   ]
  },
  {
   "cell_type": "code",
   "source": [
    "y = 1+2*x**2 + 3*x**3\n",
    "y"
   ],
   "metadata": {
    "colab": {
     "base_uri": "https://localhost:8080/",
     "height": 38
    },
    "id": "IU-1xPOFE9eQ",
    "executionInfo": {
     "status": "ok",
     "timestamp": 1676481475486,
     "user_tz": 300,
     "elapsed": 5,
     "user": {
      "displayName": "JUAN LUIS HERENCIA GUERRA",
      "userId": "07206483212682125217"
     }
    },
    "outputId": "081e79c7-57a0-41f6-b8cd-b4b2994a7977"
   },
   "execution_count": 87,
   "outputs": [
    {
     "output_type": "execute_result",
     "data": {
      "text/plain": [
       "   3      2    \n",
       "3⋅x  + 2⋅x  + 1"
      ],
      "image/png": "[encoded data removed]",
      "text/latex": "$\\displaystyle 3 x^{3} + 2 x^{2} + 1$"
     },
     "metadata": {},
     "execution_count": 87
    }
   ]
  },
  {
   "cell_type": "code",
   "source": [
    "# Términos de una expresión algebraica\n",
    "y.args"
   ],
   "metadata": {
    "colab": {
     "base_uri": "https://localhost:8080/",
     "height": 38
    },
    "id": "PtknCbSaFS93",
    "executionInfo": {
     "status": "ok",
     "timestamp": 1676481562709,
     "user_tz": 300,
     "elapsed": 278,
     "user": {
      "displayName": "JUAN LUIS HERENCIA GUERRA",
      "userId": "07206483212682125217"
     }
    },
    "outputId": "b414ff8d-86cb-43cc-bd8e-b56fd7f42808"
   },
   "execution_count": 88,
   "outputs": [
    {
     "output_type": "execute_result",
     "data": {
      "text/plain": [
       "⎛      2     3⎞\n",
       "⎝1, 2⋅x , 3⋅x ⎠"
      ],
      "image/png": "[encoded data removed]",
      "text/latex": "$\\displaystyle \\left( 1, \\  2 x^{2}, \\  3 x^{3}\\right)$"
     },
     "metadata": {},
     "execution_count": 88
    }
   ]
  },
  {
   "cell_type": "code",
   "source": [
    "# Obtener el 2do término\n",
    "y.args[1]"
   ],
   "metadata": {
    "colab": {
     "base_uri": "https://localhost:8080/",
     "height": 38
    },
    "id": "Z0rTFHBBFoRA",
    "executionInfo": {
     "status": "ok",
     "timestamp": 1676481590986,
     "user_tz": 300,
     "elapsed": 255,
     "user": {
      "displayName": "JUAN LUIS HERENCIA GUERRA",
      "userId": "07206483212682125217"
     }
    },
    "outputId": "4779f074-25b3-4e56-b0c4-8d88dea78273"
   },
   "execution_count": 89,
   "outputs": [
    {
     "output_type": "execute_result",
     "data": {
      "text/plain": [
       "   2\n",
       "2⋅x "
      ],
      "image/png": "[encoded data removed]",
      "text/latex": "$\\displaystyle 2 x^{2}$"
     },
     "metadata": {},
     "execution_count": 89
    }
   ]
  },
  {
   "cell_type": "code",
   "source": [
    "y.args[1].args[1]"
   ],
   "metadata": {
    "colab": {
     "base_uri": "https://localhost:8080/",
     "height": 38
    },
    "id": "zVZZ7xevFvNP",
    "executionInfo": {
     "status": "ok",
     "timestamp": 1676481687902,
     "user_tz": 300,
     "elapsed": 4,
     "user": {
      "displayName": "JUAN LUIS HERENCIA GUERRA",
      "userId": "07206483212682125217"
     }
    },
    "outputId": "9fde8aa5-69cd-4c28-f18d-7c461adbc5c1"
   },
   "execution_count": 90,
   "outputs": [
    {
     "output_type": "execute_result",
     "data": {
      "text/plain": [
       " 2\n",
       "x "
      ],
      "image/png": "[encoded data removed]",
      "text/latex": "$\\displaystyle x^{2}$"
     },
     "metadata": {},
     "execution_count": 90
    }
   ]
  },
  {
   "cell_type": "code",
   "source": [
    "y.args[1].args[1].args[0]"
   ],
   "metadata": {
    "colab": {
     "base_uri": "https://localhost:8080/",
     "height": 38
    },
    "id": "-iNtTJKzGG3e",
    "executionInfo": {
     "status": "ok",
     "timestamp": 1676481747017,
     "user_tz": 300,
     "elapsed": 4,
     "user": {
      "displayName": "JUAN LUIS HERENCIA GUERRA",
      "userId": "07206483212682125217"
     }
    },
    "outputId": "a7d2de85-5a99-410f-b7fd-3e4c0f87f627"
   },
   "execution_count": 91,
   "outputs": [
    {
     "output_type": "execute_result",
     "data": {
      "text/plain": [
       "x"
      ],
      "image/png": "[encoded data removed]",
      "text/latex": "$\\displaystyle x$"
     },
     "metadata": {},
     "execution_count": 91
    }
   ]
  },
  {
   "cell_type": "code",
   "source": [
    "# Hay un siguiente nivel de argumentos de x?\n",
    "y.args[1].args[1].args[0].args"
   ],
   "metadata": {
    "colab": {
     "base_uri": "https://localhost:8080/",
     "height": 37
    },
    "id": "xHFAW1dJGVZD",
    "executionInfo": {
     "status": "ok",
     "timestamp": 1676481831690,
     "user_tz": 300,
     "elapsed": 5,
     "user": {
      "displayName": "JUAN LUIS HERENCIA GUERRA",
      "userId": "07206483212682125217"
     }
    },
    "outputId": "340b9a64-a9d3-451d-e065-3bb0b1370e97"
   },
   "execution_count": 93,
   "outputs": [
    {
     "output_type": "execute_result",
     "data": {
      "text/plain": [
       "()"
      ],
      "image/png": "[encoded data removed]",
      "text/latex": "$\\displaystyle \\left( \\right)$"
     },
     "metadata": {},
     "execution_count": 93
    }
   ]
  },
  {
   "cell_type": "markdown",
   "source": [
    "### Simplificación"
   ],
   "metadata": {
    "id": "rgQVbD_eGxjh"
   }
  },
  {
   "cell_type": "code",
   "source": [
    "# muestra con alguna operación realizada\n",
    "y = 2*(x**2 - x) - x*(x+1)\n",
    "y"
   ],
   "metadata": {
    "colab": {
     "base_uri": "https://localhost:8080/",
     "height": 38
    },
    "id": "hXL2DrTJGd3x",
    "executionInfo": {
     "status": "ok",
     "timestamp": 1676481897157,
     "user_tz": 300,
     "elapsed": 390,
     "user": {
      "displayName": "JUAN LUIS HERENCIA GUERRA",
      "userId": "07206483212682125217"
     }
    },
    "outputId": "07f8f856-a71a-4bf4-f9fa-bcff5f5715ce"
   },
   "execution_count": 94,
   "outputs": [
    {
     "output_type": "execute_result",
     "data": {
      "text/plain": [
       "   2                  \n",
       "2⋅x  - x⋅(x + 1) - 2⋅x"
      ],
      "image/png": "[encoded data removed]",
      "text/latex": "$\\displaystyle 2 x^{2} - x \\left(x + 1\\right) - 2 x$"
     },
     "metadata": {},
     "execution_count": 94
    }
   ]
  },
  {
   "cell_type": "code",
   "source": [
    "# Simplificar\n",
    "y.simplify()"
   ],
   "metadata": {
    "colab": {
     "base_uri": "https://localhost:8080/",
     "height": 38
    },
    "id": "IX2aq6ZgG50A",
    "executionInfo": {
     "status": "ok",
     "timestamp": 1676482006845,
     "user_tz": 300,
     "elapsed": 5,
     "user": {
      "displayName": "JUAN LUIS HERENCIA GUERRA",
      "userId": "07206483212682125217"
     }
    },
    "outputId": "665ce590-25cf-464c-be6e-8c2e9ee72162"
   },
   "execution_count": 95,
   "outputs": [
    {
     "output_type": "execute_result",
     "data": {
      "text/plain": [
       "x⋅(x - 3)"
      ],
      "image/png": "[encoded data removed]",
      "text/latex": "$\\displaystyle x \\left(x - 3\\right)$"
     },
     "metadata": {},
     "execution_count": 95
    }
   ]
  },
  {
   "cell_type": "code",
   "source": [
    "simplify(y)"
   ],
   "metadata": {
    "colab": {
     "base_uri": "https://localhost:8080/",
     "height": 38
    },
    "id": "TelZ4tT8HUyf",
    "executionInfo": {
     "status": "ok",
     "timestamp": 1676482027671,
     "user_tz": 300,
     "elapsed": 4,
     "user": {
      "displayName": "JUAN LUIS HERENCIA GUERRA",
      "userId": "07206483212682125217"
     }
    },
    "outputId": "21adaa3f-35b9-458b-d4e0-5e89d40f0038"
   },
   "execution_count": 96,
   "outputs": [
    {
     "output_type": "execute_result",
     "data": {
      "text/plain": [
       "x⋅(x - 3)"
      ],
      "image/png": "[encoded data removed]",
      "text/latex": "$\\displaystyle x \\left(x - 3\\right)$"
     },
     "metadata": {},
     "execution_count": 96
    }
   ]
  },
  {
   "cell_type": "code",
   "source": [
    "y = 2*cos(x)*sin(x)\n",
    "y"
   ],
   "metadata": {
    "colab": {
     "base_uri": "https://localhost:8080/",
     "height": 38
    },
    "id": "BbyBy-OnHZ00",
    "executionInfo": {
     "status": "ok",
     "timestamp": 1676482074236,
     "user_tz": 300,
     "elapsed": 4,
     "user": {
      "displayName": "JUAN LUIS HERENCIA GUERRA",
      "userId": "07206483212682125217"
     }
    },
    "outputId": "2feb43aa-743d-4fcd-ca12-21fc2d90e032"
   },
   "execution_count": 97,
   "outputs": [
    {
     "output_type": "execute_result",
     "data": {
      "text/plain": [
       "2⋅sin(x)⋅cos(x)"
      ],
      "image/png": "[encoded data removed]",
      "text/latex": "$\\displaystyle 2 \\sin{\\left(x \\right)} \\cos{\\left(x \\right)}$"
     },
     "metadata": {},
     "execution_count": 97
    }
   ]
  },
  {
   "cell_type": "code",
   "source": [
    "# simplificar expresion trigonométrica\n",
    "trigsimp(y)"
   ],
   "metadata": {
    "colab": {
     "base_uri": "https://localhost:8080/",
     "height": 38
    },
    "id": "8kyJSBKbHlHj",
    "executionInfo": {
     "status": "ok",
     "timestamp": 1676482111147,
     "user_tz": 300,
     "elapsed": 6,
     "user": {
      "displayName": "JUAN LUIS HERENCIA GUERRA",
      "userId": "07206483212682125217"
     }
    },
    "outputId": "f2daddca-1a89-413c-c09d-b2e0be97ffac"
   },
   "execution_count": 98,
   "outputs": [
    {
     "output_type": "execute_result",
     "data": {
      "text/plain": [
       "sin(2⋅x)"
      ],
      "image/png": "[encoded data removed]",
      "text/latex": "$\\displaystyle \\sin{\\left(2 x \\right)}$"
     },
     "metadata": {},
     "execution_count": 98
    }
   ]
  },
  {
   "cell_type": "code",
   "source": [
    "x, y = symbols('x,y')"
   ],
   "metadata": {
    "id": "bKh36cTLHuTA",
    "executionInfo": {
     "status": "ok",
     "timestamp": 1676482177218,
     "user_tz": 300,
     "elapsed": 390,
     "user": {
      "displayName": "JUAN LUIS HERENCIA GUERRA",
      "userId": "07206483212682125217"
     }
    }
   },
   "execution_count": 99,
   "outputs": []
  },
  {
   "cell_type": "code",
   "source": [
    "z = exp(x)*exp(y)\n",
    "z"
   ],
   "metadata": {
    "colab": {
     "base_uri": "https://localhost:8080/",
     "height": 38
    },
    "id": "9x5fU-E2H-RZ",
    "executionInfo": {
     "status": "ok",
     "timestamp": 1676482197258,
     "user_tz": 300,
     "elapsed": 6,
     "user": {
      "displayName": "JUAN LUIS HERENCIA GUERRA",
      "userId": "07206483212682125217"
     }
    },
    "outputId": "8395ed6e-0099-4f7e-bde9-4c6de51d9d1a"
   },
   "execution_count": 100,
   "outputs": [
    {
     "output_type": "execute_result",
     "data": {
      "text/plain": [
       " x  y\n",
       "ℯ ⋅ℯ "
      ],
      "image/png": "[encoded data removed]",
      "text/latex": "$\\displaystyle e^{x} e^{y}$"
     },
     "metadata": {},
     "execution_count": 100
    }
   ]
  },
  {
   "cell_type": "code",
   "source": [
    "# simplificacion\n",
    "powsimp(z)"
   ],
   "metadata": {
    "colab": {
     "base_uri": "https://localhost:8080/",
     "height": 38
    },
    "id": "LxbWEoXPIDMM",
    "executionInfo": {
     "status": "ok",
     "timestamp": 1676482222741,
     "user_tz": 300,
     "elapsed": 5,
     "user": {
      "displayName": "JUAN LUIS HERENCIA GUERRA",
      "userId": "07206483212682125217"
     }
    },
    "outputId": "1b24f9a4-a108-47fe-dcf4-34252ebda6f0"
   },
   "execution_count": 101,
   "outputs": [
    {
     "output_type": "execute_result",
     "data": {
      "text/plain": [
       " x + y\n",
       "ℯ     "
      ],
      "image/png": "[encoded data removed]",
      "text/latex": "$\\displaystyle e^{x + y}$"
     },
     "metadata": {},
     "execution_count": 101
    }
   ]
  },
  {
   "cell_type": "markdown",
   "source": [
    "### Expansión"
   ],
   "metadata": {
    "id": "oU7FLZmIIRHD"
   }
  },
  {
   "cell_type": "code",
   "source": [
    "z = (x+1)*(x+2)\n",
    "z"
   ],
   "metadata": {
    "colab": {
     "base_uri": "https://localhost:8080/",
     "height": 38
    },
    "id": "6cderdaXIJei",
    "executionInfo": {
     "status": "ok",
     "timestamp": 1676482289231,
     "user_tz": 300,
     "elapsed": 5,
     "user": {
      "displayName": "JUAN LUIS HERENCIA GUERRA",
      "userId": "07206483212682125217"
     }
    },
    "outputId": "62a32879-c7bb-440c-826f-442d62c6df08"
   },
   "execution_count": 102,
   "outputs": [
    {
     "output_type": "execute_result",
     "data": {
      "text/plain": [
       "(x + 1)⋅(x + 2)"
      ],
      "image/png": "[encoded data removed]",
      "text/latex": "$\\displaystyle \\left(x + 1\\right) \\left(x + 2\\right)$"
     },
     "metadata": {},
     "execution_count": 102
    }
   ]
  },
  {
   "cell_type": "code",
   "source": [
    "expand(z)"
   ],
   "metadata": {
    "colab": {
     "base_uri": "https://localhost:8080/",
     "height": 38
    },
    "id": "lzbZd7KlIZkD",
    "executionInfo": {
     "status": "ok",
     "timestamp": 1676482303890,
     "user_tz": 300,
     "elapsed": 5,
     "user": {
      "displayName": "JUAN LUIS HERENCIA GUERRA",
      "userId": "07206483212682125217"
     }
    },
    "outputId": "5d705a41-c6c0-4213-9a21-8538e4ab360a"
   },
   "execution_count": 103,
   "outputs": [
    {
     "output_type": "execute_result",
     "data": {
      "text/plain": [
       " 2          \n",
       "x  + 3⋅x + 2"
      ],
      "image/png": "[encoded data removed]",
      "text/latex": "$\\displaystyle x^{2} + 3 x + 2$"
     },
     "metadata": {},
     "execution_count": 103
    }
   ]
  },
  {
   "cell_type": "code",
   "source": [
    "sin(x+y).expand(trig=True)"
   ],
   "metadata": {
    "colab": {
     "base_uri": "https://localhost:8080/",
     "height": 38
    },
    "id": "Mo6rbObaIdPF",
    "executionInfo": {
     "status": "ok",
     "timestamp": 1676482349408,
     "user_tz": 300,
     "elapsed": 262,
     "user": {
      "displayName": "JUAN LUIS HERENCIA GUERRA",
      "userId": "07206483212682125217"
     }
    },
    "outputId": "bbb4ac94-1153-40e9-e147-1ccb7d8a24f9"
   },
   "execution_count": 105,
   "outputs": [
    {
     "output_type": "execute_result",
     "data": {
      "text/plain": [
       "sin(x)⋅cos(y) + sin(y)⋅cos(x)"
      ],
      "image/png": "[encoded data removed]",
      "text/latex": "$\\displaystyle \\sin{\\left(x \\right)} \\cos{\\left(y \\right)} + \\sin{\\left(y \\right)} \\cos{\\left(x \\right)}$"
     },
     "metadata": {},
     "execution_count": 105
    }
   ]
  },
  {
   "cell_type": "code",
   "source": [
    "a, b = symbols('a,b', positive=True)\n",
    "a, b"
   ],
   "metadata": {
    "colab": {
     "base_uri": "https://localhost:8080/",
     "height": 38
    },
    "id": "pbzB3KTlIhNO",
    "executionInfo": {
     "status": "ok",
     "timestamp": 1676482435369,
     "user_tz": 300,
     "elapsed": 5,
     "user": {
      "displayName": "JUAN LUIS HERENCIA GUERRA",
      "userId": "07206483212682125217"
     }
    },
    "outputId": "07e7fa2c-e958-4cae-f3b4-ccac4cbce083"
   },
   "execution_count": 106,
   "outputs": [
    {
     "output_type": "execute_result",
     "data": {
      "text/plain": [
       "(a, b)"
      ],
      "image/png": "[encoded data removed]",
      "text/latex": "$\\displaystyle \\left( a, \\  b\\right)$"
     },
     "metadata": {},
     "execution_count": 106
    }
   ]
  },
  {
   "cell_type": "code",
   "source": [
    "log(a*b).expand(log=True)"
   ],
   "metadata": {
    "colab": {
     "base_uri": "https://localhost:8080/",
     "height": 38
    },
    "id": "TwWqw_3ZI9ab",
    "executionInfo": {
     "status": "ok",
     "timestamp": 1676482468533,
     "user_tz": 300,
     "elapsed": 274,
     "user": {
      "displayName": "JUAN LUIS HERENCIA GUERRA",
      "userId": "07206483212682125217"
     }
    },
    "outputId": "191d1654-690b-4b17-d698-45759f83d41a"
   },
   "execution_count": 108,
   "outputs": [
    {
     "output_type": "execute_result",
     "data": {
      "text/plain": [
       "log(a) + log(b)"
      ],
      "image/png": "[encoded data removed]",
      "text/latex": "$\\displaystyle \\log{\\left(a \\right)} + \\log{\\left(b \\right)}$"
     },
     "metadata": {},
     "execution_count": 108
    }
   ]
  },
  {
   "cell_type": "code",
   "source": [
    "z = I*a+b"
   ],
   "metadata": {
    "id": "WFOoJVJTJBtx",
    "executionInfo": {
     "status": "ok",
     "timestamp": 1676482542128,
     "user_tz": 300,
     "elapsed": 274,
     "user": {
      "displayName": "JUAN LUIS HERENCIA GUERRA",
      "userId": "07206483212682125217"
     }
    }
   },
   "execution_count": 110,
   "outputs": []
  },
  {
   "cell_type": "code",
   "source": [
    "z.expand(complex=True)"
   ],
   "metadata": {
    "colab": {
     "base_uri": "https://localhost:8080/",
     "height": 38
    },
    "id": "mXtX3FTFJS2b",
    "executionInfo": {
     "status": "ok",
     "timestamp": 1676482556207,
     "user_tz": 300,
     "elapsed": 257,
     "user": {
      "displayName": "JUAN LUIS HERENCIA GUERRA",
      "userId": "07206483212682125217"
     }
    },
    "outputId": "e382bf75-2ff9-4585-f2ce-d6ee4d0dd4f4"
   },
   "execution_count": 111,
   "outputs": [
    {
     "output_type": "execute_result",
     "data": {
      "text/plain": [
       "ⅈ⋅a + b"
      ],
      "image/png": "[encoded data removed]",
      "text/latex": "$\\displaystyle i a + b$"
     },
     "metadata": {},
     "execution_count": 111
    }
   ]
  },
  {
   "cell_type": "code",
   "source": [
    "exp(I*a+b).expand(complex=True)"
   ],
   "metadata": {
    "colab": {
     "base_uri": "https://localhost:8080/",
     "height": 38
    },
    "id": "C5KpC2KXJa0C",
    "executionInfo": {
     "status": "ok",
     "timestamp": 1676482620039,
     "user_tz": 300,
     "elapsed": 7,
     "user": {
      "displayName": "JUAN LUIS HERENCIA GUERRA",
      "userId": "07206483212682125217"
     }
    },
    "outputId": "91fca9de-36ac-4f24-f69e-3dac482fc70b"
   },
   "execution_count": 113,
   "outputs": [
    {
     "output_type": "execute_result",
     "data": {
      "text/plain": [
       "   b           b       \n",
       "ⅈ⋅ℯ ⋅sin(a) + ℯ ⋅cos(a)"
      ],
      "image/png": "[encoded data removed]",
      "text/latex": "$\\displaystyle i e^{b} \\sin{\\left(a \\right)} + e^{b} \\cos{\\left(a \\right)}$"
     },
     "metadata": {},
     "execution_count": 113
    }
   ]
  },
  {
   "cell_type": "markdown",
   "source": [
    "### Factorización"
   ],
   "metadata": {
    "id": "x7meTQQiJ1ui"
   }
  },
  {
   "cell_type": "code",
   "source": [
    "factor(x**2 - 1)"
   ],
   "metadata": {
    "colab": {
     "base_uri": "https://localhost:8080/",
     "height": 38
    },
    "id": "Ng884feAJhJB",
    "executionInfo": {
     "status": "ok",
     "timestamp": 1676482683208,
     "user_tz": 300,
     "elapsed": 7,
     "user": {
      "displayName": "JUAN LUIS HERENCIA GUERRA",
      "userId": "07206483212682125217"
     }
    },
    "outputId": "fe1d94c1-83dc-427f-9a99-00b3e481183d"
   },
   "execution_count": 114,
   "outputs": [
    {
     "output_type": "execute_result",
     "data": {
      "text/plain": [
       "(x - 1)⋅(x + 1)"
      ],
      "image/png": "[encoded data removed]",
      "text/latex": "$\\displaystyle \\left(x - 1\\right) \\left(x + 1\\right)$"
     },
     "metadata": {},
     "execution_count": 114
    }
   ]
  },
  {
   "cell_type": "code",
   "source": [
    "factor(x*cos(y) + sin(z)*x)"
   ],
   "metadata": {
    "colab": {
     "base_uri": "https://localhost:8080/",
     "height": 38
    },
    "id": "t8yJMolzJ561",
    "executionInfo": {
     "status": "ok",
     "timestamp": 1676482732600,
     "user_tz": 300,
     "elapsed": 251,
     "user": {
      "displayName": "JUAN LUIS HERENCIA GUERRA",
      "userId": "07206483212682125217"
     }
    },
    "outputId": "bde7bd0c-cccb-4924-84ce-0b56b4e61ce0"
   },
   "execution_count": 115,
   "outputs": [
    {
     "output_type": "execute_result",
     "data": {
      "text/plain": [
       "x⋅(sin(ⅈ⋅a + b) + cos(y))"
      ],
      "image/png": "[encoded data removed]",
      "text/latex": "$\\displaystyle x \\left(\\sin{\\left(i a + b \\right)} + \\cos{\\left(y \\right)}\\right)$"
     },
     "metadata": {},
     "execution_count": 115
    }
   ]
  },
  {
   "cell_type": "code",
   "source": [
    "# simplificación de logaritmos\n",
    "logcombine(log(a) - log(b))"
   ],
   "metadata": {
    "colab": {
     "base_uri": "https://localhost:8080/",
     "height": 48
    },
    "id": "UNA5KQ1TKF4z",
    "executionInfo": {
     "status": "ok",
     "timestamp": 1676482781605,
     "user_tz": 300,
     "elapsed": 7,
     "user": {
      "displayName": "JUAN LUIS HERENCIA GUERRA",
      "userId": "07206483212682125217"
     }
    },
    "outputId": "45606d82-5d4b-41c6-8f1e-1d624e7724a8"
   },
   "execution_count": 116,
   "outputs": [
    {
     "output_type": "execute_result",
     "data": {
      "text/plain": [
       "   ⎛a⎞\n",
       "log⎜─⎟\n",
       "   ⎝b⎠"
      ],
      "image/png": "[encoded data removed]",
      "text/latex": "$\\displaystyle \\log{\\left(\\frac{a}{b} \\right)}$"
     },
     "metadata": {},
     "execution_count": 116
    }
   ]
  },
  {
   "cell_type": "code",
   "source": [
    "w = x + y + x*y*z\n",
    "w"
   ],
   "metadata": {
    "colab": {
     "base_uri": "https://localhost:8080/",
     "height": 38
    },
    "id": "eg3d-k-tKR3o",
    "executionInfo": {
     "status": "ok",
     "timestamp": 1676482841488,
     "user_tz": 300,
     "elapsed": 6,
     "user": {
      "displayName": "JUAN LUIS HERENCIA GUERRA",
      "userId": "07206483212682125217"
     }
    },
    "outputId": "c02294ed-c7f0-4e9a-ce99-ac989d844324"
   },
   "execution_count": 117,
   "outputs": [
    {
     "output_type": "execute_result",
     "data": {
      "text/plain": [
       "x⋅y⋅(ⅈ⋅a + b) + x + y"
      ],
      "image/png": "[encoded data removed]",
      "text/latex": "$\\displaystyle x y \\left(i a + b\\right) + x + y$"
     },
     "metadata": {},
     "execution_count": 117
    }
   ]
  },
  {
   "cell_type": "code",
   "source": [
    "w.factor()  # busca lo máximo factorizable"
   ],
   "metadata": {
    "colab": {
     "base_uri": "https://localhost:8080/",
     "height": 38
    },
    "id": "lApY7O_CKgYt",
    "executionInfo": {
     "status": "ok",
     "timestamp": 1676482858584,
     "user_tz": 300,
     "elapsed": 398,
     "user": {
      "displayName": "JUAN LUIS HERENCIA GUERRA",
      "userId": "07206483212682125217"
     }
    },
    "outputId": "0434a492-82c1-442f-b81c-620313548359"
   },
   "execution_count": 118,
   "outputs": [
    {
     "output_type": "execute_result",
     "data": {
      "text/plain": [
       "ⅈ⋅(a⋅x⋅y - ⅈ⋅b⋅x⋅y - ⅈ⋅x - ⅈ⋅y)"
      ],
      "image/png": "[encoded data removed]",
      "text/latex": "$\\displaystyle i \\left(a x y - i b x y - i x - i y\\right)$"
     },
     "metadata": {},
     "execution_count": 118
    }
   ]
  },
  {
   "cell_type": "code",
   "source": [
    "# factorizar por la variable x\n",
    "w.collect(x)"
   ],
   "metadata": {
    "colab": {
     "base_uri": "https://localhost:8080/",
     "height": 38
    },
    "id": "-Nwv7Xi-Kkj4",
    "executionInfo": {
     "status": "ok",
     "timestamp": 1676482924136,
     "user_tz": 300,
     "elapsed": 320,
     "user": {
      "displayName": "JUAN LUIS HERENCIA GUERRA",
      "userId": "07206483212682125217"
     }
    },
    "outputId": "bc7ad04f-0cab-488d-a3cb-f9e0b7f0e42f"
   },
   "execution_count": 120,
   "outputs": [
    {
     "output_type": "execute_result",
     "data": {
      "text/plain": [
       "x⋅(y⋅(ⅈ⋅a + b) + 1) + y"
      ],
      "image/png": "[encoded data removed]",
      "text/latex": "$\\displaystyle x \\left(y \\left(i a + b\\right) + 1\\right) + y$"
     },
     "metadata": {},
     "execution_count": 120
    }
   ]
  },
  {
   "cell_type": "code",
   "source": [],
   "metadata": {
    "id": "VjY5bjT9KuMn"
   },
   "execution_count": null,
   "outputs": []
  }
 ]
}