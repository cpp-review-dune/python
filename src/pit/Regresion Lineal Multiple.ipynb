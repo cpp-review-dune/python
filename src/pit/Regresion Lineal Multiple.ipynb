{
 "cells": [
  {
   "cell_type": "markdown",
   "id": "8e61a1da",
   "metadata": {
    "id": "8e61a1da"
   },
   "source": [
    "# Python para Ingeniería\n",
    "## Regresión Lineal Múltiple\n",
    "Profesor: **Juan Luis Herencia Guerra** <br>\n",
    "Email: **jherenciag@uni.edu.pe**"
   ]
  },
  {
   "cell_type": "markdown",
   "id": "ce85486c",
   "metadata": {
    "id": "ce85486c"
   },
   "source": [
    "**Regresión Lineal Múltiple**\n",
    "\n",
    "Se fundamenta, en que las proyecciones tienden a ecuaciones de la forma:\n",
    "\n",
    "$Y = \\beta _0 + \\beta _1 X_1 + \\beta _2 X_2 + \\beta _3 X_3 + \\beta _4 X_3 + ... + error$\n",
    "\n",
    "En los problemas lo que se desea saber es $Y$ conociendo o dado los valores $X$, llamados también características\n",
    "\n",
    "Los $\\beta _i$ son coeficientes, parámetros"
   ]
  },
  {
   "cell_type": "markdown",
   "id": "dc42295a",
   "metadata": {
    "id": "dc42295a"
   },
   "source": [
    "### Ejercicio\n",
    "\n",
    "Se tiene la siguiente tabla con los valores de las compras y ventas \n",
    "(en miles de soles) de un negocio entre los años 2011 y 2021, \n",
    "estimar cual podría ser la ganancia para el año 2022, \n",
    "considerando que se va a gastar en compras 650 mil soles. <br>\n",
    "La ganancia es venta menos compra.\n"
   ]
  },
  {
   "cell_type": "code",
   "execution_count": null,
   "id": "0b6f2e68",
   "metadata": {
    "id": "0b6f2e68"
   },
   "outputs": [],
   "source": [
    "# Datos del ejercicio propuesto:\n",
    "import pandas as pd\n",
    "# de lo anterior usar la regresión lineal\n",
    "from sklearn.linear_model import LinearRegression\n",
    "from sklearn import linear_model  # Modelo base es el lineal\n",
    "import numpy as np\n",
    "print('''\n",
    "Año   Compras\tVentas\n",
    "2011\t349\t\t388\n",
    "2012\t368\t\t408\n",
    "2013\t388\t\t433\n",
    "2014\t414\t\t465\n",
    "2015\t444\t\t498\n",
    "2016\t484\t\t538\n",
    "2017\t518\t\t574\n",
    "2018\t550\t\t614\n",
    "2019\t586\t\t656\n",
    "2020\t635\t\t699\n",
    "2021\t686\t\t748\n",
    "''')"
   ]
  },
  {
   "cell_type": "markdown",
   "id": "25bad9b4",
   "metadata": {
    "id": "25bad9b4"
   },
   "source": [
    "Indicar la matriz de características $X$ : Las columnas **Año** y **Compras**\n",
    "\n",
    "Indicar la matriz columna de objetivos $Y$ : La columna **Ventas**"
   ]
  },
  {
   "cell_type": "code",
   "execution_count": null,
   "id": "ea37f3c2",
   "metadata": {
    "id": "ea37f3c2"
   },
   "outputs": [],
   "source": [
    "X = np.array([[1, 2011, 349],\n",
    "              [1, 2012, 368],\n",
    "              [1, 2013, 388],\n",
    "              [1, 2014, 414],\n",
    "              [1, 2015, 444],\n",
    "              [1, 2016, 484],\n",
    "              [1, 2017, 518],\n",
    "              [1, 2018, 550],\n",
    "              [1, 2019, 586],\n",
    "              [1, 2020, 635],\n",
    "              [1, 2021, 686]])\n",
    "X"
   ]
  },
  {
   "cell_type": "code",
   "execution_count": null,
   "id": "5cecb7e4",
   "metadata": {
    "scrolled": true,
    "id": "5cecb7e4"
   },
   "outputs": [],
   "source": [
    "Y = np.array([[388],\n",
    "              [408],\n",
    "              [433],\n",
    "              [465],\n",
    "              [498],\n",
    "              [538],\n",
    "              [574],\n",
    "              [614],\n",
    "              [656],\n",
    "              [699],\n",
    "              [748]])\n",
    "Y"
   ]
  },
  {
   "cell_type": "markdown",
   "id": "22caa980",
   "metadata": {
    "id": "22caa980"
   },
   "source": [
    "#### Obtención del modelo\n",
    "\n",
    "Cálculo de los betas: $\\beta _0, \\beta _1 y \\beta _2$\n",
    "\n",
    "=> se hallará una matriz columna BETA = $[\\beta _0, \\beta _1, \\beta _2]$ considerando el\n",
    "\n",
    "![img3.png](data:image/png;base64,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)\n"
   ]
  },
  {
   "cell_type": "markdown",
   "id": "b9cb71e5",
   "metadata": {
    "id": "b9cb71e5"
   },
   "source": [
    "#### Entrenar el modelo (el de regresion lineal)"
   ]
  },
  {
   "cell_type": "code",
   "execution_count": null,
   "id": "16a6732a",
   "metadata": {
    "id": "16a6732a"
   },
   "outputs": [],
   "source": [
    "BETA = np.linalg.inv(np.transpose(X).dot(X)).dot(np.transpose(X)).dot(Y)\n",
    "BETA"
   ]
  },
  {
   "cell_type": "markdown",
   "id": "619c72e3",
   "metadata": {
    "id": "619c72e3"
   },
   "source": [
    "Para saber la ecuacion: $Y = \\beta _0 + \\beta _1 X_1 + \\beta_ 2 X_2$"
   ]
  },
  {
   "cell_type": "code",
   "execution_count": null,
   "id": "a76f8f4d",
   "metadata": {
    "id": "a76f8f4d"
   },
   "outputs": [],
   "source": [
    "# beta0\n",
    "beta0 = BETA[0][0]\n",
    "beta0"
   ]
  },
  {
   "cell_type": "code",
   "execution_count": null,
   "id": "c294b5e7",
   "metadata": {
    "id": "c294b5e7"
   },
   "outputs": [],
   "source": [
    "# beta1\n",
    "beta1 = BETA[1][0]\n",
    "beta1"
   ]
  },
  {
   "cell_type": "code",
   "execution_count": null,
   "id": "b25c0540",
   "metadata": {
    "id": "b25c0540"
   },
   "outputs": [],
   "source": [
    "# beta2\n",
    "beta2 = BETA[2][0]\n",
    "beta2"
   ]
  },
  {
   "cell_type": "code",
   "execution_count": null,
   "id": "861887f2",
   "metadata": {
    "id": "861887f2"
   },
   "outputs": [],
   "source": [
    "print('La ecuacion es: y =', beta0, '+', beta1, 'X1 +', beta2, 'X2')"
   ]
  },
  {
   "cell_type": "markdown",
   "id": "159b0eac",
   "metadata": {
    "id": "159b0eac"
   },
   "source": [
    "#### Predicción\n",
    "\n",
    "Prediccion de las ventas del 2022, $X_1$ es año y $X_2$ es el valor de las compras\n",
    "\n",
    "$ => X_1 = 2022, X_2 = 650$"
   ]
  },
  {
   "cell_type": "code",
   "execution_count": null,
   "id": "e87de326",
   "metadata": {
    "id": "e87de326"
   },
   "outputs": [],
   "source": [
    "# ventas2022 es y en este caso\n",
    "ventas2022 = -18004.190626695185 + 9.002434244253095*2022 + 0.816878481800597*650\n",
    "ventas2022"
   ]
  },
  {
   "cell_type": "code",
   "execution_count": null,
   "id": "842e1768",
   "metadata": {
    "id": "842e1768"
   },
   "outputs": [],
   "source": [
    "# La ganancia para el año 2022\n",
    "ganancia2022 = ventas2022 - 650\n",
    "ganancia2022"
   ]
  },
  {
   "cell_type": "markdown",
   "id": "6560cc2b",
   "metadata": {
    "id": "6560cc2b"
   },
   "source": [
    "### Usando una librería de Machine Learning\n",
    "#### SciKit Learn\n",
    "\n",
    "[Regresión Lineal](https://scikit-learn.org/stable/modules/generated/sklearn.linear_model.LinearRegression.html)"
   ]
  },
  {
   "cell_type": "code",
   "execution_count": null,
   "id": "e48499eb",
   "metadata": {
    "id": "e48499eb"
   },
   "outputs": [],
   "source": [
    "# Se requiere la varaiable de características X y\n",
    "# la variable objetivo Y\n",
    "x_caract = pd.DataFrame(X)\n",
    "x_caract"
   ]
  },
  {
   "cell_type": "code",
   "execution_count": null,
   "id": "d186ba74",
   "metadata": {
    "id": "d186ba74"
   },
   "outputs": [],
   "source": [
    "y_venta = pd.DataFrame(Y)\n",
    "y_venta"
   ]
  },
  {
   "cell_type": "code",
   "execution_count": null,
   "id": "965d4d59",
   "metadata": {
    "id": "965d4d59"
   },
   "outputs": [],
   "source": [
    "# Iniciar el modelo de Regresión Lineal\n",
    "reg_lin = LinearRegression()"
   ]
  },
  {
   "cell_type": "code",
   "execution_count": null,
   "id": "330a95f3",
   "metadata": {
    "id": "330a95f3"
   },
   "outputs": [],
   "source": [
    "# Entrenar/alimentar con datos el modelo de regresión lineal\n",
    "reglin = reg_lin.fit(x_caract, y_venta)"
   ]
  },
  {
   "cell_type": "code",
   "execution_count": null,
   "id": "92339d1e",
   "metadata": {
    "id": "92339d1e"
   },
   "outputs": [],
   "source": [
    "# Predecir de acuerdo al requermiento del ejercicio\n",
    "# Indicar el año y el valor de las compras\n",
    "prediccion_venta = reglin.predict([[1, 2022, 650]])\n",
    "prediccion_venta"
   ]
  },
  {
   "cell_type": "code",
   "execution_count": null,
   "id": "979e2bf5",
   "metadata": {
    "id": "979e2bf5"
   },
   "outputs": [],
   "source": [
    "# Lo anterior es ventas2022\n",
    "ventas2022"
   ]
  },
  {
   "cell_type": "markdown",
   "id": "beabd86d",
   "metadata": {
    "id": "beabd86d"
   },
   "source": [
    "Los valores anteriores coinciden con lo último calculado, => Se demuestra que estamos modelando en la direccion correcta"
   ]
  },
  {
   "cell_type": "markdown",
   "source": [
    "#### Cálculo de $R^2$\n",
    "\n",
    "$R^2$ es una medida de la bondad de ajuste de un modelo. En la regresión es una medida estadística de qué tan bien se aproximan las predicciones de la regresión a los puntos de datos reales. Un $R^2$ de $1$ indica que las predicciones de la regresión se ajustan perfectamente a los datos.\n"
   ],
   "metadata": {
    "id": "43zYm5DMfS_A"
   },
   "id": "43zYm5DMfS_A"
  },
  {
   "cell_type": "code",
   "execution_count": null,
   "id": "fb8e00d7",
   "metadata": {
    "id": "fb8e00d7"
   },
   "outputs": [],
   "source": [
    "R2 = reglin.score(x_caract, y_venta)\n",
    "R2"
   ]
  },
  {
   "cell_type": "code",
   "source": [
    "R = R2 ** 0.5\n",
    "R"
   ],
   "metadata": {
    "id": "Sor6rlU4enMS"
   },
   "id": "Sor6rlU4enMS",
   "execution_count": null,
   "outputs": []
  },
  {
   "cell_type": "code",
   "source": [],
   "metadata": {
    "id": "mQyAYrSdgaXQ"
   },
   "id": "mQyAYrSdgaXQ",
   "execution_count": null,
   "outputs": []
  }
 ],
 "metadata": {
  "kernelspec": {
   "display_name": "Python 3 (ipykernel)",
   "language": "python",
   "name": "python3"
  },
  "language_info": {
   "codemirror_mode": {
    "name": "ipython",
    "version": 3
   },
   "file_extension": ".py",
   "mimetype": "text/x-python",
   "name": "python",
   "nbconvert_exporter": "python",
   "pygments_lexer": "ipython3",
   "version": "3.9.7"
  },
  "colab": {
   "provenance": []
  }
 },
 "nbformat": 4,
 "nbformat_minor": 5
}