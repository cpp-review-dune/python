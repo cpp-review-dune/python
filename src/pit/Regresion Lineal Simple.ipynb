{
 "cells": [
  {
   "cell_type": "markdown",
   "id": "fdf49334",
   "metadata": {
    "id": "fdf49334"
   },
   "source": [
    "# Python para Ingeniería\n",
    "## Regresión Lineal Simple\n",
    "Profesor: **Juan Luis Herencia Guerra** <br>\n",
    "Email: **jherenciag@uni.edu.pe**"
   ]
  },
  {
   "cell_type": "markdown",
   "id": "363d1788",
   "metadata": {
    "id": "363d1788"
   },
   "source": [
    "### Regresiones\n",
    "\n",
    "Son herramientas principales de la estadistica inferencial. El objetivo del análisis de regresión es describir la relación entre un conjunto de variables, llamadas variables dependientes, y otro conjunto de variables, llamadas variables independientes o explicativas. Más específicamente, el análisis de regresión ayuda a entender cómo el valor típico de la variable dependiente cambia cuando cualquiera de las variables independientes es cambiada, mientras que se mantienen las otras variables independientes fijas. El producto final del análisis de regresión es la estimación de una función de las variables independientes llamada la función de regresión. La idea es que en base a esta función de regresión podamos hacer estimaciones sobre eventos futuros."
   ]
  },
  {
   "cell_type": "markdown",
   "id": "a7d3938c",
   "metadata": {
    "id": "a7d3938c"
   },
   "source": [
    "**Regresión Lineal Simple**\n",
    "\n",
    "Se fundamenta, en que las proyecciones tienden a una recta de la forma\n",
    "\n",
    "$Y = \\beta _0 + \\beta _1X + error$\n",
    "\n",
    "En los problemas lo que se desea saber es $Y$ conociendo o dado un valor $X$"
   ]
  },
  {
   "cell_type": "markdown",
   "id": "c0e97bc0",
   "metadata": {
    "id": "c0e97bc0"
   },
   "source": [
    "### Ejercicio\n",
    "\n",
    "Sean los datos tomados de un experimento de un resorte soportando un peso (en Kg), se han medido los pesos (x) y las longitudes que toma el resorte (y) en cm."
   ]
  },
  {
   "cell_type": "code",
   "execution_count": null,
   "id": "73c40404",
   "metadata": {
    "id": "73c40404"
   },
   "outputs": [],
   "source": [
    "# Sean los datos x y\n",
    "import matplotlib.pyplot as plt\n",
    "import numpy as np\n",
    "print('''\n",
    "x     y\n",
    "(Kg) (cm)\n",
    "--- ----\n",
    "0.0 5.06 \n",
    "0.2 5.01 \n",
    "0.4 5.12 \n",
    "0.6 5.13 \n",
    "0.8 5.14 \n",
    "1.0 5.16 \n",
    "1.2 5.25 \n",
    "1.4 5.19 \n",
    "1.6 5.24 \n",
    "1.8 5.46 \n",
    "2.0 5.40\n",
    "2.2 5.57\n",
    "2.4 5.47\n",
    "2.6 5.53\n",
    "2.8 5.61\n",
    "3.0 5.59\n",
    "3.2 5.61\n",
    "3.4 5.75\n",
    "3.6 5.68\n",
    "3.8 5.80\n",
    "''')"
   ]
  },
  {
   "cell_type": "code",
   "execution_count": null,
   "id": "676ce4e4",
   "metadata": {
    "id": "676ce4e4"
   },
   "outputs": [],
   "source": [
    "# variable x (características)\n",
    "x = np.array([0.0, 0.2, 0.4, 0.6, 0.8, 1.0, 1.2, 1.4, 1.6, 1.8,\n",
    "              2.0, 2.2, 2.4, 2.6, 2.8, 3.0, 3.2, 3.4, 3.6, 3.8])\n",
    "x"
   ]
  },
  {
   "cell_type": "code",
   "execution_count": null,
   "id": "041db11b",
   "metadata": {
    "id": "041db11b"
   },
   "outputs": [],
   "source": [
    "# variable y objetivo (lo que se quiere predecir)\n",
    "y = np.array([5.06, 5.01, 5.12, 5.13, 5.14, 5.16, 5.25, 5.19, 5.24, 5.46,\n",
    "              5.40, 5.57, 5.47, 5.53, 5.61, 5.59, 5.61, 5.75, 5.68, 5.80])\n",
    "y"
   ]
  },
  {
   "cell_type": "code",
   "execution_count": null,
   "id": "6b519752",
   "metadata": {
    "id": "6b519752"
   },
   "outputs": [],
   "source": [
    "plt.scatter(x, y)\n",
    "plt.grid(True)\n",
    "plt.xlabel('x - Pesos')\n",
    "plt.ylabel('y - Longitudes del resorte')\n",
    "plt.title('Pesos vs Longitud')"
   ]
  },
  {
   "cell_type": "markdown",
   "id": "26883511",
   "metadata": {
    "id": "26883511"
   },
   "source": [
    "#### Obtención del modelo\n",
    "Cálculo de $\\beta _1$ y $\\beta _0$\n",
    "![img1.png](data:image/png;base64,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)"
   ]
  },
  {
   "cell_type": "code",
   "execution_count": null,
   "id": "2aec1e98",
   "metadata": {
    "id": "2aec1e98"
   },
   "outputs": [],
   "source": [
    "# Ecuacion (1)\n",
    "# promedio de x (1.8999999)\n",
    "sxx = np.sum((x - np.mean(x)) ** 2)\n",
    "sxx"
   ]
  },
  {
   "cell_type": "code",
   "execution_count": null,
   "id": "7ff53337",
   "metadata": {
    "id": "7ff53337"
   },
   "outputs": [],
   "source": [
    "# Ecuacion (2)\n",
    "sxy = np.sum(y*(x - np.mean(x)))\n",
    "sxy"
   ]
  },
  {
   "cell_type": "code",
   "execution_count": null,
   "id": "13d0027e",
   "metadata": {
    "id": "13d0027e"
   },
   "outputs": [],
   "source": [
    "# Ecuacion (3)\n",
    "beta1 = sxy / sxx\n",
    "beta1"
   ]
  },
  {
   "cell_type": "code",
   "execution_count": null,
   "id": "03d7d125",
   "metadata": {
    "id": "03d7d125"
   },
   "outputs": [],
   "source": [
    "# Ecuacion (4)\n",
    "# Promedio de y es 5.3885\n",
    "beta0 = np.mean(y) - beta1 * np.mean(x)\n",
    "beta0"
   ]
  },
  {
   "cell_type": "markdown",
   "id": "5af413d9",
   "metadata": {
    "id": "5af413d9"
   },
   "source": [
    "Modelo: $Y = \\beta _0 + \\beta _1 X$"
   ]
  },
  {
   "cell_type": "code",
   "execution_count": null,
   "id": "a89422a5",
   "metadata": {
    "id": "a89422a5"
   },
   "outputs": [],
   "source": [
    "print('La ecuacion hallada (funcion hallada) es: y =', beta0, ' + ', beta1, '* x')"
   ]
  },
  {
   "cell_type": "markdown",
   "id": "736aac8d",
   "metadata": {
    "id": "736aac8d"
   },
   "source": [
    "#### Predicción\n",
    "\n",
    "Con la ecuación hallada, calcular la longitud (Y) para un peso de 1.75Kg"
   ]
  },
  {
   "cell_type": "code",
   "execution_count": null,
   "id": "daab09ef",
   "metadata": {
    "id": "daab09ef"
   },
   "outputs": [],
   "source": [
    "x_nuevo = 1.75  # Peso propuesto de 1.75Kg\n",
    "y_nuevo = 4.9997142857142824 + 0.2046240601503774*x_nuevo\n",
    "print('Para un peso de', x_nuevo, 'Kg, se obtiene una longitud de', y_nuevo, 'cm')"
   ]
  },
  {
   "cell_type": "markdown",
   "id": "b6069c7a",
   "metadata": {
    "id": "b6069c7a"
   },
   "source": [
    "#### Gráfico de la tendencia\n",
    "\n",
    "Para graficar la recta de tendencia, con los valores de x (los pesos) obtener las nuevas medidas de resorte"
   ]
  },
  {
   "cell_type": "code",
   "execution_count": null,
   "id": "7126cf54",
   "metadata": {
    "id": "7126cf54"
   },
   "outputs": [],
   "source": [
    "# Sea yy las nuevas medidas\n",
    "yy = 4.9997142857142824 + 0.2046240601503774 * x\n",
    "yy"
   ]
  },
  {
   "cell_type": "code",
   "execution_count": null,
   "id": "1034f506",
   "metadata": {
    "id": "1034f506"
   },
   "outputs": [],
   "source": [
    "# Graficar nuevamente con la tendencia incluida\n",
    "plt.scatter(x, y)  # graf de ptos\n",
    "plt.plot(x, yy, 'r')   # graf de lineas\n",
    "plt.grid(True)\n",
    "plt.xlabel('x - Pesos')\n",
    "plt.ylabel('y - Longitudes del resorte')\n",
    "plt.title('Pesos vs Longitud')"
   ]
  },
  {
   "cell_type": "markdown",
   "source": [
    "#### Cálculo de R"
   ],
   "metadata": {
    "id": "HKk5n-H8VVAx"
   },
   "id": "HKk5n-H8VVAx"
  },
  {
   "cell_type": "code",
   "execution_count": null,
   "id": "68ac50b0",
   "metadata": {
    "id": "68ac50b0"
   },
   "outputs": [],
   "source": [
    "syy = np.sum((y - np.mean(y)) ** 2)\n",
    "syy"
   ]
  },
  {
   "cell_type": "markdown",
   "source": [
    "**R** es la confiabilidad de la ecuacion hallada\n",
    "\n",
    "Es confiable cuando R > 0.8 (depende del problema)\n",
    "![img2.png](data:image/png;base64,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)"
   ],
   "metadata": {
    "id": "Wyv-_XtPU2ew"
   },
   "id": "Wyv-_XtPU2ew"
  },
  {
   "cell_type": "code",
   "execution_count": null,
   "id": "d17a4fc3",
   "metadata": {
    "id": "d17a4fc3"
   },
   "outputs": [],
   "source": [
    "R = sxy / (sxx * syy) ** (0.5)\n",
    "R"
   ]
  },
  {
   "cell_type": "code",
   "execution_count": null,
   "id": "ea5eae5c",
   "metadata": {
    "id": "ea5eae5c"
   },
   "outputs": [],
   "source": []
  }
 ],
 "metadata": {
  "kernelspec": {
   "display_name": "Python 3 (ipykernel)",
   "language": "python",
   "name": "python3"
  },
  "language_info": {
   "codemirror_mode": {
    "name": "ipython",
    "version": 3
   },
   "file_extension": ".py",
   "mimetype": "text/x-python",
   "name": "python",
   "nbconvert_exporter": "python",
   "pygments_lexer": "ipython3",
   "version": "3.9.7"
  },
  "colab": {
   "provenance": []
  }
 },
 "nbformat": 4,
 "nbformat_minor": 5
}