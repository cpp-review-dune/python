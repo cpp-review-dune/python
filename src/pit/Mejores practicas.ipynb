{
 "cells": [
  {
   "cell_type": "markdown",
   "metadata": {
    "id": "Nsxx48D8AI3u"
   },
   "source": [
    "# Python para Ingeniería\n",
    "## Mejores practicas en Python\n",
    "Profesor: **Juan Luis Herencia Guerra** <br>\n",
    "Email: **jherenciag@uni.edu.pe**"
   ]
  },
  {
   "cell_type": "markdown",
   "metadata": {
    "id": "HlMObNfuvy6q"
   },
   "source": [
    "### El Zen de Python\n",
    "\n",
    "* Hermoso es mejor que feo.\n",
    "* Explícito es mejor que implícito.\n",
    "* Lo simple es mejor que lo complejo.\n",
    "* Complejo es mejor que complicado.\n",
    "* Plano es mejor que anidado.\n",
    "* Disperso es mejor que denso.\n",
    "* La legibilidad cuenta.\n",
    "* Los casos especiales no son lo suficientemente especiales como para romper las reglas.\n",
    "* Aunque la practicidad le gana a la pureza.\n",
    "* Los errores nunca deben pasar en silencio.\n",
    "* A menos que se silencie explícitamente.\n",
    "* Frente a la ambigüedad, rechace la tentación de adivinar.\n",
    "* Debe haber una, y preferiblemente solo una, forma obvia de hacerlo.\n",
    "* Aunque esa manera puede no ser obvia al principio a menos que seas holandés.\n",
    "* Ahora es mejor que nunca.\n",
    "* Aunque nunca suele ser mejor que *ahora mismo* ahora.\n",
    "* Si la implementación es difícil de explicar, es una mala idea.\n",
    "* Si la implementación es fácil de explicar, puede ser una buena idea.\n",
    "* Los espacios de nombres son una gran idea, ¡hagamos más de eso!\n",
    "\n",
    "[El Zen de Python](http://www.thezenofpython.com/)\n"
   ]
  },
  {
   "cell_type": "markdown",
   "metadata": {
    "id": "4Ig542GbmT4f"
   },
   "source": [
    "### En General\n",
    "\n",
    "* Escribe programas para personas, no para computadoras.\n",
    "* Deja que la computadora haga el trabajo.\n",
    "* Realice cambios incrementales.\n",
    "* No te repitas a ti mismo (ni a los demás).\n",
    "* Plan para los errores.\n",
    "* Optimice el software solo después de que funcione correctamente.\n",
    "* Documente el diseño y el propósito, no la mecánica.\n",
    "* Colabore."
   ]
  },
  {
   "cell_type": "markdown",
   "metadata": {
    "id": "B9WbXfVd2dlC"
   },
   "source": [
    "### Use markdown para explicarse mejor\n",
    "[Uso de Markdown](https://www-tutorialspoint-com.translate.goog/jupyter/jupyter_notebook_markdown_cells.htm?_x_tr_sl=en&_x_tr_tl=es&_x_tr_hl=es&_x_tr_pto=wapp)"
   ]
  },
  {
   "cell_type": "markdown",
   "metadata": {
    "id": "7Z07y6Xf0-NS"
   },
   "source": [
    "### Vamos"
   ]
  },
  {
   "cell_type": "code",
   "execution_count": 1,
   "metadata": {
    "executionInfo": {
     "elapsed": 4,
     "status": "ok",
     "timestamp": 1675273559146,
     "user": {
      "displayName": "JUAN LUIS HERENCIA GUERRA",
      "userId": "07206483212682125217"
     },
     "user_tz": 300
    },
    "id": "gTXol6LoyMMK"
   },
   "outputs": [],
   "source": [
    "import sys\n",
    "import time\n",
    "import numpy as np"
   ]
  },
  {
   "cell_type": "code",
   "execution_count": 2,
   "metadata": {
    "colab": {
     "base_uri": "https://localhost:8080/"
    },
    "executionInfo": {
     "elapsed": 287,
     "status": "ok",
     "timestamp": 1675273578369,
     "user": {
      "displayName": "JUAN LUIS HERENCIA GUERRA",
      "userId": "07206483212682125217"
     },
     "user_tz": 300
    },
    "id": "aEZKyvA9yRPo",
    "outputId": "db0174d1-9810-4858-f4f7-b45880f58d5e"
   },
   "outputs": [
    {
     "data": {
      "text/plain": [
       "array([ 2.82059385,  2.90120587,  2.97717657,  3.04838443,  3.11471552,\n",
       "        3.17606374,  3.23233092,  3.28342707,  3.32927044,  3.36978768,\n",
       "        3.40491398,  3.43459315,  3.45877769,  3.47742894,  3.49051703,\n",
       "        3.49802105,  3.49992898,  3.49623776,  3.48695332,  3.47209049,\n",
       "        3.45167306,  3.42573369,  3.39431387,  3.35746388,  3.31524266,\n",
       "        3.26771775,  3.2149652 ,  3.15706939,  3.09412294,  3.02622656,\n",
       "        2.95348886,  2.8760262 ,  2.79396252,  2.70742909,  2.61656436,\n",
       "        2.52151368,  2.42242911,  2.31946918,  2.21279859,  2.10258799,\n",
       "        1.9890137 ,  1.87225742,  1.75250592,  1.62995079,  1.50478808,\n",
       "        1.37721803,  1.24744473,  1.11567578,  0.98212199,  0.84699701,\n",
       "        0.71051702,  0.57290036,  0.43436717,  0.29513909,  0.15543885,\n",
       "        0.01548994, -0.12448375, -0.26425829, -0.40361007, -0.54231617,\n",
       "       -0.68015467, -0.81690507, -0.9523486 , -1.08626858, -1.21845075,\n",
       "       -1.34868367, -1.47675898, -1.60247179, -1.72562098, -1.84600955,\n",
       "       -1.9634449 , -2.07773916, -2.18870947, -2.29617832, -2.39997378,\n",
       "       -2.49992978, -2.59588643, -2.68769022, -2.77519428, -2.85825862,\n",
       "       -2.93675035, -3.01054391, -3.07952124, -3.143572  , -3.20259371,\n",
       "       -3.25649195, -3.3051805 , -3.34858147, -3.38662542, -3.4192515 ,\n",
       "       -3.4464075 , -3.46804998, -3.48414432, -3.49466478, -3.49959451,\n",
       "       -3.49892565, -3.49265925, -3.48080533, -3.46338288, -3.44041974])"
      ]
     },
     "execution_count": 2,
     "metadata": {},
     "output_type": "execute_result"
    }
   ],
   "source": [
    "# Mala idea\n",
    "p0 = 3.5\n",
    "x = np.arange(0, 10, 0.1)\n",
    "t = 1.0\n",
    "p = p0 * np.cos(0.4 * x - 13.2 * t)  # alguna fórmula\n",
    "p"
   ]
  },
  {
   "cell_type": "code",
   "execution_count": 3,
   "metadata": {
    "colab": {
     "base_uri": "https://localhost:8080/"
    },
    "executionInfo": {
     "elapsed": 244,
     "status": "ok",
     "timestamp": 1675273717753,
     "user": {
      "displayName": "JUAN LUIS HERENCIA GUERRA",
      "userId": "07206483212682125217"
     },
     "user_tz": 300
    },
    "id": "MkAYMg_sy0Vp",
    "outputId": "f3ab5250-2206-4cf6-b424-4264cce679fa"
   },
   "outputs": [
    {
     "data": {
      "text/plain": [
       "array([ 2.82059385,  2.90124559,  2.97725124,  3.04848909,  3.11484507,\n",
       "        3.1762129 ,  3.23249431,  3.28359918,  3.32944565,  3.36996032,\n",
       "        3.40507831,  3.43474336,  3.45890799,  3.47753348,  3.49059003,\n",
       "        3.4980567 ,  3.49992155,  3.4961816 ,  3.48684283,  3.47192019,\n",
       "        3.45143758,  3.42542781,  3.39393253,  3.35700217,  3.31469587,\n",
       "        3.26708139,  3.21423497,  3.15624124,  3.09319308,  3.02519145,\n",
       "        2.95234525,  2.87477113,  2.79259333,  2.70594344,  2.61496022,\n",
       "        2.51978939,  2.42058334,  2.31750094,  2.21070727,  2.10037336,\n",
       "        1.98667589,  1.86979693,  1.74992367,  1.62724806,  1.50196655,\n",
       "        1.37427979,  1.24439224,  1.11251191,  0.97884999,  0.84362053,\n",
       "        0.70704009,  0.56932738,  0.43070296,  0.29138879,  0.151608  ,\n",
       "        0.01158442, -0.12845771, -0.26829413, -0.4077009 , -0.54645477,\n",
       "       -0.68433355, -0.82111642, -0.95658436, -1.09052041, -1.22271008,\n",
       "       -1.3529417 , -1.48100671, -1.60670002, -1.72982034, -1.85017051,\n",
       "       -1.9675578 , -2.08179422, -2.19269684, -2.30008805, -2.40379588,\n",
       "       -2.50365425, -2.59950324, -2.69118936, -2.77856578, -2.86149258,\n",
       "       -2.93983696, -3.01347345, -3.08228414, -3.14615883, -3.20499523,\n",
       "       -3.25869912, -3.3071845 , -3.35037372, -3.38819762, -3.42059562,\n",
       "       -3.44751585, -3.4689152 , -3.48475939, -3.49502305, -3.49968975,\n",
       "       -3.49875201, -3.49221134, -3.48007821, -3.46237204, -3.4391212 ])"
      ]
     },
     "execution_count": 3,
     "metadata": {},
     "output_type": "execute_result"
    }
   ],
   "source": [
    "# Mejor\n",
    "# Constantes\n",
    "presion = 3.5\n",
    "long_onda = 15.7\n",
    "nro_onda = 2*np.pi/long_onda\n",
    "frec_angular = 13.2\n",
    "# variables\n",
    "x = np.arange(0, 10, 0.1)\n",
    "t = 1.0\n",
    "# Calculo\n",
    "presion_final = presion*np.cos(nro_onda*x - frec_angular*t)\n",
    "presion_final"
   ]
  },
  {
   "cell_type": "code",
   "execution_count": 4,
   "metadata": {
    "executionInfo": {
     "elapsed": 233,
     "status": "ok",
     "timestamp": 1675273757208,
     "user": {
      "displayName": "JUAN LUIS HERENCIA GUERRA",
      "userId": "07206483212682125217"
     },
     "user_tz": 300
    },
    "id": "yeC0qYYKmbdG"
   },
   "outputs": [],
   "source": [
    "# Control de tiempo"
   ]
  },
  {
   "cell_type": "code",
   "execution_count": 5,
   "metadata": {
    "colab": {
     "base_uri": "https://localhost:8080/"
    },
    "executionInfo": {
     "elapsed": 267,
     "status": "ok",
     "timestamp": 1675273892815,
     "user": {
      "displayName": "JUAN LUIS HERENCIA GUERRA",
      "userId": "07206483212682125217"
     },
     "user_tz": 300
    },
    "id": "IEtp7PGIm1Bf",
    "outputId": "01892207-39d3-43a4-d8c8-448826ea8946"
   },
   "outputs": [
    {
     "name": "stdout",
     "output_type": "stream",
     "text": [
      "Demora : 0.1569840908050537 segundos\n"
     ]
    }
   ],
   "source": [
    "# medir tiempo de ejecución\n",
    "start_time = time.time()  # inicial\n",
    "L1 = []\n",
    "for x in range(1000000):\n",
    "    L1 += [x]  # Llenar la lista\n",
    "segundos = time.time() - start_time  # final\n",
    "print('Demora :', segundos, 'segundos')"
   ]
  },
  {
   "cell_type": "code",
   "execution_count": 6,
   "metadata": {
    "executionInfo": {
     "elapsed": 212,
     "status": "ok",
     "timestamp": 1675273965919,
     "user": {
      "displayName": "JUAN LUIS HERENCIA GUERRA",
      "userId": "07206483212682125217"
     },
     "user_tz": 300
    },
    "id": "j9xmqXNV4eVh"
   },
   "outputs": [],
   "source": [
    "# Comparando\n",
    "x = np.random.rand(1000000)  # generación de 1 millone de números entre 0 y 1"
   ]
  },
  {
   "cell_type": "code",
   "execution_count": 7,
   "metadata": {
    "colab": {
     "base_uri": "https://localhost:8080/"
    },
    "executionInfo": {
     "elapsed": 7394,
     "status": "ok",
     "timestamp": 1675273992715,
     "user": {
      "displayName": "JUAN LUIS HERENCIA GUERRA",
      "userId": "07206483212682125217"
     },
     "user_tz": 300
    },
    "id": "nbSZSaa14j4r",
    "outputId": "2ca1a33c-aabe-42eb-d0ac-72aac28f05cb"
   },
   "outputs": [
    {
     "data": {
      "text/plain": [
       "499630.9110194132"
      ]
     },
     "execution_count": 7,
     "metadata": {},
     "output_type": "execute_result"
    }
   ],
   "source": [
    "%timeit\n",
    "sum(x)  # medir la funcion sum de python"
   ]
  },
  {
   "cell_type": "code",
   "execution_count": 8,
   "metadata": {
    "colab": {
     "base_uri": "https://localhost:8080/"
    },
    "executionInfo": {
     "elapsed": 3331,
     "status": "ok",
     "timestamp": 1675274060005,
     "user": {
      "displayName": "JUAN LUIS HERENCIA GUERRA",
      "userId": "07206483212682125217"
     },
     "user_tz": 300
    },
    "id": "2Dm0Ht8x4C8K",
    "outputId": "1bb2a8ca-0ff2-4185-8c33-80367638e386"
   },
   "outputs": [
    {
     "data": {
      "text/plain": [
       "499630.9110194299"
      ]
     },
     "execution_count": 8,
     "metadata": {},
     "output_type": "execute_result"
    }
   ],
   "source": [
    "%timeit\n",
    "np.sum(x)  # usando numpy"
   ]
  },
  {
   "cell_type": "code",
   "execution_count": 9,
   "metadata": {
    "colab": {
     "base_uri": "https://localhost:8080/"
    },
    "executionInfo": {
     "elapsed": 276,
     "status": "ok",
     "timestamp": 1675274179898,
     "user": {
      "displayName": "JUAN LUIS HERENCIA GUERRA",
      "userId": "07206483212682125217"
     },
     "user_tz": 300
    },
    "id": "dXYUc8NVo9UI",
    "outputId": "c6c66819-e02c-4014-b6a4-ded73617b603"
   },
   "outputs": [
    {
     "data": {
      "text/plain": [
       "{105, 112, 119, 126, 133, 140, 147, 154, 161, 168, 175, 182, 189, 196}"
      ]
     },
     "execution_count": 9,
     "metadata": {},
     "output_type": "execute_result"
    }
   ],
   "source": [
    "# Usar comprehesiones para generar colecciones\n",
    "# {x / x es múltiplo de 7 para x > 100 y x < 200}\n",
    "{x for x in range(100, 201) if x % 7 == 0}"
   ]
  },
  {
   "cell_type": "code",
   "execution_count": 10,
   "metadata": {
    "colab": {
     "base_uri": "https://localhost:8080/"
    },
    "executionInfo": {
     "elapsed": 220,
     "status": "ok",
     "timestamp": 1675274209144,
     "user": {
      "displayName": "JUAN LUIS HERENCIA GUERRA",
      "userId": "07206483212682125217"
     },
     "user_tz": 300
    },
    "id": "fHKdAuoPqDpY",
    "outputId": "d95e3ce1-52e9-4931-bf98-84aa59a1568b"
   },
   "outputs": [
    {
     "data": {
      "text/plain": [
       "[-3.141,\n",
       " -3.14,\n",
       " -3.139,\n",
       " -3.138,\n",
       " -3.137,\n",
       " -3.136,\n",
       " -3.135,\n",
       " -3.134,\n",
       " -3.133,\n",
       " -3.132,\n",
       " -3.131,\n",
       " -3.13,\n",
       " -3.129,\n",
       " -3.128,\n",
       " -3.127,\n",
       " -3.126,\n",
       " -3.125,\n",
       " -3.124,\n",
       " -3.123,\n",
       " -3.122]"
      ]
     },
     "execution_count": 10,
     "metadata": {},
     "output_type": "execute_result"
    }
   ],
   "source": [
    "# Generar dominios\n",
    "# x pertenece a [-3.141, 3.141 >      con diferencial dx = 0.001\n",
    "x = [i/1000 for i in range(-3141, 3141)]\n",
    "x[:20]"
   ]
  },
  {
   "cell_type": "code",
   "execution_count": 11,
   "metadata": {
    "executionInfo": {
     "elapsed": 291,
     "status": "ok",
     "timestamp": 1675274227086,
     "user": {
      "displayName": "JUAN LUIS HERENCIA GUERRA",
      "userId": "07206483212682125217"
     },
     "user_tz": 300
    },
    "id": "hnW0YSBYoeY_"
   },
   "outputs": [],
   "source": [
    "# Memoria"
   ]
  },
  {
   "cell_type": "code",
   "execution_count": 12,
   "metadata": {
    "colab": {
     "base_uri": "https://localhost:8080/"
    },
    "executionInfo": {
     "elapsed": 240,
     "status": "ok",
     "timestamp": 1675274257346,
     "user": {
      "displayName": "JUAN LUIS HERENCIA GUERRA",
      "userId": "07206483212682125217"
     },
     "user_tz": 300
    },
    "id": "QIQwJgZ_oCeA",
    "outputId": "13aad1b7-58b3-420f-d022-a764bb9da4bc"
   },
   "outputs": [
    {
     "name": "stdout",
     "output_type": "stream",
     "text": [
      "La suma de los elementos es 49995000\n",
      "85176 bytes\n"
     ]
    }
   ],
   "source": [
    "my_list = [i for i in range(10000)]\n",
    "print('La suma de los elementos es', sum(my_list))\n",
    "print(sys.getsizeof(my_list), \"bytes\")"
   ]
  },
  {
   "cell_type": "code",
   "execution_count": 13,
   "metadata": {
    "colab": {
     "base_uri": "https://localhost:8080/"
    },
    "executionInfo": {
     "elapsed": 238,
     "status": "ok",
     "timestamp": 1675274288381,
     "user": {
      "displayName": "JUAN LUIS HERENCIA GUERRA",
      "userId": "07206483212682125217"
     },
     "user_tz": 300
    },
    "id": "ShLYPBxgoXhC",
    "outputId": "3e991f31-6516-4402-eb6c-0073eea3ced8"
   },
   "outputs": [
    {
     "name": "stdout",
     "output_type": "stream",
     "text": [
      "La suma de los elementos es 49995000\n",
      "104 bytes\n"
     ]
    }
   ],
   "source": [
    "# Mejor\n",
    "my_gen = (i for i in range(10000))\n",
    "print('La suma de los elementos es', sum(my_gen))\n",
    "print(sys.getsizeof(my_gen), \"bytes\")"
   ]
  },
  {
   "cell_type": "markdown",
   "metadata": {
    "id": "miTRy-viBAAy"
   },
   "source": [
    "### Gestion de errores\n",
    "Los errores No se evitan, pero se controlan o mitigan"
   ]
  },
  {
   "cell_type": "code",
   "execution_count": 14,
   "metadata": {
    "colab": {
     "base_uri": "https://localhost:8080/"
    },
    "executionInfo": {
     "elapsed": 314,
     "status": "ok",
     "timestamp": 1675274572844,
     "user": {
      "displayName": "JUAN LUIS HERENCIA GUERRA",
      "userId": "07206483212682125217"
     },
     "user_tz": 300
    },
    "id": "-NMBT6nwBBZl",
    "outputId": "501fa216-3816-46b8-8a59-443976c347be"
   },
   "outputs": [
    {
     "name": "stdout",
     "output_type": "stream",
     "text": [
      "1.6666666666666667\n",
      "Ocurrió un error desconocido\n",
      "Programa terminado correctamente\n"
     ]
    }
   ],
   "source": [
    "x = 20\n",
    "y = 12\n",
    "try:\n",
    "    print(x/y)\n",
    "    print(P)  # variable no definida\n",
    "except ZeroDivisionError:\n",
    "    print('Error:Hay division por cero')\n",
    "except:\n",
    "    print('Ocurrió un error desconocido')  # Se usa para mitigar el error\n",
    "\n",
    "print('Programa terminado correctamente')"
   ]
  }
 ],
 "metadata": {
  "colab": {
   "provenance": [
    {
     "file_id": "1um92n5gcmGQiCcldKwmF0bLeyWT3DXBZ",
     "timestamp": 1675248815589
    }
   ]
  },
  "kernelspec": {
   "display_name": "Python 3 (ipykernel)",
   "language": "python",
   "name": "python3"
  },
  "language_info": {
   "codemirror_mode": {
    "name": "ipython",
    "version": 3
   },
   "file_extension": ".py",
   "mimetype": "text/x-python",
   "name": "python",
   "nbconvert_exporter": "python",
   "pygments_lexer": "ipython3",
   "version": "3.10.9"
  }
 },
 "nbformat": 4,
 "nbformat_minor": 1
}
