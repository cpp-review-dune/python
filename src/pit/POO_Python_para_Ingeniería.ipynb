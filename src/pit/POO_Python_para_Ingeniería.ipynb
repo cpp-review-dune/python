{
 "cells": [
  {
   "cell_type": "markdown",
   "id": "41e8c595",
   "metadata": {
    "id": "41e8c595"
   },
   "source": [
    "# Python para Ingeniería\n",
    "## Programación Orientada a Objetos en Python \n",
    "Profesor: **Juan Luis Herencia Guerra** <br>\n",
    "Email: **jherenciag@uni.edu.pe**"
   ]
  },
  {
   "cell_type": "markdown",
   "id": "7ee34c72",
   "metadata": {
    "id": "7ee34c72"
   },
   "source": [
    "---\n",
    "### Conceptos\n",
    "![POO_concepts.jpg](data:image/jpeg;base64,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)\n",
    "\n",
    "**Clase :** Es una estructura de datos definida por el usuario que une los miembros de datos y los métodos en una sola unidad. La clase es un modelo o plantilla de código para la creación de objetos. Usando una clase, puede crear tantos objetos como desee.\n",
    "\n",
    "**Objeto :** Es una instancia de una clase . Es una colección de atributos (variables) y métodos. Usamos el objeto de una clase para realizar acciones.\n",
    "\n",
    "**Encapsulación :** Es la manera de envolver datos y funciones en una sola entidad. Por ejemplo, una clase encapsula todos los datos (métodos y variables). La encapsulación significa que la representación interna de un objeto generalmente se oculta desde fuera de la definición del objeto.\n",
    "\n",
    "**Polimorfismo :** Es la capacidad de un objeto para tomar muchas formas. En palabras simples, el polimorfismo nos permite realizar la misma acción de muchas maneras diferentes.\n",
    "\n",
    "**Herencia :** Es el proceso de heredar las propiedades de una clase principal en una clase secundaria. El propósito principal de la herencia es la reutilización del código, podemos usar una clase existente para crear una nueva clase en lugar de recrearla desde cero.\n",
    "\n",
    "---"
   ]
  },
  {
   "cell_type": "markdown",
   "id": "67b80c6f",
   "metadata": {
    "id": "67b80c6f"
   },
   "source": [
    "### Clase"
   ]
  },
  {
   "cell_type": "code",
   "execution_count": 1,
   "id": "TeSVbo67z0ZJ",
   "metadata": {
    "id": "TeSVbo67z0ZJ"
   },
   "outputs": [],
   "source": [
    "# Creación de la clase Tesis\n",
    "class Tesis:\n",
    "    pass"
   ]
  },
  {
   "cell_type": "markdown",
   "id": "ehH24nqi0KFd",
   "metadata": {
    "id": "ehH24nqi0KFd"
   },
   "source": [
    "### Objeto"
   ]
  },
  {
   "cell_type": "code",
   "execution_count": 2,
   "id": "5c662ef8",
   "metadata": {
    "id": "5c662ef8"
   },
   "outputs": [],
   "source": [
    "tesis_de_Ana = Tesis()"
   ]
  },
  {
   "cell_type": "code",
   "execution_count": 3,
   "id": "d1aa2373",
   "metadata": {
    "id": "d1aa2373"
   },
   "outputs": [],
   "source": [
    "tesis_de_Daniel = Tesis()"
   ]
  },
  {
   "cell_type": "code",
   "execution_count": 4,
   "id": "S4rar5rZ0fbV",
   "metadata": {
    "colab": {
     "base_uri": "https://localhost:8080/"
    },
    "id": "S4rar5rZ0fbV",
    "outputId": "70ea140e-b4fd-4f6f-c045-5857de82fe6a"
   },
   "outputs": [
    {
     "data": {
      "text/plain": [
       "<__main__.Tesis at 0x7f6081075f00>"
      ]
     },
     "execution_count": 4,
     "metadata": {},
     "output_type": "execute_result"
    }
   ],
   "source": [
    "tesis_de_Ana"
   ]
  },
  {
   "cell_type": "code",
   "execution_count": 5,
   "id": "l76QGUyj0vom",
   "metadata": {
    "colab": {
     "base_uri": "https://localhost:8080/"
    },
    "id": "l76QGUyj0vom",
    "outputId": "d76bd94d-af51-467c-f287-79b102662767"
   },
   "outputs": [
    {
     "data": {
      "text/plain": [
       "<__main__.Tesis at 0x7f6081076050>"
      ]
     },
     "execution_count": 5,
     "metadata": {},
     "output_type": "execute_result"
    }
   ],
   "source": [
    "tesis_de_Daniel"
   ]
  },
  {
   "cell_type": "markdown",
   "id": "cu520arz09T-",
   "metadata": {
    "id": "cu520arz09T-"
   },
   "source": [
    "### Encapsulación"
   ]
  },
  {
   "cell_type": "code",
   "execution_count": 6,
   "id": "HrkI5IdE06k5",
   "metadata": {
    "id": "HrkI5IdE06k5"
   },
   "outputs": [],
   "source": [
    "class Tesis:\n",
    "    # Atributos de la clase\n",
    "    nro = int()\n",
    "    autor = str()\n",
    "    tema = str()"
   ]
  },
  {
   "cell_type": "code",
   "execution_count": 7,
   "id": "ynjnawE40zUr",
   "metadata": {
    "id": "ynjnawE40zUr"
   },
   "outputs": [],
   "source": [
    "# Crear el objeto\n",
    "tesis_de_Ana = Tesis()"
   ]
  },
  {
   "cell_type": "code",
   "execution_count": 8,
   "id": "eW68vh_z1v9F",
   "metadata": {
    "id": "eW68vh_z1v9F"
   },
   "outputs": [],
   "source": [
    "# Incializar los datos del objeto\n",
    "# nombre_obj.nombre_atrib = algo\n",
    "tesis_de_Ana.nro = 1500\n",
    "tesis_de_Ana.autor = 'ANA MARIA'\n",
    "tesis_de_Ana.tema = 'ESTUDIO DE LOS HONGOS'"
   ]
  },
  {
   "cell_type": "code",
   "execution_count": 9,
   "id": "K1jkCZFG2FiI",
   "metadata": {
    "colab": {
     "base_uri": "https://localhost:8080/"
    },
    "id": "K1jkCZFG2FiI",
    "outputId": "e58dc7bb-a0d6-4da8-a99f-2f2d2bc01b89"
   },
   "outputs": [
    {
     "data": {
      "text/plain": [
       "1500"
      ]
     },
     "execution_count": 9,
     "metadata": {},
     "output_type": "execute_result"
    }
   ],
   "source": [
    "# Comprobar las asignaciones\n",
    "tesis_de_Ana.nro"
   ]
  },
  {
   "cell_type": "code",
   "execution_count": 10,
   "id": "xMDUW8_H2NXS",
   "metadata": {
    "colab": {
     "base_uri": "https://localhost:8080/",
     "height": 35
    },
    "id": "xMDUW8_H2NXS",
    "outputId": "643a3e14-3ba5-411b-cc1f-2ba2f327e567"
   },
   "outputs": [
    {
     "data": {
      "text/plain": [
       "'ESTUDIO DE LOS HONGOS'"
      ]
     },
     "execution_count": 10,
     "metadata": {},
     "output_type": "execute_result"
    }
   ],
   "source": [
    "tesis_de_Ana.tema"
   ]
  },
  {
   "cell_type": "code",
   "execution_count": 11,
   "id": "iNzKKPzM2Tr4",
   "metadata": {
    "colab": {
     "base_uri": "https://localhost:8080/",
     "height": 35
    },
    "id": "iNzKKPzM2Tr4",
    "outputId": "ef0823c1-728f-4059-e8ec-a31ebb0448e3"
   },
   "outputs": [
    {
     "data": {
      "text/plain": [
       "'ANA MARIA'"
      ]
     },
     "execution_count": 11,
     "metadata": {},
     "output_type": "execute_result"
    }
   ],
   "source": [
    "tesis_de_Ana.autor"
   ]
  },
  {
   "cell_type": "code",
   "execution_count": 12,
   "id": "b3yUG0h42dBa",
   "metadata": {
    "id": "b3yUG0h42dBa"
   },
   "outputs": [],
   "source": [
    "# Crear el objeto\n",
    "tesis_de_Daniel = Tesis()"
   ]
  },
  {
   "cell_type": "code",
   "execution_count": 13,
   "id": "X80E8kiI2ihd",
   "metadata": {
    "id": "X80E8kiI2ihd"
   },
   "outputs": [],
   "source": [
    "# Inicializar\n",
    "tesis_de_Daniel.autor = 'DANIEL ABAD'\n",
    "tesis_de_Daniel.nro = 2887\n",
    "tesis_de_Daniel.tema = 'TRANSFERENCIA DE LA ENERGIA'"
   ]
  },
  {
   "cell_type": "code",
   "execution_count": 14,
   "id": "jd90mwbf3JMc",
   "metadata": {
    "colab": {
     "base_uri": "https://localhost:8080/",
     "height": 35
    },
    "id": "jd90mwbf3JMc",
    "outputId": "3036279d-66f1-4887-e8d7-04ddf9ccba0b"
   },
   "outputs": [
    {
     "data": {
      "text/plain": [
       "'DANIEL ABAD'"
      ]
     },
     "execution_count": 14,
     "metadata": {},
     "output_type": "execute_result"
    }
   ],
   "source": [
    "tesis_de_Daniel.autor"
   ]
  },
  {
   "cell_type": "code",
   "execution_count": 15,
   "id": "pUNlloPJ3M57",
   "metadata": {
    "id": "pUNlloPJ3M57"
   },
   "outputs": [],
   "source": [
    "class Tesis:\n",
    "    # self solo se usa en la definición de la clase\n",
    "    # No se considera ninguna indicación de self durante\n",
    "    # la creación y uso del objeto\n",
    "    # Atributos de la clase\n",
    "    nro = int()\n",
    "    autor = str()\n",
    "    tema = str()\n",
    "\n",
    "    # Método mostrar de la clase Tesis\n",
    "    def mostrar(self):  # self es una referencia a la misma clase\n",
    "        print('Autor        :', self.autor)\n",
    "        print('Nro de Tesis :', self.nro)\n",
    "        print('Tema         :', self.tema)"
   ]
  },
  {
   "cell_type": "code",
   "execution_count": 16,
   "id": "_oMGqCjp4uzt",
   "metadata": {
    "colab": {
     "base_uri": "https://localhost:8080/"
    },
    "id": "_oMGqCjp4uzt",
    "outputId": "ac9776d0-456f-4307-acce-872b6d90679c"
   },
   "outputs": [
    {
     "ename": "AttributeError",
     "evalue": "'Tesis' object has no attribute 'mostrar'",
     "output_type": "error",
     "traceback": [
      "\u001b[0;31m---------------------------------------------------------------------------\u001b[0m",
      "\u001b[0;31mAttributeError\u001b[0m                            Traceback (most recent call last)",
      "Cell \u001b[0;32mIn[16], line 3\u001b[0m\n\u001b[1;32m      1\u001b[0m \u001b[38;5;66;03m# La ejecución de un método\u001b[39;00m\n\u001b[1;32m      2\u001b[0m \u001b[38;5;66;03m# nombre_objeto.nombre_metodo(val1, val2, ...)\u001b[39;00m\n\u001b[0;32m----> 3\u001b[0m \u001b[43mtesis_de_Ana\u001b[49m\u001b[38;5;241;43m.\u001b[39;49m\u001b[43mmostrar\u001b[49m()\n",
      "\u001b[0;31mAttributeError\u001b[0m: 'Tesis' object has no attribute 'mostrar'"
     ]
    }
   ],
   "source": [
    "# La ejecución de un método\n",
    "# nombre_objeto.nombre_metodo(val1, val2, ...)\n",
    "tesis_de_Ana.mostrar()"
   ]
  },
  {
   "cell_type": "code",
   "execution_count": 17,
   "id": "JAyB3JJO47_6",
   "metadata": {
    "colab": {
     "base_uri": "https://localhost:8080/"
    },
    "id": "JAyB3JJO47_6",
    "outputId": "ed59ad1e-fbe2-430f-9b24-8ca4767ad781"
   },
   "outputs": [
    {
     "ename": "AttributeError",
     "evalue": "'Tesis' object has no attribute 'mostrar'",
     "output_type": "error",
     "traceback": [
      "\u001b[0;31m---------------------------------------------------------------------------\u001b[0m",
      "\u001b[0;31mAttributeError\u001b[0m                            Traceback (most recent call last)",
      "Cell \u001b[0;32mIn[17], line 1\u001b[0m\n\u001b[0;32m----> 1\u001b[0m \u001b[43mtesis_de_Daniel\u001b[49m\u001b[38;5;241;43m.\u001b[39;49m\u001b[43mmostrar\u001b[49m()\n",
      "\u001b[0;31mAttributeError\u001b[0m: 'Tesis' object has no attribute 'mostrar'"
     ]
    }
   ],
   "source": [
    "tesis_de_Daniel.mostrar()"
   ]
  },
  {
   "cell_type": "code",
   "execution_count": 18,
   "id": "jPbSugVa4_v3",
   "metadata": {
    "id": "jPbSugVa4_v3"
   },
   "outputs": [],
   "source": [
    "class Tesis:\n",
    "    # Definición de constructor\n",
    "    # Sirve para la inicialización del objeto\n",
    "    def __init__(self):\n",
    "        nro = int()\n",
    "        autor = str()\n",
    "        tema = str()\n",
    "\n",
    "    # Método mostrar de la clase Tesis\n",
    "    def mostrar(self):  # self es una referencia a la misma clase\n",
    "        print('Autor        :', self.autor)\n",
    "        print('Nro de Tesis :', self.nro)\n",
    "        print('Tema         :', self.tema)"
   ]
  },
  {
   "cell_type": "code",
   "execution_count": 19,
   "id": "1QbTEcUF7oJh",
   "metadata": {
    "colab": {
     "base_uri": "https://localhost:8080/"
    },
    "id": "1QbTEcUF7oJh",
    "outputId": "2098f0c9-a506-47aa-baee-8d53466abefe"
   },
   "outputs": [
    {
     "name": "stdout",
     "output_type": "stream",
     "text": [
      "Autor        : ANA MARIA\n",
      "Nro de Tesis : 1500\n",
      "Tema         : ESTUDIO DE LOS HONGOS\n"
     ]
    }
   ],
   "source": [
    "tesis_de_Ana = Tesis()\n",
    "tesis_de_Ana.nro = 1500\n",
    "tesis_de_Ana.autor = 'ANA MARIA'\n",
    "tesis_de_Ana.tema = 'ESTUDIO DE LOS HONGOS'\n",
    "tesis_de_Ana.mostrar()"
   ]
  },
  {
   "cell_type": "code",
   "execution_count": 20,
   "id": "k32IbmBG7veE",
   "metadata": {
    "id": "k32IbmBG7veE"
   },
   "outputs": [],
   "source": [
    "class Tesis:\n",
    "    # Definición de constructor\n",
    "    # Sirve para la inicialización del objeto\n",
    "    def __init__(self, nro, autor, tema):\n",
    "        self.nro = nro\n",
    "        self.autor = autor\n",
    "        self.tema = tema\n",
    "\n",
    "    # Método mostrar de la clase Tesis\n",
    "    def mostrar(self):  # self es una referencia a la misma clase\n",
    "        print('Autor        :', self.autor)\n",
    "        print('Nro de Tesis :', self.nro)\n",
    "        print('Tema         :', self.tema)"
   ]
  },
  {
   "cell_type": "code",
   "execution_count": 21,
   "id": "7hlFwYew8Mtg",
   "metadata": {
    "colab": {
     "base_uri": "https://localhost:8080/"
    },
    "id": "7hlFwYew8Mtg",
    "outputId": "a6b2d94e-3bf2-424e-e3f0-28cd9fcb5f5c"
   },
   "outputs": [
    {
     "name": "stdout",
     "output_type": "stream",
     "text": [
      "Autor        : ANA MARIA FLORES\n",
      "Nro de Tesis : 1500\n",
      "Tema         : ESTUDIO DE LOS HONGOS\n"
     ]
    }
   ],
   "source": [
    "# Crear el objeto inicializado con valores\n",
    "tesis_de_Ana = Tesis(1500, 'ANA MARIA FLORES', 'ESTUDIO DE LOS HONGOS')\n",
    "tesis_de_Ana.mostrar()"
   ]
  },
  {
   "cell_type": "code",
   "execution_count": 22,
   "id": "D_YAK20M8Fb7",
   "metadata": {
    "colab": {
     "base_uri": "https://localhost:8080/"
    },
    "id": "D_YAK20M8Fb7",
    "outputId": "87782b0d-612b-4c2d-9ed0-928b27be1b22"
   },
   "outputs": [
    {
     "name": "stdout",
     "output_type": "stream",
     "text": [
      "Autor        : CARLOS MEZA LAZO\n",
      "Nro de Tesis : 2563\n",
      "Tema         : ENERGIA ELECTROMAGNETICA\n"
     ]
    }
   ],
   "source": [
    "tesis_201700100A = Tesis(2563, 'CARLOS MEZA LAZO', 'ENERGIA ELECTROMAGNETICA')\n",
    "tesis_201700100A.mostrar()"
   ]
  },
  {
   "cell_type": "code",
   "execution_count": 23,
   "id": "dsLUzupl8nwP",
   "metadata": {
    "colab": {
     "base_uri": "https://localhost:8080/"
    },
    "id": "dsLUzupl8nwP",
    "outputId": "19a81ba6-ebe4-4802-8c93-e961c9dcc4a4"
   },
   "outputs": [
    {
     "name": "stdout",
     "output_type": "stream",
     "text": [
      "Autor        : ANA MARIA FLORES\n",
      "Nro de Tesis : 1500\n",
      "Tema         : ESTUDIO DE LOS HONGOS\n",
      "--------------------------------------------------\n",
      "Autor        : CARLOS MEZA LAZO\n",
      "Nro de Tesis : 2563\n",
      "Tema         : ENERGIA ELECTROMAGNETICA\n",
      "--------------------------------------------------\n"
     ]
    }
   ],
   "source": [
    "LT = [tesis_de_Ana, tesis_201700100A]\n",
    "for t in LT:\n",
    "    t.mostrar()\n",
    "    print(50*'-')"
   ]
  },
  {
   "cell_type": "markdown",
   "id": "pWTwCjoq_60h",
   "metadata": {
    "id": "pWTwCjoq_60h"
   },
   "source": [
    "### Polimorfismo"
   ]
  },
  {
   "cell_type": "code",
   "execution_count": 24,
   "id": "ElWaaSCb8Ugc",
   "metadata": {
    "id": "ElWaaSCb8Ugc"
   },
   "outputs": [],
   "source": [
    "class Banco:\n",
    "    def __init__(self, nombre, tasa_interes, valor_ahorro):\n",
    "        self.nombre = nombre\n",
    "        self.tasa_interes = tasa_interes\n",
    "        self.valor_ahorro = valor_ahorro\n",
    "\n",
    "    def interes_recibido(self):\n",
    "        return self.tasa_interes * self.valor_ahorro\n",
    "\n",
    "\n",
    "class Cooperativa:\n",
    "    def __init__(self, nombre, tasa_interes, valor_ahorro):\n",
    "        self.nombre = nombre\n",
    "        self.tasa_interes = tasa_interes\n",
    "        self.valor_ahorro = valor_ahorro\n",
    "\n",
    "    def interes_recibido(self):\n",
    "        return self.tasa_interes * self.valor_ahorro"
   ]
  },
  {
   "cell_type": "code",
   "execution_count": 25,
   "id": "jZ6pOfa2CwIh",
   "metadata": {
    "id": "jZ6pOfa2CwIh"
   },
   "outputs": [],
   "source": [
    "# Crea los objetos BCP y CoopCusco\n",
    "BCP = Banco('Banco de Crédito', 0.05, 1000)\n",
    "CoopCusco = Cooperativa('Cooperativa Cusco', 0.12, 1000)"
   ]
  },
  {
   "cell_type": "code",
   "execution_count": 26,
   "id": "Gh2-QrRq_hpQ",
   "metadata": {
    "id": "Gh2-QrRq_hpQ"
   },
   "outputs": [],
   "source": [
    "# función polimórfica\n",
    "def ganancia(entidad_financiera):\n",
    "    print(entidad_financiera.nombre, 'por ahorrar', entidad_financiera.valor_ahorro,\n",
    "          'la ganancia es', entidad_financiera.interes_recibido())"
   ]
  },
  {
   "cell_type": "code",
   "execution_count": 27,
   "id": "z-kAIVyBDbcx",
   "metadata": {
    "colab": {
     "base_uri": "https://localhost:8080/"
    },
    "id": "z-kAIVyBDbcx",
    "outputId": "4af4e32d-6f68-4784-f27d-2284fd91a408"
   },
   "outputs": [
    {
     "name": "stdout",
     "output_type": "stream",
     "text": [
      "Banco de Crédito por ahorrar 1000 la ganancia es 50.0\n"
     ]
    }
   ],
   "source": [
    "ganancia(BCP)"
   ]
  },
  {
   "cell_type": "code",
   "execution_count": 28,
   "id": "pUvLisI6Den7",
   "metadata": {
    "colab": {
     "base_uri": "https://localhost:8080/"
    },
    "id": "pUvLisI6Den7",
    "outputId": "cde27fe1-7bff-4a47-9482-c29cc792b12b"
   },
   "outputs": [
    {
     "name": "stdout",
     "output_type": "stream",
     "text": [
      "Cooperativa Cusco por ahorrar 1000 la ganancia es 120.0\n"
     ]
    }
   ],
   "source": [
    "ganancia(CoopCusco)"
   ]
  },
  {
   "cell_type": "markdown",
   "id": "BKBD0lmQEHr7",
   "metadata": {
    "id": "BKBD0lmQEHr7"
   },
   "source": [
    "### Herencia"
   ]
  },
  {
   "cell_type": "code",
   "execution_count": 29,
   "id": "E5mRkh45D87k",
   "metadata": {
    "id": "E5mRkh45D87k"
   },
   "outputs": [],
   "source": [
    "# Clase padre\n",
    "class Persona:\n",
    "    def __init__(self, DNI, nombres):\n",
    "        self.DNI = DNI\n",
    "        self.nombres = nombres\n",
    "\n",
    "    def mostrar(self):\n",
    "        print('----- Persona -------')\n",
    "        print('D.N.I.       :', self.DNI)\n",
    "        print('Nombres      :', self.nombres)"
   ]
  },
  {
   "cell_type": "code",
   "execution_count": 30,
   "id": "ea_ZN-10FNJ3",
   "metadata": {
    "colab": {
     "base_uri": "https://localhost:8080/"
    },
    "id": "ea_ZN-10FNJ3",
    "outputId": "67cf0318-896b-487f-ae7e-d82fcd56b399"
   },
   "outputs": [
    {
     "name": "stdout",
     "output_type": "stream",
     "text": [
      "----- Persona -------\n",
      "D.N.I.       : 12345678\n",
      "Nombres      : ANA MARIA\n"
     ]
    }
   ],
   "source": [
    "p1 = Persona(12345678, 'ANA MARIA')\n",
    "p1.mostrar()"
   ]
  },
  {
   "cell_type": "code",
   "execution_count": 31,
   "id": "jG3q-djWFVCP",
   "metadata": {
    "id": "jG3q-djWFVCP"
   },
   "outputs": [],
   "source": [
    "# Clase hija\n",
    "class Alumno(Persona):  # Alumno proviene de Persona\n",
    "    def __init__(self, DNI, nombres, universidad, especialidad):\n",
    "        super().__init__(DNI, nombres)\n",
    "        self.universidad = universidad\n",
    "        self.especialidad = especialidad\n",
    "\n",
    "    def mostrar(self):\n",
    "        super().mostrar()\n",
    "        print('----- Alumno -------')\n",
    "        print('Universidad  :', self.universidad)\n",
    "        print('Especialidad :', self.especialidad)"
   ]
  },
  {
   "cell_type": "code",
   "execution_count": 32,
   "id": "JCMS4VcUGUHS",
   "metadata": {
    "colab": {
     "base_uri": "https://localhost:8080/"
    },
    "id": "JCMS4VcUGUHS",
    "outputId": "449150ba-a04e-4eb6-dd6c-7f16d2fd4eac"
   },
   "outputs": [
    {
     "name": "stdout",
     "output_type": "stream",
     "text": [
      "----- Persona -------\n",
      "D.N.I.       : 12345678\n",
      "Nombres      : ANA MARIA\n",
      "----- Alumno -------\n",
      "Universidad  : U.N.I.\n",
      "Especialidad : INGENIERIA QUIMICA\n"
     ]
    }
   ],
   "source": [
    "a1 = Alumno(12345678, 'ANA MARIA', 'U.N.I.', 'INGENIERIA QUIMICA')\n",
    "a1.mostrar()"
   ]
  }
 ],
 "metadata": {
  "colab": {
   "provenance": []
  },
  "kernelspec": {
   "display_name": "Python 3 (ipykernel)",
   "language": "python",
   "name": "python3"
  },
  "language_info": {
   "codemirror_mode": {
    "name": "ipython",
    "version": 3
   },
   "file_extension": ".py",
   "mimetype": "text/x-python",
   "name": "python",
   "nbconvert_exporter": "python",
   "pygments_lexer": "ipython3",
   "version": "3.10.9"
  }
 },
 "nbformat": 4,
 "nbformat_minor": 5
}
