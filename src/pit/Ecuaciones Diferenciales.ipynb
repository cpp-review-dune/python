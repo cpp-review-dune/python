{
 "nbformat": 4,
 "nbformat_minor": 0,
 "metadata": {
  "colab": {
   "provenance": [
    {
     "file_id": "1SdsGgTMTaF5HmwqTXMI6AE_HHhh0wUaw",
     "timestamp": 1676044814790
    }
   ],
   "authorship_tag": "ABX9TyO2QRssUbCNcqhGIJjI4Jdp"
  },
  "kernelspec": {
   "name": "python3",
   "display_name": "Python 3"
  },
  "language_info": {
   "name": "python"
  }
 },
 "cells": [
  {
   "cell_type": "markdown",
   "source": [
    "# Python para Ingeniería\n",
    "## Ecuaciones Diferenciales\n",
    "### Profesor: Juan Luis Herencia Guerra\n",
    "### Email   : jherenciag@uni.edu.pe"
   ],
   "metadata": {
    "id": "hHOSpCNElOkC"
   }
  },
  {
   "cell_type": "markdown",
   "source": [
    "### Ecuación Diferencial\n",
    "\n",
    "Una Ecuación diferencial es una ecuación que involucra una variable dependiente y sus derivadas con respecto a una o más variables independientes. Muchas de las leyes de la naturaleza se encuentran expresadas de la forma más natural; en el lenguaje de las Ecuaciones diferenciales. \n",
    "\n",
    "Es fácil entender la razón detrás de esta amplia utilidad de las Ecuaciones diferenciales. Si recordamos que $y=f(x)$ es una función, entonces su derivada $dy/dx$ puede ser interpretada como el ritmo de cambio de $y$ con respecto a $x$. Cuando esta relación es expresada matemáticamente, el resultado generalmente es una Ecuación diferencial.\n",
    "\n",
    "Ejemplo\n",
    "\n",
    "$F=ma$\n",
    "\n",
    "Donde $m$ es la masa del cuerpo y g es la aceleración debido a la gravedad. Si consideramos a u como la posición del objeto desde una altura determinada; entonces la velocidad de caída del objeto es $v=du/dt$, o sea, la derivada de la posición del objeto con respecto al tiempo; y como la aceleración de la gravedad es el cambio de la velocidad respecto al tiempo, $g=d^2u/dt^2$. Reescribiendo la segunda ley de Newton como la siguiente Ecuación diferencial.\n",
    "\n",
    "$F=m(d^2u/dt^2)$\n",
    "\n",
    "2da ley de la dinámica de Newton en función de la posición del objeto."
   ],
   "metadata": {
    "id": "gg9fRDFJlpMR"
   }
  },
  {
   "cell_type": "markdown",
   "source": [
    "### Ecuaciones Diferenciales Ordinarias\n",
    "\n",
    "$$F(x,y,y',...,y^{(n-1)})=y^{(n)}$$\n",
    "where $y^{(n)}$ is the n-th derivative.\n",
    "- La orden de una EDO es el valor mas alto de la derivada\n",
    "- Los sistemas mecánicos son generalmente de 2do orden\n",
    "- La 2da Ley de Newton $\\mathbf{F=ma=m\\ddot{x}}$\n",
    "\n",
    "### Espacio de estado para sistemas de segundo orden\n",
    "Definir ecuación vectorial\n",
    "\n",
    "$$x = \\begin{pmatrix} x_1\\\\x_2\\end{pmatrix}=\\begin{pmatrix}\\chi\\\\\\dot{\\chi}\\end{pmatrix}\\Longrightarrow \\dot{x}=\\begin{pmatrix}x_2\\\\\\frac{F}{m}\\end{pmatrix}$$"
   ],
   "metadata": {
    "id": "_6GZ0HeAotPp"
   }
  },
  {
   "cell_type": "markdown",
   "source": [
    "### Integración numérica de una EDO\n",
    "- Considere $\\dot{x}=\\alpha$\n",
    "- Se puede usar pasos de tiempo, $dt$\n",
    "- Ponemos $x(t_{k+1})=x(t_k)+\\alpha dt$\n",
    "- Si $\\alpha(t)$ is es fijo, los resultados serán inexactos\n",
    "- EDO estima cómo está cambiando el lado derecho y elige el mejor intervalo de tiempo $dt$.\n",
    "- Solo funciona cuando el lado derecho es continuo"
   ],
   "metadata": {
    "id": "W3498CEtqtZa"
   }
  },
  {
   "cell_type": "markdown",
   "source": [
    "#### Resolver ODE con un solo componente de solución\n",
    "$$dy/dt=2t$$\n",
    "\n",
    "Se puede comprobar que su solución es:\n",
    "$$y = t^2 + C$$"
   ],
   "metadata": {
    "id": "Ys73NnNur-jB"
   }
  },
  {
   "cell_type": "code",
   "execution_count": 1,
   "metadata": {
    "id": "dm1o6DdulLZz",
    "executionInfo": {
     "status": "ok",
     "timestamp": 1676046467875,
     "user_tz": 300,
     "elapsed": 4,
     "user": {
      "displayName": "JUAN LUIS HERENCIA GUERRA",
      "userId": "07206483212682125217"
     }
    }
   },
   "outputs": [],
   "source": [
    "from scipy.integrate import odeint\n",
    "import numpy as np\n",
    "import matplotlib.pyplot as plt\n",
    "import math"
   ]
  },
  {
   "cell_type": "code",
   "source": [
    "# función de la ec. diferencia\n",
    "def f1(t, y):\n",
    "    return 2*t  # y' = 2t\n",
    "    # return y - t**2 + 1  # y' = y - t^2 + 1"
   ],
   "metadata": {
    "id": "XFPR3CJao2kz",
    "executionInfo": {
     "status": "ok",
     "timestamp": 1676046994139,
     "user_tz": 300,
     "elapsed": 230,
     "user": {
      "displayName": "JUAN LUIS HERENCIA GUERRA",
      "userId": "07206483212682125217"
     }
    }
   },
   "execution_count": 5,
   "outputs": []
  },
  {
   "cell_type": "code",
   "source": [
    "'''\n",
    "  a es la cota mínima\n",
    "  b es la cota máxima\n",
    "  y0  es condicion inicial\n",
    "  f es la funcion\n",
    "  N es la cantidad de pasos\n",
    "'''\n",
    "\n",
    "\n",
    "def Euler(a, b, y0, f, N):\n",
    "    h = (b - a) / N\n",
    "    w = y0\n",
    "    t = a\n",
    "    # print('t0 =', round(t,5), 'w0 =', round(w,5))\n",
    "    Y, T = [], []\n",
    "    for i in range(1, N+1):  # de 1 a N\n",
    "        w = w + h*f(t, w)\n",
    "        Y += [w]\n",
    "        t = a + i*h\n",
    "        T += [t]\n",
    "        # print('t0 =', round(t,5), 'w0 =', round(w,5))\n",
    "    return T, Y"
   ],
   "metadata": {
    "id": "BE2Bru_MKGJN",
    "executionInfo": {
     "status": "ok",
     "timestamp": 1676047367214,
     "user_tz": 300,
     "elapsed": 266,
     "user": {
      "displayName": "JUAN LUIS HERENCIA GUERRA",
      "userId": "07206483212682125217"
     }
    }
   },
   "execution_count": 12,
   "outputs": []
  },
  {
   "cell_type": "code",
   "source": [
    "# cotas desde 0 a 5, y0 = 0, usar funcion f1, 10 ptos\n",
    "tr, yr = Euler(0, 5, 0, f1, 1000)"
   ],
   "metadata": {
    "id": "2LAmHcJ7z1cC",
    "executionInfo": {
     "status": "ok",
     "timestamp": 1676047396329,
     "user_tz": 300,
     "elapsed": 249,
     "user": {
      "displayName": "JUAN LUIS HERENCIA GUERRA",
      "userId": "07206483212682125217"
     }
    }
   },
   "execution_count": 13,
   "outputs": []
  },
  {
   "cell_type": "code",
   "source": [
    "tr[399]"
   ],
   "metadata": {
    "colab": {
     "base_uri": "https://localhost:8080/"
    },
    "id": "ZJyW5NKtNdZV",
    "executionInfo": {
     "status": "ok",
     "timestamp": 1676047486569,
     "user_tz": 300,
     "elapsed": 4,
     "user": {
      "displayName": "JUAN LUIS HERENCIA GUERRA",
      "userId": "07206483212682125217"
     }
    },
    "outputId": "5854518d-0866-4e43-a8b4-b81a84adab0f"
   },
   "execution_count": 17,
   "outputs": [
    {
     "output_type": "execute_result",
     "data": {
      "text/plain": [
       "2.0"
      ]
     },
     "metadata": {},
     "execution_count": 17
    }
   ]
  },
  {
   "cell_type": "code",
   "source": [
    "yr[399]"
   ],
   "metadata": {
    "colab": {
     "base_uri": "https://localhost:8080/"
    },
    "id": "Ei7W7jDUNyC9",
    "executionInfo": {
     "status": "ok",
     "timestamp": 1676047498537,
     "user_tz": 300,
     "elapsed": 3,
     "user": {
      "displayName": "JUAN LUIS HERENCIA GUERRA",
      "userId": "07206483212682125217"
     }
    },
    "outputId": "f7e62211-1c75-4b04-f34b-fcaf0d013a4a"
   },
   "execution_count": 18,
   "outputs": [
    {
     "output_type": "execute_result",
     "data": {
      "text/plain": [
       "3.99"
      ]
     },
     "metadata": {},
     "execution_count": 18
    }
   ]
  },
  {
   "cell_type": "code",
   "source": [
    "# Grafico\n",
    "plt.plot(tr, yr)"
   ],
   "metadata": {
    "colab": {
     "base_uri": "https://localhost:8080/",
     "height": 283
    },
    "id": "07xwlKspN3DV",
    "executionInfo": {
     "status": "ok",
     "timestamp": 1676047551321,
     "user_tz": 300,
     "elapsed": 420,
     "user": {
      "displayName": "JUAN LUIS HERENCIA GUERRA",
      "userId": "07206483212682125217"
     }
    },
    "outputId": "393a0021-4f64-4c53-c1c8-472d19926766"
   },
   "execution_count": 20,
   "outputs": [
    {
     "output_type": "execute_result",
     "data": {
      "text/plain": [
       "[<matplotlib.lines.Line2D at 0x7f29ec9660a0>]"
      ]
     },
     "metadata": {},
     "execution_count": 20
    },
    {
     "output_type": "display_data",
     "data": {
      "text/plain": [
       "<Figure size 432x288 with 1 Axes>"
      ],
      "image/png": "[encoded data removed]"
     },
     "metadata": {
      "needs_background": "light"
     }
    }
   ]
  },
  {
   "cell_type": "code",
   "source": [
    "# cotas desde 0 a 5, y0 = 10, usar funcion f1, 1000 ptos\n",
    "tr, yr = Euler(0, 5, 10, f1, 1000)  # solucion y = t^2 + 10\n",
    "plt.plot(tr, yr)"
   ],
   "metadata": {
    "colab": {
     "base_uri": "https://localhost:8080/",
     "height": 283
    },
    "id": "z0EUgQPBOIAm",
    "executionInfo": {
     "status": "ok",
     "timestamp": 1676047756769,
     "user_tz": 300,
     "elapsed": 1133,
     "user": {
      "displayName": "JUAN LUIS HERENCIA GUERRA",
      "userId": "07206483212682125217"
     }
    },
    "outputId": "dbc246ce-faa2-4a3e-e312-d9708017abec"
   },
   "execution_count": 22,
   "outputs": [
    {
     "output_type": "execute_result",
     "data": {
      "text/plain": [
       "[<matplotlib.lines.Line2D at 0x7f29ec404940>]"
      ]
     },
     "metadata": {},
     "execution_count": 22
    },
    {
     "output_type": "display_data",
     "data": {
      "text/plain": [
       "<Figure size 432x288 with 1 Axes>"
      ],
      "image/png": "[encoded data removed]"
     },
     "metadata": {
      "needs_background": "light"
     }
    }
   ]
  },
  {
   "cell_type": "code",
   "source": [
    "# Funcion de Runge Kutta4\n",
    "'''\n",
    "  a es la cota mínima\n",
    "  b es la cota máxima\n",
    "  y0  es condicion inicial\n",
    "  f es la funcion\n",
    "  N es la cantidad de pasos\n",
    "'''\n",
    "\n",
    "\n",
    "def RK4(a, b, y0, f, N):\n",
    "    h = (b - a) / N\n",
    "    t = a\n",
    "    w = y0\n",
    "    # print('t0 =', round(t,5), 'w0 =', round(w,5))\n",
    "    Y, T = [], []\n",
    "    for i in range(1, N+1):  # de 1 a N\n",
    "        k1 = h*f(t, w)\n",
    "        k2 = h*f(t + h/2, w + k1/2)\n",
    "        k3 = h*f(t + h/2, w + k2/2)\n",
    "        k4 = h*f(t + h, w + k3)\n",
    "        w = w + (k1 + 2*k2 + 2*k3 + k4) / 6\n",
    "        Y += [w]\n",
    "        t = a + i*h\n",
    "        T += [t]\n",
    "        # print('t0 =', round(t,5), 'w0 =', round(w,5))\n",
    "    return T, Y"
   ],
   "metadata": {
    "id": "DuUc_NjnP-mG",
    "executionInfo": {
     "status": "ok",
     "timestamp": 1676049247584,
     "user_tz": 300,
     "elapsed": 319,
     "user": {
      "displayName": "JUAN LUIS HERENCIA GUERRA",
      "userId": "07206483212682125217"
     }
    }
   },
   "execution_count": 31,
   "outputs": []
  },
  {
   "cell_type": "code",
   "source": [
    "# cotas desde 0 a 5, y0 = 0, usar funcion f1, 10 ptos\n",
    "RK4(0, 5, 0, f1, 10)  # solucion y = t^2"
   ],
   "metadata": {
    "colab": {
     "base_uri": "https://localhost:8080/"
    },
    "id": "WiD__P48Rg9l",
    "executionInfo": {
     "status": "ok",
     "timestamp": 1676048690287,
     "user_tz": 300,
     "elapsed": 284,
     "user": {
      "displayName": "JUAN LUIS HERENCIA GUERRA",
      "userId": "07206483212682125217"
     }
    },
    "outputId": "61c3e97d-da63-4c30-d6b1-d9ecbe8f0163"
   },
   "execution_count": 28,
   "outputs": [
    {
     "output_type": "stream",
     "name": "stdout",
     "text": [
      "t0 = 0 w0 = 0\n",
      "t0 = 0.5 w0 = 0.25\n",
      "t0 = 1.0 w0 = 1.0\n",
      "t0 = 1.5 w0 = 2.25\n",
      "t0 = 2.0 w0 = 4.0\n",
      "t0 = 2.5 w0 = 6.25\n",
      "t0 = 3.0 w0 = 9.0\n",
      "t0 = 3.5 w0 = 12.25\n",
      "t0 = 4.0 w0 = 16.0\n",
      "t0 = 4.5 w0 = 20.25\n",
      "t0 = 5.0 w0 = 25.0\n"
     ]
    },
    {
     "output_type": "execute_result",
     "data": {
      "text/plain": [
       "([0.5, 1.0, 1.5, 2.0, 2.5, 3.0, 3.5, 4.0, 4.5, 5.0],\n",
       " [0.25, 1.0, 2.25, 4.0, 6.25, 9.0, 12.25, 16.0, 20.25, 25.0])"
      ]
     },
     "metadata": {},
     "execution_count": 28
    }
   ]
  },
  {
   "cell_type": "code",
   "source": [
    "tr, yr = RK4(0, 5, 0, f1, 10)  # solucion y = t^2\n",
    "plt.plot(tr, yr)"
   ],
   "metadata": {
    "colab": {
     "base_uri": "https://localhost:8080/",
     "height": 479
    },
    "id": "5vBfoE2XTSeV",
    "executionInfo": {
     "status": "ok",
     "timestamp": 1676048967161,
     "user_tz": 300,
     "elapsed": 549,
     "user": {
      "displayName": "JUAN LUIS HERENCIA GUERRA",
      "userId": "07206483212682125217"
     }
    },
    "outputId": "b21254cf-3c98-46ec-e860-abdbddc23013"
   },
   "execution_count": 29,
   "outputs": [
    {
     "output_type": "stream",
     "name": "stdout",
     "text": [
      "t0 = 0 w0 = 0\n",
      "t0 = 0.5 w0 = 0.25\n",
      "t0 = 1.0 w0 = 1.0\n",
      "t0 = 1.5 w0 = 2.25\n",
      "t0 = 2.0 w0 = 4.0\n",
      "t0 = 2.5 w0 = 6.25\n",
      "t0 = 3.0 w0 = 9.0\n",
      "t0 = 3.5 w0 = 12.25\n",
      "t0 = 4.0 w0 = 16.0\n",
      "t0 = 4.5 w0 = 20.25\n",
      "t0 = 5.0 w0 = 25.0\n"
     ]
    },
    {
     "output_type": "execute_result",
     "data": {
      "text/plain": [
       "[<matplotlib.lines.Line2D at 0x7f29ec3cea90>]"
      ]
     },
     "metadata": {},
     "execution_count": 29
    },
    {
     "output_type": "display_data",
     "data": {
      "text/plain": [
       "<Figure size 432x288 with 1 Axes>"
      ],
      "image/png": "[encoded data removed]"
     },
     "metadata": {
      "needs_background": "light"
     }
    }
   ]
  },
  {
   "cell_type": "markdown",
   "source": [
    "Resolver\n",
    "\n",
    "$y' = y - t^2 + 1$"
   ],
   "metadata": {
    "id": "fIGJ4OEWT07G"
   }
  },
  {
   "cell_type": "code",
   "source": [
    "# función de la ec. diferencia\n",
    "# Esta funcion delvuelve la derivada\n",
    "def f1(t, y):\n",
    "    return y - t**2 + 1  # y' = y - t^2 + 1"
   ],
   "metadata": {
    "id": "Ow1j6lcCTwcX",
    "executionInfo": {
     "status": "ok",
     "timestamp": 1676049643053,
     "user_tz": 300,
     "elapsed": 316,
     "user": {
      "displayName": "JUAN LUIS HERENCIA GUERRA",
      "userId": "07206483212682125217"
     }
    }
   },
   "execution_count": 43,
   "outputs": []
  },
  {
   "cell_type": "code",
   "source": [
    "#\n",
    "tr, yr = RK4(0, 9, 1, f1, 100)\n",
    "plt.plot(tr, yr)"
   ],
   "metadata": {
    "colab": {
     "base_uri": "https://localhost:8080/",
     "height": 283
    },
    "id": "PRJa_J6PUIs2",
    "executionInfo": {
     "status": "ok",
     "timestamp": 1676049649018,
     "user_tz": 300,
     "elapsed": 322,
     "user": {
      "displayName": "JUAN LUIS HERENCIA GUERRA",
      "userId": "07206483212682125217"
     }
    },
    "outputId": "8a4c6e1d-fb3b-42c5-8ba0-96d3e52006c6"
   },
   "execution_count": 44,
   "outputs": [
    {
     "output_type": "execute_result",
     "data": {
      "text/plain": [
       "[<matplotlib.lines.Line2D at 0x7f29ec0ed5b0>]"
      ]
     },
     "metadata": {},
     "execution_count": 44
    },
    {
     "output_type": "display_data",
     "data": {
      "text/plain": [
       "<Figure size 432x288 with 1 Axes>"
      ],
      "image/png": "[encoded data removed]"
     },
     "metadata": {
      "needs_background": "light"
     }
    }
   ]
  },
  {
   "cell_type": "markdown",
   "source": [
    "### Mas ejemplos\n",
    "\n",
    "Hallar la solución para $dy(t)/dt = -k.y(t)$\n",
    "\n",
    "Para $k = 0.3$ e $y0 = 5$"
   ],
   "metadata": {
    "id": "AsRTEdEs9Xbk"
   }
  },
  {
   "cell_type": "code",
   "source": [
    "# función que retorna dy/dt\n",
    "def model(y, t):\n",
    "    k = 0.3\n",
    "    dydt = -k * y\n",
    "    return dydt\n",
    "\n",
    "\n",
    "# Condicion inicial\n",
    "y0 = 5\n",
    "\n",
    "# dominio de puntos de t\n",
    "t = np.linspace(0, 20)\n",
    "\n",
    "# Resolver la EDO\n",
    "# args para odeint: funcion(y(t), t), condicion inicial, ptos del dominio del tiempo\n",
    "y = odeint(model, y0, t)\n",
    "\n",
    "# Mostrar el gráfico\n",
    "plt.plot(t, y)\n",
    "plt.xlabel('tiempo')\n",
    "plt.ylabel('y(t)')\n",
    "plt.grid(True)\n",
    "plt.show()"
   ],
   "metadata": {
    "id": "-X2X6uU-7LYk",
    "colab": {
     "base_uri": "https://localhost:8080/",
     "height": 279
    },
    "executionInfo": {
     "status": "ok",
     "timestamp": 1676050132445,
     "user_tz": 300,
     "elapsed": 768,
     "user": {
      "displayName": "JUAN LUIS HERENCIA GUERRA",
      "userId": "07206483212682125217"
     }
    },
    "outputId": "d9f21eed-328e-437b-e9ab-ecc536cf3a52"
   },
   "execution_count": 47,
   "outputs": [
    {
     "output_type": "display_data",
     "data": {
      "text/plain": [
       "<Figure size 432x288 with 1 Axes>"
      ],
      "image/png": "[encoded data removed]"
     },
     "metadata": {
      "needs_background": "light"
     }
    }
   ]
  },
  {
   "cell_type": "code",
   "source": [
    "# Si tuviesemos que comparar graficos\n",
    "# Por ejemplo para k igual 0.1, 0.2 y 0.3\n",
    "# función que retorna dy/dt\n",
    "def model(y, t, k):\n",
    "    dydt = -k * y\n",
    "    return dydt\n",
    "\n",
    "\n",
    "# condicion inicial\n",
    "y0 = 5\n",
    "\n",
    "# dominio de puntos\n",
    "t = np.linspace(0, 20)\n",
    "\n",
    "# Resolver las EDO's\n",
    "k = 0.1\n",
    "y1 = odeint(model, y0, t, args=(k,))\n",
    "k = 0.2\n",
    "y2 = odeint(model, y0, t, args=(k,))\n",
    "k = 0.5\n",
    "y3 = odeint(model, y0, t, args=(k,))\n",
    "\n",
    "# Mostrar los gráficos\n",
    "plt.plot(t, y1, 'r-', linewidth=2, label='k=0.1')\n",
    "plt.plot(t, y2, 'b--', linewidth=2, label='k=0.2')\n",
    "plt.plot(t, y3, 'g:', linewidth=2, label='k=0.5')\n",
    "plt.xlabel('tiempo')\n",
    "plt.ylabel('y(t)')\n",
    "plt.legend()\n",
    "plt.show()"
   ],
   "metadata": {
    "id": "W11VLUip-KBc",
    "colab": {
     "base_uri": "https://localhost:8080/",
     "height": 279
    },
    "executionInfo": {
     "status": "ok",
     "timestamp": 1676050452956,
     "user_tz": 300,
     "elapsed": 345,
     "user": {
      "displayName": "JUAN LUIS HERENCIA GUERRA",
      "userId": "07206483212682125217"
     }
    },
    "outputId": "80575d8a-a5e8-4299-8b13-ccfd59769dbe"
   },
   "execution_count": 48,
   "outputs": [
    {
     "output_type": "display_data",
     "data": {
      "text/plain": [
       "<Figure size 432x288 with 1 Axes>"
      ],
      "image/png": "[encoded data removed]"
     },
     "metadata": {
      "needs_background": "light"
     }
    }
   ]
  },
  {
   "cell_type": "markdown",
   "source": [
    "Resolver\n",
    "\n",
    "$dy(t)/dt = -y(t) + 1$\n",
    "\n",
    "Para $y(0) = 0$"
   ],
   "metadata": {
    "id": "PtNFesEw-yv8"
   }
  },
  {
   "cell_type": "code",
   "source": [
    "def model(y, t):\n",
    "    dydt = -y + 1.0\n",
    "    return dydt\n",
    "\n",
    "\n",
    "y0 = 0\n",
    "\n",
    "t = np.linspace(0, 5)\n",
    "\n",
    "y = odeint(model, y0, t)\n",
    "\n",
    "plt.plot(t, y)\n",
    "plt.xlabel('tiempo')\n",
    "plt.ylabel('y(t)')\n",
    "plt.show()"
   ],
   "metadata": {
    "id": "DkB7WfRE--jn",
    "colab": {
     "base_uri": "https://localhost:8080/",
     "height": 279
    },
    "executionInfo": {
     "status": "ok",
     "timestamp": 1676050760878,
     "user_tz": 300,
     "elapsed": 335,
     "user": {
      "displayName": "JUAN LUIS HERENCIA GUERRA",
      "userId": "07206483212682125217"
     }
    },
    "outputId": "b8392be3-d3c9-4a7b-b0ef-00fa97f40eb7"
   },
   "execution_count": 49,
   "outputs": [
    {
     "output_type": "display_data",
     "data": {
      "text/plain": [
       "<Figure size 432x288 with 1 Axes>"
      ],
      "image/png": "[encoded data removed]"
     },
     "metadata": {
      "needs_background": "light"
     }
    }
   ]
  },
  {
   "cell_type": "markdown",
   "source": [
    "Resolver\n",
    "\n",
    "$5dy(t)/dt = -y(t) + u(t)$\n",
    "\n",
    "Para $y(0) = 1$\n",
    "\n",
    "$u$ pasos de 0 a 2 en $t = 10$"
   ],
   "metadata": {
    "id": "S4hL1VdF_Le9"
   }
  },
  {
   "cell_type": "code",
   "source": [
    "def model(y, t):\n",
    "    # u steps from 0 to 2 at t=10\n",
    "    if t < 10.0:\n",
    "        u = 0\n",
    "    else:\n",
    "        u = 2\n",
    "    dydt = (-y + u)/5.0\n",
    "    return dydt\n",
    "\n",
    "\n",
    "y0 = 1\n",
    "\n",
    "t = np.linspace(0, 40, 1000)\n",
    "\n",
    "y = odeint(model, y0, t)\n",
    "\n",
    "plt.plot(t, y, 'r-', label='Salida de (y(t))')\n",
    "plt.plot([0, 10, 10, 40], [0, 0, 2, 2], 'b-', label='Entrada (u(t))')\n",
    "plt.ylabel('valores')\n",
    "plt.xlabel('tiempo')\n",
    "plt.legend(loc='best')  # que se acomode mejor\n",
    "plt.show()"
   ],
   "metadata": {
    "id": "IKiFAxiZ_JOE",
    "colab": {
     "base_uri": "https://localhost:8080/",
     "height": 279
    },
    "executionInfo": {
     "status": "ok",
     "timestamp": 1676051149454,
     "user_tz": 300,
     "elapsed": 339,
     "user": {
      "displayName": "JUAN LUIS HERENCIA GUERRA",
      "userId": "07206483212682125217"
     }
    },
    "outputId": "518a3f6c-586f-432c-d279-de1f32ae911c"
   },
   "execution_count": 50,
   "outputs": [
    {
     "output_type": "display_data",
     "data": {
      "text/plain": [
       "<Figure size 432x288 with 1 Axes>"
      ],
      "image/png": "[encoded data removed]"
     },
     "metadata": {
      "needs_background": "light"
     }
    }
   ]
  },
  {
   "cell_type": "markdown",
   "source": [
    "Resolver para x(t) e  y(t) y mostrar las soluciones \n",
    "\n",
    "$dx(t)/dt = 3 exp(-t)$\n",
    "\n",
    "$dy(t)/dt = 3 - y(t)$\n",
    "\n",
    "$x(0) = 0$\n",
    "\n",
    "$y(0) = 0$"
   ],
   "metadata": {
    "id": "tDMhW42vAGZN"
   }
  },
  {
   "cell_type": "code",
   "source": [
    "# función que returna dz/dt\n",
    "def model(z, t):\n",
    "    dxdt = 3.0 * np.exp(-t)\n",
    "    dydt = -z[1] + 3\n",
    "    dzdt = [dxdt, dydt]\n",
    "    return dzdt\n",
    "\n",
    "\n",
    "# condición inicial\n",
    "z0 = [0, 0]\n",
    "\n",
    "# dominio de t\n",
    "t = np.linspace(0, 5)\n",
    "\n",
    "# resolver la EDO\n",
    "z = odeint(model, z0, t)\n",
    "\n",
    "# plot results\n",
    "plt.plot(t, z[:, 0], 'b-', label=r'$\\frac{dx}{dt}=3 \\; \\exp(-t)$')\n",
    "plt.plot(t, z[:, 1], 'r--', label=r'$\\frac{dy}{dt}=-y+3$')\n",
    "plt.ylabel('respuesta')\n",
    "plt.xlabel('tiempo')\n",
    "plt.legend(loc='best')\n",
    "plt.show()"
   ],
   "metadata": {
    "id": "3RoOZqC-_3mN",
    "colab": {
     "base_uri": "https://localhost:8080/",
     "height": 279
    },
    "executionInfo": {
     "status": "ok",
     "timestamp": 1676051590007,
     "user_tz": 300,
     "elapsed": 751,
     "user": {
      "displayName": "JUAN LUIS HERENCIA GUERRA",
      "userId": "07206483212682125217"
     }
    },
    "outputId": "264f0f43-0d9d-4cd9-fb63-385a2429dc3b"
   },
   "execution_count": 51,
   "outputs": [
    {
     "output_type": "display_data",
     "data": {
      "text/plain": [
       "<Figure size 432x288 with 1 Axes>"
      ],
      "image/png": "[encoded data removed]"
     },
     "metadata": {
      "needs_background": "light"
     }
    }
   ]
  },
  {
   "cell_type": "markdown",
   "source": [
    "Resolver\n",
    "\n",
    "$2dx(t)/dt = -x(t) + u(t)$\n",
    "\n",
    "$5dy(t)/dt = -y(t) + x(t)$\n",
    "\n",
    "$u = 2S(t - 5), x(0) = 0, y(0) = 0$\n",
    "\n",
    "donde $S(t−5)$ es una función escalonada que cambia de cero a uno en $t=5$. Cuando se multiplica por dos, cambia de cero a dos al mismo tiempo, $t = 5$."
   ],
   "metadata": {
    "id": "8gz-ipcTBM4s"
   }
  },
  {
   "cell_type": "code",
   "source": [
    "# retorna dz/dt\n",
    "def model(z, t, u):\n",
    "    x = z[0]\n",
    "    y = z[1]\n",
    "    dxdt = (-x + u)/2.0\n",
    "    dydt = (-y + x)/5.0\n",
    "    dzdt = [dxdt, dydt]\n",
    "    return dzdt\n",
    "\n",
    "\n",
    "# condiciones iniciales\n",
    "z0 = [0, 0]\n",
    "\n",
    "# número de puntos\n",
    "n = 401\n",
    "\n",
    "# puntos de tiempo\n",
    "t = np.linspace(0, 40, n)\n",
    "\n",
    "# paso de entrada\n",
    "u = np.zeros(n)\n",
    "# cambio de 2.0 en el timepo = 5.0\n",
    "u[50:] = 2.0\n",
    "\n",
    "# guardar la solución\n",
    "x = np.empty_like(t)\n",
    "y = np.empty_like(t)\n",
    "# guardar las condiciones iniciales\n",
    "x[0] = z0[0]\n",
    "y[0] = z0[1]\n",
    "\n",
    "# Reolver la EDO\n",
    "for i in range(1, n):\n",
    "    # lapso para el próximo paso de tiempo\n",
    "    tspan = [t[i-1], t[i]]\n",
    "    # solve for next step\n",
    "    z = odeint(model, z0, tspan, args=(u[i],))\n",
    "    # guardar los datos para graficar\n",
    "    x[i] = z[1][0]\n",
    "    y[i] = z[1][1]\n",
    "    # sgte condicion inicial\n",
    "    z0 = z[1]\n",
    "\n",
    "# graficar\n",
    "plt.plot(t, u, 'g:', label='u(t)')\n",
    "plt.plot(t, x, 'b-', label='x(t)')\n",
    "plt.plot(t, y, 'r--', label='y(t)')\n",
    "plt.ylabel('valores')\n",
    "plt.xlabel('tiempo')\n",
    "plt.legend(loc='best')\n",
    "plt.show()"
   ],
   "metadata": {
    "id": "BoJ_g1hFBBM9"
   },
   "execution_count": null,
   "outputs": []
  }
 ]
}